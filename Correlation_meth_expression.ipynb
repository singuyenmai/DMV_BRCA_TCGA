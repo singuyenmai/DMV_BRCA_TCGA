{
 "cells": [
  {
   "cell_type": "code",
   "execution_count": 1,
   "metadata": {},
   "outputs": [],
   "source": [
    "import pandas as pd\n",
    "import numpy as np\n",
    "\n",
    "import matplotlib.pyplot as plt\n",
    "import seaborn as sns\n",
    "sns.set(context=\"poster\", style='ticks', font_scale=0.9)\n",
    "\n",
    "%matplotlib inline"
   ]
  },
  {
   "cell_type": "markdown",
   "metadata": {},
   "source": [
    "-------------------------\n",
    "# Find correlation coefficients & corresponding p-values"
   ]
  },
  {
   "cell_type": "code",
   "execution_count": 2,
   "metadata": {},
   "outputs": [
    {
     "name": "stdout",
     "output_type": "stream",
     "text": [
      "(2595325, 5)\n"
     ]
    },
    {
     "data": {
      "text/html": [
       "<div>\n",
       "<style scoped>\n",
       "    .dataframe tbody tr th:only-of-type {\n",
       "        vertical-align: middle;\n",
       "    }\n",
       "\n",
       "    .dataframe tbody tr th {\n",
       "        vertical-align: top;\n",
       "    }\n",
       "\n",
       "    .dataframe thead th {\n",
       "        text-align: right;\n",
       "    }\n",
       "</style>\n",
       "<table border=\"1\" class=\"dataframe\">\n",
       "  <thead>\n",
       "    <tr style=\"text-align: right;\">\n",
       "      <th></th>\n",
       "      <th>case_barcode</th>\n",
       "      <th>sample_barcode</th>\n",
       "      <th>aliquot_barcode</th>\n",
       "      <th>sig-DMD</th>\n",
       "      <th>avg_beta_value</th>\n",
       "    </tr>\n",
       "  </thead>\n",
       "  <tbody>\n",
       "    <tr>\n",
       "      <th>0</th>\n",
       "      <td>TCGA-3C-AAAU</td>\n",
       "      <td>TCGA-3C-AAAU-01A</td>\n",
       "      <td>TCGA-3C-AAAU-01A-11D-A41Q-05</td>\n",
       "      <td>sig-DMD_1</td>\n",
       "      <td>0.770000</td>\n",
       "    </tr>\n",
       "    <tr>\n",
       "      <th>1</th>\n",
       "      <td>TCGA-3C-AAAU</td>\n",
       "      <td>TCGA-3C-AAAU-01A</td>\n",
       "      <td>TCGA-3C-AAAU-01A-11D-A41Q-05</td>\n",
       "      <td>sig-DMD_10</td>\n",
       "      <td>0.217500</td>\n",
       "    </tr>\n",
       "    <tr>\n",
       "      <th>2</th>\n",
       "      <td>TCGA-3C-AAAU</td>\n",
       "      <td>TCGA-3C-AAAU-01A</td>\n",
       "      <td>TCGA-3C-AAAU-01A-11D-A41Q-05</td>\n",
       "      <td>sig-DMD_100</td>\n",
       "      <td>0.720000</td>\n",
       "    </tr>\n",
       "    <tr>\n",
       "      <th>3</th>\n",
       "      <td>TCGA-3C-AAAU</td>\n",
       "      <td>TCGA-3C-AAAU-01A</td>\n",
       "      <td>TCGA-3C-AAAU-01A-11D-A41Q-05</td>\n",
       "      <td>sig-DMD_1000</td>\n",
       "      <td>0.046667</td>\n",
       "    </tr>\n",
       "    <tr>\n",
       "      <th>4</th>\n",
       "      <td>TCGA-3C-AAAU</td>\n",
       "      <td>TCGA-3C-AAAU-01A</td>\n",
       "      <td>TCGA-3C-AAAU-01A-11D-A41Q-05</td>\n",
       "      <td>sig-DMD_1001</td>\n",
       "      <td>0.280000</td>\n",
       "    </tr>\n",
       "  </tbody>\n",
       "</table>\n",
       "</div>"
      ],
      "text/plain": [
       "   case_barcode    sample_barcode               aliquot_barcode       sig-DMD  \\\n",
       "0  TCGA-3C-AAAU  TCGA-3C-AAAU-01A  TCGA-3C-AAAU-01A-11D-A41Q-05     sig-DMD_1   \n",
       "1  TCGA-3C-AAAU  TCGA-3C-AAAU-01A  TCGA-3C-AAAU-01A-11D-A41Q-05    sig-DMD_10   \n",
       "2  TCGA-3C-AAAU  TCGA-3C-AAAU-01A  TCGA-3C-AAAU-01A-11D-A41Q-05   sig-DMD_100   \n",
       "3  TCGA-3C-AAAU  TCGA-3C-AAAU-01A  TCGA-3C-AAAU-01A-11D-A41Q-05  sig-DMD_1000   \n",
       "4  TCGA-3C-AAAU  TCGA-3C-AAAU-01A  TCGA-3C-AAAU-01A-11D-A41Q-05  sig-DMD_1001   \n",
       "\n",
       "   avg_beta_value  \n",
       "0        0.770000  \n",
       "1        0.217500  \n",
       "2        0.720000  \n",
       "3        0.046667  \n",
       "4        0.280000  "
      ]
     },
     "execution_count": 2,
     "metadata": {},
     "output_type": "execute_result"
    }
   ],
   "source": [
    "methylation = pd.read_table(\"./datasets/methylation_sigDMD.HM450.tsv\", sep=\"\\t\")\n",
    "print(methylation.shape)\n",
    "methylation.head()"
   ]
  },
  {
   "cell_type": "code",
   "execution_count": 3,
   "metadata": {},
   "outputs": [
    {
     "name": "stdout",
     "output_type": "stream",
     "text": [
      "(892, 2905)\n"
     ]
    },
    {
     "data": {
      "text/html": [
       "<div>\n",
       "<style scoped>\n",
       "    .dataframe tbody tr th:only-of-type {\n",
       "        vertical-align: middle;\n",
       "    }\n",
       "\n",
       "    .dataframe tbody tr th {\n",
       "        vertical-align: top;\n",
       "    }\n",
       "\n",
       "    .dataframe thead th {\n",
       "        text-align: right;\n",
       "    }\n",
       "</style>\n",
       "<table border=\"1\" class=\"dataframe\">\n",
       "  <thead>\n",
       "    <tr style=\"text-align: right;\">\n",
       "      <th>sig-DMD</th>\n",
       "      <th>sig-DMD_1</th>\n",
       "      <th>sig-DMD_10</th>\n",
       "      <th>sig-DMD_100</th>\n",
       "      <th>sig-DMD_1000</th>\n",
       "      <th>sig-DMD_1001</th>\n",
       "      <th>sig-DMD_1002</th>\n",
       "      <th>sig-DMD_1003</th>\n",
       "      <th>sig-DMD_1004</th>\n",
       "      <th>sig-DMD_1005</th>\n",
       "      <th>sig-DMD_1006</th>\n",
       "      <th>...</th>\n",
       "      <th>sig-DMD_981</th>\n",
       "      <th>sig-DMD_983</th>\n",
       "      <th>sig-DMD_985</th>\n",
       "      <th>sig-DMD_987</th>\n",
       "      <th>sig-DMD_988</th>\n",
       "      <th>sig-DMD_990</th>\n",
       "      <th>sig-DMD_991</th>\n",
       "      <th>sig-DMD_993</th>\n",
       "      <th>sig-DMD_995</th>\n",
       "      <th>sig-DMD_999</th>\n",
       "    </tr>\n",
       "    <tr>\n",
       "      <th>sample_barcode</th>\n",
       "      <th></th>\n",
       "      <th></th>\n",
       "      <th></th>\n",
       "      <th></th>\n",
       "      <th></th>\n",
       "      <th></th>\n",
       "      <th></th>\n",
       "      <th></th>\n",
       "      <th></th>\n",
       "      <th></th>\n",
       "      <th></th>\n",
       "      <th></th>\n",
       "      <th></th>\n",
       "      <th></th>\n",
       "      <th></th>\n",
       "      <th></th>\n",
       "      <th></th>\n",
       "      <th></th>\n",
       "      <th></th>\n",
       "      <th></th>\n",
       "      <th></th>\n",
       "    </tr>\n",
       "  </thead>\n",
       "  <tbody>\n",
       "    <tr>\n",
       "      <th>TCGA-3C-AAAU-01A</th>\n",
       "      <td>0.77</td>\n",
       "      <td>0.2175</td>\n",
       "      <td>0.72</td>\n",
       "      <td>0.046667</td>\n",
       "      <td>0.280</td>\n",
       "      <td>0.201667</td>\n",
       "      <td>0.666667</td>\n",
       "      <td>0.640</td>\n",
       "      <td>0.094</td>\n",
       "      <td>0.430</td>\n",
       "      <td>...</td>\n",
       "      <td>0.345</td>\n",
       "      <td>0.66</td>\n",
       "      <td>0.676</td>\n",
       "      <td>0.642</td>\n",
       "      <td>0.89</td>\n",
       "      <td>0.51</td>\n",
       "      <td>0.4225</td>\n",
       "      <td>0.485</td>\n",
       "      <td>0.650000</td>\n",
       "      <td>0.10</td>\n",
       "    </tr>\n",
       "    <tr>\n",
       "      <th>TCGA-3C-AALI-01A</th>\n",
       "      <td>0.78</td>\n",
       "      <td>0.4750</td>\n",
       "      <td>0.38</td>\n",
       "      <td>0.166667</td>\n",
       "      <td>0.666</td>\n",
       "      <td>0.343333</td>\n",
       "      <td>0.830000</td>\n",
       "      <td>0.728</td>\n",
       "      <td>0.448</td>\n",
       "      <td>0.665</td>\n",
       "      <td>...</td>\n",
       "      <td>0.162</td>\n",
       "      <td>0.30</td>\n",
       "      <td>0.370</td>\n",
       "      <td>0.392</td>\n",
       "      <td>0.44</td>\n",
       "      <td>0.34</td>\n",
       "      <td>0.3125</td>\n",
       "      <td>0.335</td>\n",
       "      <td>0.224286</td>\n",
       "      <td>0.11</td>\n",
       "    </tr>\n",
       "    <tr>\n",
       "      <th>TCGA-3C-AALJ-01A</th>\n",
       "      <td>0.74</td>\n",
       "      <td>0.3625</td>\n",
       "      <td>0.43</td>\n",
       "      <td>0.206667</td>\n",
       "      <td>0.632</td>\n",
       "      <td>0.223333</td>\n",
       "      <td>0.820000</td>\n",
       "      <td>0.708</td>\n",
       "      <td>0.252</td>\n",
       "      <td>0.660</td>\n",
       "      <td>...</td>\n",
       "      <td>0.295</td>\n",
       "      <td>0.38</td>\n",
       "      <td>0.430</td>\n",
       "      <td>0.466</td>\n",
       "      <td>0.42</td>\n",
       "      <td>0.40</td>\n",
       "      <td>0.5100</td>\n",
       "      <td>0.600</td>\n",
       "      <td>0.631429</td>\n",
       "      <td>0.10</td>\n",
       "    </tr>\n",
       "    <tr>\n",
       "      <th>TCGA-3C-AALK-01A</th>\n",
       "      <td>0.82</td>\n",
       "      <td>0.4725</td>\n",
       "      <td>0.45</td>\n",
       "      <td>0.236667</td>\n",
       "      <td>0.408</td>\n",
       "      <td>0.289091</td>\n",
       "      <td>0.806667</td>\n",
       "      <td>0.650</td>\n",
       "      <td>0.352</td>\n",
       "      <td>0.585</td>\n",
       "      <td>...</td>\n",
       "      <td>0.387</td>\n",
       "      <td>0.52</td>\n",
       "      <td>0.630</td>\n",
       "      <td>0.630</td>\n",
       "      <td>0.66</td>\n",
       "      <td>0.44</td>\n",
       "      <td>0.4725</td>\n",
       "      <td>0.560</td>\n",
       "      <td>0.197143</td>\n",
       "      <td>0.20</td>\n",
       "    </tr>\n",
       "    <tr>\n",
       "      <th>TCGA-4H-AAAK-01A</th>\n",
       "      <td>0.69</td>\n",
       "      <td>0.3475</td>\n",
       "      <td>0.39</td>\n",
       "      <td>0.070000</td>\n",
       "      <td>0.260</td>\n",
       "      <td>0.180833</td>\n",
       "      <td>0.790000</td>\n",
       "      <td>0.662</td>\n",
       "      <td>0.148</td>\n",
       "      <td>0.590</td>\n",
       "      <td>...</td>\n",
       "      <td>0.236</td>\n",
       "      <td>0.51</td>\n",
       "      <td>0.580</td>\n",
       "      <td>0.590</td>\n",
       "      <td>0.58</td>\n",
       "      <td>0.42</td>\n",
       "      <td>0.3500</td>\n",
       "      <td>0.700</td>\n",
       "      <td>0.104286</td>\n",
       "      <td>0.18</td>\n",
       "    </tr>\n",
       "  </tbody>\n",
       "</table>\n",
       "<p>5 rows × 2905 columns</p>\n",
       "</div>"
      ],
      "text/plain": [
       "sig-DMD           sig-DMD_1  sig-DMD_10  sig-DMD_100  sig-DMD_1000  \\\n",
       "sample_barcode                                                       \n",
       "TCGA-3C-AAAU-01A       0.77      0.2175         0.72      0.046667   \n",
       "TCGA-3C-AALI-01A       0.78      0.4750         0.38      0.166667   \n",
       "TCGA-3C-AALJ-01A       0.74      0.3625         0.43      0.206667   \n",
       "TCGA-3C-AALK-01A       0.82      0.4725         0.45      0.236667   \n",
       "TCGA-4H-AAAK-01A       0.69      0.3475         0.39      0.070000   \n",
       "\n",
       "sig-DMD           sig-DMD_1001  sig-DMD_1002  sig-DMD_1003  sig-DMD_1004  \\\n",
       "sample_barcode                                                             \n",
       "TCGA-3C-AAAU-01A         0.280      0.201667      0.666667         0.640   \n",
       "TCGA-3C-AALI-01A         0.666      0.343333      0.830000         0.728   \n",
       "TCGA-3C-AALJ-01A         0.632      0.223333      0.820000         0.708   \n",
       "TCGA-3C-AALK-01A         0.408      0.289091      0.806667         0.650   \n",
       "TCGA-4H-AAAK-01A         0.260      0.180833      0.790000         0.662   \n",
       "\n",
       "sig-DMD           sig-DMD_1005  sig-DMD_1006     ...       sig-DMD_981  \\\n",
       "sample_barcode                                   ...                     \n",
       "TCGA-3C-AAAU-01A         0.094         0.430     ...             0.345   \n",
       "TCGA-3C-AALI-01A         0.448         0.665     ...             0.162   \n",
       "TCGA-3C-AALJ-01A         0.252         0.660     ...             0.295   \n",
       "TCGA-3C-AALK-01A         0.352         0.585     ...             0.387   \n",
       "TCGA-4H-AAAK-01A         0.148         0.590     ...             0.236   \n",
       "\n",
       "sig-DMD           sig-DMD_983  sig-DMD_985  sig-DMD_987  sig-DMD_988  \\\n",
       "sample_barcode                                                         \n",
       "TCGA-3C-AAAU-01A         0.66        0.676        0.642         0.89   \n",
       "TCGA-3C-AALI-01A         0.30        0.370        0.392         0.44   \n",
       "TCGA-3C-AALJ-01A         0.38        0.430        0.466         0.42   \n",
       "TCGA-3C-AALK-01A         0.52        0.630        0.630         0.66   \n",
       "TCGA-4H-AAAK-01A         0.51        0.580        0.590         0.58   \n",
       "\n",
       "sig-DMD           sig-DMD_990  sig-DMD_991  sig-DMD_993  sig-DMD_995  \\\n",
       "sample_barcode                                                         \n",
       "TCGA-3C-AAAU-01A         0.51       0.4225        0.485     0.650000   \n",
       "TCGA-3C-AALI-01A         0.34       0.3125        0.335     0.224286   \n",
       "TCGA-3C-AALJ-01A         0.40       0.5100        0.600     0.631429   \n",
       "TCGA-3C-AALK-01A         0.44       0.4725        0.560     0.197143   \n",
       "TCGA-4H-AAAK-01A         0.42       0.3500        0.700     0.104286   \n",
       "\n",
       "sig-DMD           sig-DMD_999  \n",
       "sample_barcode                 \n",
       "TCGA-3C-AAAU-01A         0.10  \n",
       "TCGA-3C-AALI-01A         0.11  \n",
       "TCGA-3C-AALJ-01A         0.10  \n",
       "TCGA-3C-AALK-01A         0.20  \n",
       "TCGA-4H-AAAK-01A         0.18  \n",
       "\n",
       "[5 rows x 2905 columns]"
      ]
     },
     "execution_count": 3,
     "metadata": {},
     "output_type": "execute_result"
    }
   ],
   "source": [
    "methylation_matrix = methylation.groupby(['case_barcode', 'sample_barcode', 'sig-DMD'], \n",
    "                                         as_index=False)['avg_beta_value'].mean().pivot(index='sample_barcode', \n",
    "                                                                                     columns='sig-DMD', \n",
    "                                                                                     values='avg_beta_value')\n",
    "print(methylation_matrix.shape)\n",
    "methylation_matrix.head()"
   ]
  },
  {
   "cell_type": "code",
   "execution_count": 4,
   "metadata": {},
   "outputs": [
    {
     "name": "stdout",
     "output_type": "stream",
     "text": [
      "(4194180, 6)\n"
     ]
    },
    {
     "data": {
      "text/html": [
       "<div>\n",
       "<style scoped>\n",
       "    .dataframe tbody tr th:only-of-type {\n",
       "        vertical-align: middle;\n",
       "    }\n",
       "\n",
       "    .dataframe tbody tr th {\n",
       "        vertical-align: top;\n",
       "    }\n",
       "\n",
       "    .dataframe thead th {\n",
       "        text-align: right;\n",
       "    }\n",
       "</style>\n",
       "<table border=\"1\" class=\"dataframe\">\n",
       "  <thead>\n",
       "    <tr style=\"text-align: right;\">\n",
       "      <th></th>\n",
       "      <th>case_barcode</th>\n",
       "      <th>sample_barcode</th>\n",
       "      <th>aliquot_barcode</th>\n",
       "      <th>gene_symbol</th>\n",
       "      <th>normalized_count</th>\n",
       "      <th>transformed_count</th>\n",
       "    </tr>\n",
       "  </thead>\n",
       "  <tbody>\n",
       "    <tr>\n",
       "      <th>0</th>\n",
       "      <td>TCGA-3C-AAAU</td>\n",
       "      <td>TCGA-3C-AAAU-01A</td>\n",
       "      <td>TCGA-3C-AAAU-01A-11R-A41B-07</td>\n",
       "      <td>A1CF</td>\n",
       "      <td>0.0000</td>\n",
       "      <td>0.000000</td>\n",
       "    </tr>\n",
       "    <tr>\n",
       "      <th>1</th>\n",
       "      <td>TCGA-3C-AAAU</td>\n",
       "      <td>TCGA-3C-AAAU-01A</td>\n",
       "      <td>TCGA-3C-AAAU-01A-11R-A41B-07</td>\n",
       "      <td>AACS</td>\n",
       "      <td>1087.3986</td>\n",
       "      <td>10.087991</td>\n",
       "    </tr>\n",
       "    <tr>\n",
       "      <th>2</th>\n",
       "      <td>TCGA-3C-AAAU</td>\n",
       "      <td>TCGA-3C-AAAU-01A</td>\n",
       "      <td>TCGA-3C-AAAU-01A-11R-A41B-07</td>\n",
       "      <td>AARS2</td>\n",
       "      <td>689.8967</td>\n",
       "      <td>9.432326</td>\n",
       "    </tr>\n",
       "    <tr>\n",
       "      <th>3</th>\n",
       "      <td>TCGA-3C-AAAU</td>\n",
       "      <td>TCGA-3C-AAAU-01A</td>\n",
       "      <td>TCGA-3C-AAAU-01A-11R-A41B-07</td>\n",
       "      <td>AASS</td>\n",
       "      <td>45.8396</td>\n",
       "      <td>5.549657</td>\n",
       "    </tr>\n",
       "    <tr>\n",
       "      <th>4</th>\n",
       "      <td>TCGA-3C-AAAU</td>\n",
       "      <td>TCGA-3C-AAAU-01A</td>\n",
       "      <td>TCGA-3C-AAAU-01A-11R-A41B-07</td>\n",
       "      <td>AATF</td>\n",
       "      <td>1518.9114</td>\n",
       "      <td>10.569772</td>\n",
       "    </tr>\n",
       "  </tbody>\n",
       "</table>\n",
       "</div>"
      ],
      "text/plain": [
       "   case_barcode    sample_barcode               aliquot_barcode gene_symbol  \\\n",
       "0  TCGA-3C-AAAU  TCGA-3C-AAAU-01A  TCGA-3C-AAAU-01A-11R-A41B-07        A1CF   \n",
       "1  TCGA-3C-AAAU  TCGA-3C-AAAU-01A  TCGA-3C-AAAU-01A-11R-A41B-07        AACS   \n",
       "2  TCGA-3C-AAAU  TCGA-3C-AAAU-01A  TCGA-3C-AAAU-01A-11R-A41B-07       AARS2   \n",
       "3  TCGA-3C-AAAU  TCGA-3C-AAAU-01A  TCGA-3C-AAAU-01A-11R-A41B-07        AASS   \n",
       "4  TCGA-3C-AAAU  TCGA-3C-AAAU-01A  TCGA-3C-AAAU-01A-11R-A41B-07        AATF   \n",
       "\n",
       "   normalized_count  transformed_count  \n",
       "0            0.0000           0.000000  \n",
       "1         1087.3986          10.087991  \n",
       "2          689.8967           9.432326  \n",
       "3           45.8396           5.549657  \n",
       "4         1518.9114          10.569772  "
      ]
     },
     "execution_count": 4,
     "metadata": {},
     "output_type": "execute_result"
    }
   ],
   "source": [
    "expression = pd.read_table(\"./datasets/expression.IlluminaHiSeq.tsv\", sep=\"\\t\")\n",
    "print(expression.shape)\n",
    "expression.head()"
   ]
  },
  {
   "cell_type": "code",
   "execution_count": 5,
   "metadata": {
    "scrolled": true
   },
   "outputs": [
    {
     "name": "stdout",
     "output_type": "stream",
     "text": [
      "(1215, 3452)\n"
     ]
    },
    {
     "data": {
      "text/html": [
       "<div>\n",
       "<style scoped>\n",
       "    .dataframe tbody tr th:only-of-type {\n",
       "        vertical-align: middle;\n",
       "    }\n",
       "\n",
       "    .dataframe tbody tr th {\n",
       "        vertical-align: top;\n",
       "    }\n",
       "\n",
       "    .dataframe thead th {\n",
       "        text-align: right;\n",
       "    }\n",
       "</style>\n",
       "<table border=\"1\" class=\"dataframe\">\n",
       "  <thead>\n",
       "    <tr style=\"text-align: right;\">\n",
       "      <th>gene_symbol</th>\n",
       "      <th>A1CF</th>\n",
       "      <th>AACS</th>\n",
       "      <th>AARS2</th>\n",
       "      <th>AASS</th>\n",
       "      <th>AATF</th>\n",
       "      <th>AATK</th>\n",
       "      <th>ABCA10</th>\n",
       "      <th>ABCA2</th>\n",
       "      <th>ABCA5</th>\n",
       "      <th>ABCB5</th>\n",
       "      <th>...</th>\n",
       "      <th>ZNF775</th>\n",
       "      <th>ZNF777</th>\n",
       "      <th>ZNF827</th>\n",
       "      <th>ZNF839</th>\n",
       "      <th>ZNRD1</th>\n",
       "      <th>ZNRF1</th>\n",
       "      <th>ZNRF2</th>\n",
       "      <th>ZP4</th>\n",
       "      <th>ZSCAN2</th>\n",
       "      <th>ZSWIM4</th>\n",
       "    </tr>\n",
       "    <tr>\n",
       "      <th>sample_barcode</th>\n",
       "      <th></th>\n",
       "      <th></th>\n",
       "      <th></th>\n",
       "      <th></th>\n",
       "      <th></th>\n",
       "      <th></th>\n",
       "      <th></th>\n",
       "      <th></th>\n",
       "      <th></th>\n",
       "      <th></th>\n",
       "      <th></th>\n",
       "      <th></th>\n",
       "      <th></th>\n",
       "      <th></th>\n",
       "      <th></th>\n",
       "      <th></th>\n",
       "      <th></th>\n",
       "      <th></th>\n",
       "      <th></th>\n",
       "      <th></th>\n",
       "      <th></th>\n",
       "    </tr>\n",
       "  </thead>\n",
       "  <tbody>\n",
       "    <tr>\n",
       "      <th>TCGA-3C-AAAU-01A</th>\n",
       "      <td>0.000000</td>\n",
       "      <td>10.087991</td>\n",
       "      <td>9.432326</td>\n",
       "      <td>5.549657</td>\n",
       "      <td>10.569772</td>\n",
       "      <td>9.277504</td>\n",
       "      <td>4.107135</td>\n",
       "      <td>12.138415</td>\n",
       "      <td>9.636794</td>\n",
       "      <td>0.427284</td>\n",
       "      <td>...</td>\n",
       "      <td>6.775676</td>\n",
       "      <td>9.561866</td>\n",
       "      <td>8.079609</td>\n",
       "      <td>8.746215</td>\n",
       "      <td>8.640238</td>\n",
       "      <td>9.162728</td>\n",
       "      <td>8.700333</td>\n",
       "      <td>0.000000</td>\n",
       "      <td>9.188523</td>\n",
       "      <td>8.937861</td>\n",
       "    </tr>\n",
       "    <tr>\n",
       "      <th>TCGA-3C-AALI-01A</th>\n",
       "      <td>0.000000</td>\n",
       "      <td>9.709642</td>\n",
       "      <td>8.887225</td>\n",
       "      <td>6.185432</td>\n",
       "      <td>12.901294</td>\n",
       "      <td>6.763773</td>\n",
       "      <td>4.243707</td>\n",
       "      <td>11.186777</td>\n",
       "      <td>8.606584</td>\n",
       "      <td>3.194812</td>\n",
       "      <td>...</td>\n",
       "      <td>7.233982</td>\n",
       "      <td>9.462974</td>\n",
       "      <td>7.764354</td>\n",
       "      <td>8.698203</td>\n",
       "      <td>8.526452</td>\n",
       "      <td>9.012618</td>\n",
       "      <td>9.718050</td>\n",
       "      <td>0.626486</td>\n",
       "      <td>7.892036</td>\n",
       "      <td>8.897247</td>\n",
       "    </tr>\n",
       "    <tr>\n",
       "      <th>TCGA-3C-AALJ-01A</th>\n",
       "      <td>0.931002</td>\n",
       "      <td>10.583169</td>\n",
       "      <td>8.783685</td>\n",
       "      <td>6.269705</td>\n",
       "      <td>11.035428</td>\n",
       "      <td>7.190406</td>\n",
       "      <td>4.817547</td>\n",
       "      <td>11.648143</td>\n",
       "      <td>9.130271</td>\n",
       "      <td>2.468088</td>\n",
       "      <td>...</td>\n",
       "      <td>7.049410</td>\n",
       "      <td>9.242494</td>\n",
       "      <td>7.135650</td>\n",
       "      <td>8.623780</td>\n",
       "      <td>9.159659</td>\n",
       "      <td>9.719814</td>\n",
       "      <td>8.063642</td>\n",
       "      <td>0.000000</td>\n",
       "      <td>8.073386</td>\n",
       "      <td>8.927622</td>\n",
       "    </tr>\n",
       "    <tr>\n",
       "      <th>TCGA-3C-AALK-01A</th>\n",
       "      <td>0.000000</td>\n",
       "      <td>9.746663</td>\n",
       "      <td>8.758011</td>\n",
       "      <td>7.525796</td>\n",
       "      <td>10.904020</td>\n",
       "      <td>6.918666</td>\n",
       "      <td>4.619589</td>\n",
       "      <td>10.426536</td>\n",
       "      <td>8.690281</td>\n",
       "      <td>1.164271</td>\n",
       "      <td>...</td>\n",
       "      <td>7.271427</td>\n",
       "      <td>8.875789</td>\n",
       "      <td>8.641791</td>\n",
       "      <td>8.249201</td>\n",
       "      <td>8.488462</td>\n",
       "      <td>9.560002</td>\n",
       "      <td>9.307434</td>\n",
       "      <td>0.499476</td>\n",
       "      <td>8.257027</td>\n",
       "      <td>9.293233</td>\n",
       "    </tr>\n",
       "    <tr>\n",
       "      <th>TCGA-4H-AAAK-01A</th>\n",
       "      <td>0.511468</td>\n",
       "      <td>9.715962</td>\n",
       "      <td>9.177038</td>\n",
       "      <td>8.596031</td>\n",
       "      <td>10.362294</td>\n",
       "      <td>5.182657</td>\n",
       "      <td>4.983600</td>\n",
       "      <td>9.889099</td>\n",
       "      <td>7.768325</td>\n",
       "      <td>0.511468</td>\n",
       "      <td>...</td>\n",
       "      <td>6.856657</td>\n",
       "      <td>9.220970</td>\n",
       "      <td>8.233620</td>\n",
       "      <td>8.827157</td>\n",
       "      <td>8.421205</td>\n",
       "      <td>8.849954</td>\n",
       "      <td>9.163248</td>\n",
       "      <td>0.511468</td>\n",
       "      <td>8.379010</td>\n",
       "      <td>9.835009</td>\n",
       "    </tr>\n",
       "  </tbody>\n",
       "</table>\n",
       "<p>5 rows × 3452 columns</p>\n",
       "</div>"
      ],
      "text/plain": [
       "gene_symbol           A1CF       AACS     AARS2      AASS       AATF  \\\n",
       "sample_barcode                                                         \n",
       "TCGA-3C-AAAU-01A  0.000000  10.087991  9.432326  5.549657  10.569772   \n",
       "TCGA-3C-AALI-01A  0.000000   9.709642  8.887225  6.185432  12.901294   \n",
       "TCGA-3C-AALJ-01A  0.931002  10.583169  8.783685  6.269705  11.035428   \n",
       "TCGA-3C-AALK-01A  0.000000   9.746663  8.758011  7.525796  10.904020   \n",
       "TCGA-4H-AAAK-01A  0.511468   9.715962  9.177038  8.596031  10.362294   \n",
       "\n",
       "gene_symbol           AATK    ABCA10      ABCA2     ABCA5     ABCB5    ...     \\\n",
       "sample_barcode                                                         ...      \n",
       "TCGA-3C-AAAU-01A  9.277504  4.107135  12.138415  9.636794  0.427284    ...      \n",
       "TCGA-3C-AALI-01A  6.763773  4.243707  11.186777  8.606584  3.194812    ...      \n",
       "TCGA-3C-AALJ-01A  7.190406  4.817547  11.648143  9.130271  2.468088    ...      \n",
       "TCGA-3C-AALK-01A  6.918666  4.619589  10.426536  8.690281  1.164271    ...      \n",
       "TCGA-4H-AAAK-01A  5.182657  4.983600   9.889099  7.768325  0.511468    ...      \n",
       "\n",
       "gene_symbol         ZNF775    ZNF777    ZNF827    ZNF839     ZNRD1     ZNRF1  \\\n",
       "sample_barcode                                                                 \n",
       "TCGA-3C-AAAU-01A  6.775676  9.561866  8.079609  8.746215  8.640238  9.162728   \n",
       "TCGA-3C-AALI-01A  7.233982  9.462974  7.764354  8.698203  8.526452  9.012618   \n",
       "TCGA-3C-AALJ-01A  7.049410  9.242494  7.135650  8.623780  9.159659  9.719814   \n",
       "TCGA-3C-AALK-01A  7.271427  8.875789  8.641791  8.249201  8.488462  9.560002   \n",
       "TCGA-4H-AAAK-01A  6.856657  9.220970  8.233620  8.827157  8.421205  8.849954   \n",
       "\n",
       "gene_symbol          ZNRF2       ZP4    ZSCAN2    ZSWIM4  \n",
       "sample_barcode                                            \n",
       "TCGA-3C-AAAU-01A  8.700333  0.000000  9.188523  8.937861  \n",
       "TCGA-3C-AALI-01A  9.718050  0.626486  7.892036  8.897247  \n",
       "TCGA-3C-AALJ-01A  8.063642  0.000000  8.073386  8.927622  \n",
       "TCGA-3C-AALK-01A  9.307434  0.499476  8.257027  9.293233  \n",
       "TCGA-4H-AAAK-01A  9.163248  0.511468  8.379010  9.835009  \n",
       "\n",
       "[5 rows x 3452 columns]"
      ]
     },
     "execution_count": 5,
     "metadata": {},
     "output_type": "execute_result"
    }
   ],
   "source": [
    "expression_matrix = expression.pivot(index='sample_barcode', columns='gene_symbol', values='transformed_count')\n",
    "print(expression_matrix.shape)\n",
    "expression_matrix.head()"
   ]
  },
  {
   "cell_type": "code",
   "execution_count": 6,
   "metadata": {
    "scrolled": true
   },
   "outputs": [
    {
     "name": "stdout",
     "output_type": "stream",
     "text": [
      "(3518, 1)\n"
     ]
    },
    {
     "data": {
      "text/html": [
       "<div>\n",
       "<style scoped>\n",
       "    .dataframe tbody tr th:only-of-type {\n",
       "        vertical-align: middle;\n",
       "    }\n",
       "\n",
       "    .dataframe tbody tr th {\n",
       "        vertical-align: top;\n",
       "    }\n",
       "\n",
       "    .dataframe thead th {\n",
       "        text-align: right;\n",
       "    }\n",
       "</style>\n",
       "<table border=\"1\" class=\"dataframe\">\n",
       "  <thead>\n",
       "    <tr style=\"text-align: right;\">\n",
       "      <th></th>\n",
       "      <th>sig-DMD</th>\n",
       "    </tr>\n",
       "    <tr>\n",
       "      <th>gene_symbol</th>\n",
       "      <th></th>\n",
       "    </tr>\n",
       "  </thead>\n",
       "  <tbody>\n",
       "    <tr>\n",
       "      <th>A1CF</th>\n",
       "      <td>sig-DMD_563, sig-DMD_564</td>\n",
       "    </tr>\n",
       "    <tr>\n",
       "      <th>AACS</th>\n",
       "      <td>sig-DMD_1083, sig-DMD_1084, sig-DMD_1085, sig-...</td>\n",
       "    </tr>\n",
       "    <tr>\n",
       "      <th>AARS2</th>\n",
       "      <td>sig-DMD_3701</td>\n",
       "    </tr>\n",
       "    <tr>\n",
       "      <th>AASS</th>\n",
       "      <td>sig-DMD_3915</td>\n",
       "    </tr>\n",
       "    <tr>\n",
       "      <th>AATF</th>\n",
       "      <td>sig-DMD_2188</td>\n",
       "    </tr>\n",
       "  </tbody>\n",
       "</table>\n",
       "</div>"
      ],
      "text/plain": [
       "                                                       sig-DMD\n",
       "gene_symbol                                                   \n",
       "A1CF                                  sig-DMD_563, sig-DMD_564\n",
       "AACS         sig-DMD_1083, sig-DMD_1084, sig-DMD_1085, sig-...\n",
       "AARS2                                             sig-DMD_3701\n",
       "AASS                                              sig-DMD_3915\n",
       "AATF                                              sig-DMD_2188"
      ]
     },
     "execution_count": 6,
     "metadata": {},
     "output_type": "execute_result"
    }
   ],
   "source": [
    "gene_sigDMD = pd.read_table(\"./preliminary/sig-DMD.union.includeERR.gene_region\", sep=\"\\t\", header=None)\n",
    "gene_sigDMD.columns = ['gene_symbol', 'sig-DMD']\n",
    "gene_sigDMD.set_index('gene_symbol', inplace=True)\n",
    "print(gene_sigDMD.shape)\n",
    "gene_sigDMD.head()"
   ]
  },
  {
   "cell_type": "code",
   "execution_count": 7,
   "metadata": {},
   "outputs": [
    {
     "data": {
      "text/plain": [
       "(870, 2)"
      ]
     },
     "execution_count": 7,
     "metadata": {},
     "output_type": "execute_result"
    }
   ],
   "source": [
    "pd.merge(expression_matrix[['AARS2']], methylation_matrix[['sig-DMD_3701']],\n",
    "         how='inner', left_index=True, right_index=True).shape"
   ]
  },
  {
   "cell_type": "markdown",
   "metadata": {},
   "source": [
    "===> 870 samples tested for each pair of gene-signature"
   ]
  },
  {
   "cell_type": "markdown",
   "metadata": {},
   "source": [
    "----------------------------"
   ]
  },
  {
   "cell_type": "code",
   "execution_count": 7,
   "metadata": {},
   "outputs": [],
   "source": [
    "def permutation_test(const_var, perm_var, obs_r, n): \n",
    "    # Initialize permutation replicates: perm_replicates\n",
    "    perm_replicates = np.empty(n)\n",
    "\n",
    "    # Draw replicates\n",
    "    for i in range(n):\n",
    "        # Permute perm_var measurments:\n",
    "        permuted_values = np.random.permutation(perm_var)\n",
    "\n",
    "        # Compute Pearson correlation\n",
    "        perm_replicates[i] = np.corrcoef(permuted_values, const_var)[0,1]\n",
    "\n",
    "    # Compute p-value: p\n",
    "    p = np.sum(perm_replicates >= obs_r) / len(perm_replicates) if obs_r>0 \\\n",
    "        else np.sum(perm_replicates <= obs_r) / len(perm_replicates)\n",
    "    \n",
    "    return(p)"
   ]
  },
  {
   "cell_type": "markdown",
   "metadata": {},
   "source": [
    "### Warning: The below code cell will involve large number of computations, thus will take hours to complete"
   ]
  },
  {
   "cell_type": "code",
   "execution_count": 8,
   "metadata": {
    "scrolled": true
   },
   "outputs": [
    {
     "name": "stderr",
     "output_type": "stream",
     "text": [
      "/home/singuyen/anaconda3/envs/dmv_py36/lib/python3.6/site-packages/ipykernel/__main__.py:14: RuntimeWarning: invalid value encountered in greater_equal\n",
      "/home/singuyen/anaconda3/envs/dmv_py36/lib/python3.6/site-packages/ipykernel/__main__.py:15: RuntimeWarning: invalid value encountered in less_equal\n"
     ]
    }
   ],
   "source": [
    "dmds_meth = methylation_matrix.columns\n",
    "corr_coefs_pvals = []\n",
    "no_meth = []\n",
    "\n",
    "for g in expression_matrix.columns:\n",
    "    \n",
    "    dmds = gene_sigDMD.loc[g, 'sig-DMD'].split(sep=\", \")\n",
    "    regions = dmds_meth.intersection(dmds)\n",
    "    \n",
    "    if (len(regions) > 0):\n",
    "        \n",
    "        expr = expression_matrix.loc[:, g]\n",
    "        meth = methylation_matrix.loc[:, regions]\n",
    "        df = pd.merge(expr, meth, how='inner', left_index=True, right_index=True)\n",
    "\n",
    "        for r in regions:\n",
    "            corr_coef = np.corrcoef(df[g], df[r])[0,1]\n",
    "            if not np.isnan(corr_coef):\n",
    "                p = permutation_test(const_var = df[r], perm_var = df[g], obs_r = corr_coef, n=10000)\n",
    "            else: \n",
    "                p = np.nan\n",
    "            corr_coefs_pvals.append([g, r, corr_coef, p])\n",
    "    else:\n",
    "        no_meth.append(g)"
   ]
  },
  {
   "cell_type": "code",
   "execution_count": 9,
   "metadata": {},
   "outputs": [
    {
     "data": {
      "text/plain": [
       "264"
      ]
     },
     "execution_count": 9,
     "metadata": {},
     "output_type": "execute_result"
    }
   ],
   "source": [
    "len(no_meth) #Genes that don't have corresponding methylation of associated sig-DMDs"
   ]
  },
  {
   "cell_type": "code",
   "execution_count": 10,
   "metadata": {},
   "outputs": [
    {
     "name": "stdout",
     "output_type": "stream",
     "text": [
      "(6058, 4)\n"
     ]
    },
    {
     "data": {
      "text/html": [
       "<div>\n",
       "<style scoped>\n",
       "    .dataframe tbody tr th:only-of-type {\n",
       "        vertical-align: middle;\n",
       "    }\n",
       "\n",
       "    .dataframe tbody tr th {\n",
       "        vertical-align: top;\n",
       "    }\n",
       "\n",
       "    .dataframe thead th {\n",
       "        text-align: right;\n",
       "    }\n",
       "</style>\n",
       "<table border=\"1\" class=\"dataframe\">\n",
       "  <thead>\n",
       "    <tr style=\"text-align: right;\">\n",
       "      <th></th>\n",
       "      <th>gene_symbol</th>\n",
       "      <th>sig-DMD</th>\n",
       "      <th>corr_coef</th>\n",
       "      <th>p_value</th>\n",
       "    </tr>\n",
       "  </thead>\n",
       "  <tbody>\n",
       "    <tr>\n",
       "      <th>0</th>\n",
       "      <td>A1CF</td>\n",
       "      <td>sig-DMD_563</td>\n",
       "      <td>-0.006164</td>\n",
       "      <td>0.4519</td>\n",
       "    </tr>\n",
       "    <tr>\n",
       "      <th>1</th>\n",
       "      <td>AACS</td>\n",
       "      <td>sig-DMD_1083</td>\n",
       "      <td>0.028767</td>\n",
       "      <td>0.2015</td>\n",
       "    </tr>\n",
       "    <tr>\n",
       "      <th>2</th>\n",
       "      <td>AACS</td>\n",
       "      <td>sig-DMD_1086</td>\n",
       "      <td>0.003141</td>\n",
       "      <td>0.4611</td>\n",
       "    </tr>\n",
       "    <tr>\n",
       "      <th>3</th>\n",
       "      <td>AARS2</td>\n",
       "      <td>sig-DMD_3701</td>\n",
       "      <td>-0.084966</td>\n",
       "      <td>0.0055</td>\n",
       "    </tr>\n",
       "    <tr>\n",
       "      <th>4</th>\n",
       "      <td>AASS</td>\n",
       "      <td>sig-DMD_3915</td>\n",
       "      <td>-0.308366</td>\n",
       "      <td>0.0000</td>\n",
       "    </tr>\n",
       "  </tbody>\n",
       "</table>\n",
       "</div>"
      ],
      "text/plain": [
       "  gene_symbol       sig-DMD  corr_coef  p_value\n",
       "0        A1CF   sig-DMD_563  -0.006164   0.4519\n",
       "1        AACS  sig-DMD_1083   0.028767   0.2015\n",
       "2        AACS  sig-DMD_1086   0.003141   0.4611\n",
       "3       AARS2  sig-DMD_3701  -0.084966   0.0055\n",
       "4        AASS  sig-DMD_3915  -0.308366   0.0000"
      ]
     },
     "execution_count": 10,
     "metadata": {},
     "output_type": "execute_result"
    }
   ],
   "source": [
    "gene_sigDMD_corr = pd.DataFrame(corr_coefs_pvals, columns=['gene_symbol', 'sig-DMD', 'corr_coef', 'p_value'])\n",
    "print(gene_sigDMD_corr.shape)\n",
    "gene_sigDMD_corr.head()"
   ]
  },
  {
   "cell_type": "code",
   "execution_count": 11,
   "metadata": {
    "scrolled": true
   },
   "outputs": [
    {
     "data": {
      "text/plain": [
       "3188"
      ]
     },
     "execution_count": 11,
     "metadata": {},
     "output_type": "execute_result"
    }
   ],
   "source": [
    "len(gene_sigDMD_corr['gene_symbol'].unique())"
   ]
  },
  {
   "cell_type": "markdown",
   "metadata": {},
   "source": [
    "==> We have 3452 genes have expression data, among them 264 don't have corresponding methylation data & 3188 do"
   ]
  },
  {
   "cell_type": "code",
   "execution_count": 13,
   "metadata": {
    "scrolled": true
   },
   "outputs": [
    {
     "name": "stdout",
     "output_type": "stream",
     "text": [
      "(6056, 4)\n"
     ]
    },
    {
     "data": {
      "text/plain": [
       "3186"
      ]
     },
     "execution_count": 13,
     "metadata": {},
     "output_type": "execute_result"
    }
   ],
   "source": [
    "# Remove cases where correlation coef OR p_value is NaN\n",
    "gene_sigDMD_corr.dropna(axis=0, how='any', inplace=True)\n",
    "print(gene_sigDMD_corr.shape)\n",
    "len(gene_sigDMD_corr['gene_symbol'].unique())"
   ]
  },
  {
   "cell_type": "markdown",
   "metadata": {},
   "source": [
    "==> 3186 genes have correlation coeficients & corresponding p-values"
   ]
  },
  {
   "cell_type": "code",
   "execution_count": 14,
   "metadata": {},
   "outputs": [],
   "source": [
    "gene_sigDMD_corr.to_csv(\"./datasets/gene_sigDMD_corr.tsv\", sep=\"\\t\", index=None)"
   ]
  },
  {
   "cell_type": "markdown",
   "metadata": {},
   "source": [
    "-----------------------"
   ]
  },
  {
   "cell_type": "code",
   "execution_count": 8,
   "metadata": {},
   "outputs": [
    {
     "name": "stdout",
     "output_type": "stream",
     "text": [
      "(6056, 9)\n"
     ]
    },
    {
     "data": {
      "text/html": [
       "<div>\n",
       "<style scoped>\n",
       "    .dataframe tbody tr th:only-of-type {\n",
       "        vertical-align: middle;\n",
       "    }\n",
       "\n",
       "    .dataframe tbody tr th {\n",
       "        vertical-align: top;\n",
       "    }\n",
       "\n",
       "    .dataframe thead th {\n",
       "        text-align: right;\n",
       "    }\n",
       "</style>\n",
       "<table border=\"1\" class=\"dataframe\">\n",
       "  <thead>\n",
       "    <tr style=\"text-align: right;\">\n",
       "      <th></th>\n",
       "      <th>gene_symbol</th>\n",
       "      <th>sig-DMD</th>\n",
       "      <th>corr_coef</th>\n",
       "      <th>p_value</th>\n",
       "      <th>abs_corr_coef</th>\n",
       "      <th>FDR_BH_Reject</th>\n",
       "      <th>FDR_BH_p</th>\n",
       "      <th>Bonfer_Reject</th>\n",
       "      <th>Bonfer_p</th>\n",
       "    </tr>\n",
       "  </thead>\n",
       "  <tbody>\n",
       "    <tr>\n",
       "      <th>0</th>\n",
       "      <td>A1CF</td>\n",
       "      <td>sig-DMD_563</td>\n",
       "      <td>-0.006164</td>\n",
       "      <td>0.4489</td>\n",
       "      <td>0.006164</td>\n",
       "      <td>False</td>\n",
       "      <td>0.457666</td>\n",
       "      <td>False</td>\n",
       "      <td>1.0</td>\n",
       "    </tr>\n",
       "    <tr>\n",
       "      <th>1</th>\n",
       "      <td>AACS</td>\n",
       "      <td>sig-DMD_1083</td>\n",
       "      <td>0.028767</td>\n",
       "      <td>0.1916</td>\n",
       "      <td>0.028767</td>\n",
       "      <td>False</td>\n",
       "      <td>0.221057</td>\n",
       "      <td>False</td>\n",
       "      <td>1.0</td>\n",
       "    </tr>\n",
       "    <tr>\n",
       "      <th>2</th>\n",
       "      <td>AACS</td>\n",
       "      <td>sig-DMD_1086</td>\n",
       "      <td>0.003141</td>\n",
       "      <td>0.4596</td>\n",
       "      <td>0.003141</td>\n",
       "      <td>False</td>\n",
       "      <td>0.466377</td>\n",
       "      <td>False</td>\n",
       "      <td>1.0</td>\n",
       "    </tr>\n",
       "    <tr>\n",
       "      <th>3</th>\n",
       "      <td>AARS2</td>\n",
       "      <td>sig-DMD_3701</td>\n",
       "      <td>-0.084966</td>\n",
       "      <td>0.0063</td>\n",
       "      <td>0.084966</td>\n",
       "      <td>True</td>\n",
       "      <td>0.009711</td>\n",
       "      <td>False</td>\n",
       "      <td>1.0</td>\n",
       "    </tr>\n",
       "    <tr>\n",
       "      <th>4</th>\n",
       "      <td>AASS</td>\n",
       "      <td>sig-DMD_3915</td>\n",
       "      <td>-0.308366</td>\n",
       "      <td>0.0000</td>\n",
       "      <td>0.308366</td>\n",
       "      <td>True</td>\n",
       "      <td>0.000000</td>\n",
       "      <td>True</td>\n",
       "      <td>0.0</td>\n",
       "    </tr>\n",
       "  </tbody>\n",
       "</table>\n",
       "</div>"
      ],
      "text/plain": [
       "  gene_symbol       sig-DMD  corr_coef  p_value  abs_corr_coef  FDR_BH_Reject  \\\n",
       "0        A1CF   sig-DMD_563  -0.006164   0.4489       0.006164          False   \n",
       "1        AACS  sig-DMD_1083   0.028767   0.1916       0.028767          False   \n",
       "2        AACS  sig-DMD_1086   0.003141   0.4596       0.003141          False   \n",
       "3       AARS2  sig-DMD_3701  -0.084966   0.0063       0.084966           True   \n",
       "4        AASS  sig-DMD_3915  -0.308366   0.0000       0.308366           True   \n",
       "\n",
       "   FDR_BH_p  Bonfer_Reject  Bonfer_p  \n",
       "0  0.457666          False       1.0  \n",
       "1  0.221057          False       1.0  \n",
       "2  0.466377          False       1.0  \n",
       "3  0.009711          False       1.0  \n",
       "4  0.000000           True       0.0  "
      ]
     },
     "execution_count": 8,
     "metadata": {},
     "output_type": "execute_result"
    }
   ],
   "source": [
    "gene_sigDMD_corr = pd.read_table(\"./datasets/gene_sigDMD_corr.tsv\", sep=\"\\t\")\n",
    "print(gene_sigDMD_corr.shape)\n",
    "gene_sigDMD_corr.head()"
   ]
  },
  {
   "cell_type": "code",
   "execution_count": 9,
   "metadata": {},
   "outputs": [],
   "source": [
    "gene_sigDMD_corr['abs_corr_coef'] = gene_sigDMD_corr['corr_coef'].abs()"
   ]
  },
  {
   "cell_type": "markdown",
   "metadata": {},
   "source": [
    "# Correction for multiple tests"
   ]
  },
  {
   "cell_type": "code",
   "execution_count": 10,
   "metadata": {},
   "outputs": [
    {
     "data": {
      "text/html": [
       "<div>\n",
       "<style scoped>\n",
       "    .dataframe tbody tr th:only-of-type {\n",
       "        vertical-align: middle;\n",
       "    }\n",
       "\n",
       "    .dataframe tbody tr th {\n",
       "        vertical-align: top;\n",
       "    }\n",
       "\n",
       "    .dataframe thead th {\n",
       "        text-align: right;\n",
       "    }\n",
       "</style>\n",
       "<table border=\"1\" class=\"dataframe\">\n",
       "  <thead>\n",
       "    <tr style=\"text-align: right;\">\n",
       "      <th></th>\n",
       "      <th>gene_symbol</th>\n",
       "      <th>sig-DMD</th>\n",
       "      <th>corr_coef</th>\n",
       "      <th>p_value</th>\n",
       "      <th>abs_corr_coef</th>\n",
       "      <th>FDR_BH_Reject</th>\n",
       "      <th>FDR_BH_p</th>\n",
       "      <th>Bonfer_Reject</th>\n",
       "      <th>Bonfer_p</th>\n",
       "    </tr>\n",
       "  </thead>\n",
       "  <tbody>\n",
       "    <tr>\n",
       "      <th>0</th>\n",
       "      <td>A1CF</td>\n",
       "      <td>sig-DMD_563</td>\n",
       "      <td>-0.006164</td>\n",
       "      <td>0.4489</td>\n",
       "      <td>0.006164</td>\n",
       "      <td>False</td>\n",
       "      <td>0.457666</td>\n",
       "      <td>False</td>\n",
       "      <td>1.0</td>\n",
       "    </tr>\n",
       "    <tr>\n",
       "      <th>1</th>\n",
       "      <td>AACS</td>\n",
       "      <td>sig-DMD_1083</td>\n",
       "      <td>0.028767</td>\n",
       "      <td>0.1916</td>\n",
       "      <td>0.028767</td>\n",
       "      <td>False</td>\n",
       "      <td>0.221057</td>\n",
       "      <td>False</td>\n",
       "      <td>1.0</td>\n",
       "    </tr>\n",
       "    <tr>\n",
       "      <th>2</th>\n",
       "      <td>AACS</td>\n",
       "      <td>sig-DMD_1086</td>\n",
       "      <td>0.003141</td>\n",
       "      <td>0.4596</td>\n",
       "      <td>0.003141</td>\n",
       "      <td>False</td>\n",
       "      <td>0.466377</td>\n",
       "      <td>False</td>\n",
       "      <td>1.0</td>\n",
       "    </tr>\n",
       "    <tr>\n",
       "      <th>3</th>\n",
       "      <td>AARS2</td>\n",
       "      <td>sig-DMD_3701</td>\n",
       "      <td>-0.084966</td>\n",
       "      <td>0.0063</td>\n",
       "      <td>0.084966</td>\n",
       "      <td>True</td>\n",
       "      <td>0.009711</td>\n",
       "      <td>False</td>\n",
       "      <td>1.0</td>\n",
       "    </tr>\n",
       "    <tr>\n",
       "      <th>4</th>\n",
       "      <td>AASS</td>\n",
       "      <td>sig-DMD_3915</td>\n",
       "      <td>-0.308366</td>\n",
       "      <td>0.0000</td>\n",
       "      <td>0.308366</td>\n",
       "      <td>True</td>\n",
       "      <td>0.000000</td>\n",
       "      <td>True</td>\n",
       "      <td>0.0</td>\n",
       "    </tr>\n",
       "  </tbody>\n",
       "</table>\n",
       "</div>"
      ],
      "text/plain": [
       "  gene_symbol       sig-DMD  corr_coef  p_value  abs_corr_coef  FDR_BH_Reject  \\\n",
       "0        A1CF   sig-DMD_563  -0.006164   0.4489       0.006164          False   \n",
       "1        AACS  sig-DMD_1083   0.028767   0.1916       0.028767          False   \n",
       "2        AACS  sig-DMD_1086   0.003141   0.4596       0.003141          False   \n",
       "3       AARS2  sig-DMD_3701  -0.084966   0.0063       0.084966           True   \n",
       "4        AASS  sig-DMD_3915  -0.308366   0.0000       0.308366           True   \n",
       "\n",
       "   FDR_BH_p  Bonfer_Reject  Bonfer_p  \n",
       "0  0.457666          False       1.0  \n",
       "1  0.221057          False       1.0  \n",
       "2  0.466377          False       1.0  \n",
       "3  0.009711          False       1.0  \n",
       "4  0.000000           True       0.0  "
      ]
     },
     "execution_count": 10,
     "metadata": {},
     "output_type": "execute_result"
    }
   ],
   "source": [
    "import statsmodels.stats.multitest as smm\n",
    "\n",
    "gene_sigDMD_corr['FDR_BH_Reject'], gene_sigDMD_corr['FDR_BH_p'] = smm.multipletests(gene_sigDMD_corr['p_value'], \n",
    "                                                                                    alpha=0.025, \n",
    "                                                                                    method='fdr_bh')[:2]\n",
    "\n",
    "gene_sigDMD_corr['Bonfer_Reject'], gene_sigDMD_corr['Bonfer_p'] = smm.multipletests(gene_sigDMD_corr['p_value'], \n",
    "                                                                                    alpha=0.025, \n",
    "                                                                                    method='bonferroni')[:2]\n",
    "gene_sigDMD_corr.head()"
   ]
  },
  {
   "cell_type": "code",
   "execution_count": 11,
   "metadata": {
    "scrolled": true
   },
   "outputs": [
    {
     "data": {
      "text/html": [
       "<div>\n",
       "<style scoped>\n",
       "    .dataframe tbody tr th:only-of-type {\n",
       "        vertical-align: middle;\n",
       "    }\n",
       "\n",
       "    .dataframe tbody tr th {\n",
       "        vertical-align: top;\n",
       "    }\n",
       "\n",
       "    .dataframe thead th {\n",
       "        text-align: right;\n",
       "    }\n",
       "</style>\n",
       "<table border=\"1\" class=\"dataframe\">\n",
       "  <thead>\n",
       "    <tr style=\"text-align: right;\">\n",
       "      <th>Bonfer_Reject</th>\n",
       "      <th>False</th>\n",
       "      <th>True</th>\n",
       "    </tr>\n",
       "    <tr>\n",
       "      <th>FDR_BH_Reject</th>\n",
       "      <th></th>\n",
       "      <th></th>\n",
       "    </tr>\n",
       "  </thead>\n",
       "  <tbody>\n",
       "    <tr>\n",
       "      <th>False</th>\n",
       "      <td>1836</td>\n",
       "      <td>0</td>\n",
       "    </tr>\n",
       "    <tr>\n",
       "      <th>True</th>\n",
       "      <td>1214</td>\n",
       "      <td>3006</td>\n",
       "    </tr>\n",
       "  </tbody>\n",
       "</table>\n",
       "</div>"
      ],
      "text/plain": [
       "Bonfer_Reject  False  True \n",
       "FDR_BH_Reject              \n",
       "False           1836      0\n",
       "True            1214   3006"
      ]
     },
     "execution_count": 11,
     "metadata": {},
     "output_type": "execute_result"
    }
   ],
   "source": [
    "pd.crosstab(gene_sigDMD_corr['FDR_BH_Reject'], gene_sigDMD_corr['Bonfer_Reject'])"
   ]
  },
  {
   "cell_type": "code",
   "execution_count": 12,
   "metadata": {},
   "outputs": [
    {
     "data": {
      "text/plain": [
       "array([[<matplotlib.axes._subplots.AxesSubplot object at 0x7f93048a6eb8>,\n",
       "        <matplotlib.axes._subplots.AxesSubplot object at 0x7f930488a940>,\n",
       "        <matplotlib.axes._subplots.AxesSubplot object at 0x7f930483d0b8>]],\n",
       "      dtype=object)"
      ]
     },
     "execution_count": 12,
     "metadata": {},
     "output_type": "execute_result"
    },
    {
     "data": {
      "image/png": "[encoded data removed]",
      "text/plain": [
       "<Figure size 1440x504 with 3 Axes>"
      ]
     },
     "metadata": {
      "needs_background": "light"
     },
     "output_type": "display_data"
    }
   ],
   "source": [
    "gene_sigDMD_corr.loc[(gene_sigDMD_corr['FDR_BH_Reject']==True) & \n",
    "                     (gene_sigDMD_corr['Bonfer_Reject']==False), \n",
    "                     ['p_value', 'FDR_BH_p', 'Bonfer_p']].hist(bins=20, figsize=(20,7), layout=(1,3), sharey=True)"
   ]
  },
  {
   "cell_type": "code",
   "execution_count": 13,
   "metadata": {},
   "outputs": [],
   "source": [
    "gene_sigDMD_corr.to_csv(\"./datasets/gene_sigDMD_corr.tsv\", sep=\"\\t\", index=None)"
   ]
  },
  {
   "cell_type": "markdown",
   "metadata": {},
   "source": [
    "Consider genes with FDR_BH corrected p_values < 0.01 having correlation coefficients that are not occured by chance only. \n",
    "# Distribution of correlation coefficients"
   ]
  },
  {
   "cell_type": "code",
   "execution_count": 14,
   "metadata": {
    "scrolled": false
   },
   "outputs": [
    {
     "name": "stdout",
     "output_type": "stream",
     "text": [
      "3941\n"
     ]
    },
    {
     "name": "stderr",
     "output_type": "stream",
     "text": [
      "/home/singuyen/anaconda3/lib/python3.7/site-packages/scipy/stats/stats.py:1713: FutureWarning: Using a non-tuple sequence for multidimensional indexing is deprecated; use `arr[tuple(seq)]` instead of `arr[seq]`. In the future this will be interpreted as an array index, `arr[np.array(seq)]`, which will result either in an error or a different result.\n",
      "  return np.add.reduce(sorted[indexer] * weights, axis=axis) / sumval\n"
     ]
    },
    {
     "data": {
      "text/plain": [
       "<matplotlib.legend.Legend at 0x7f93046b2e10>"
      ]
     },
     "execution_count": 14,
     "metadata": {},
     "output_type": "execute_result"
    },
    {
     "data": {
      "image/png": "[encoded data removed]",
      "text/plain": [
       "<Figure size 720x504 with 1 Axes>"
      ]
     },
     "metadata": {
      "needs_background": "light"
     },
     "output_type": "display_data"
    }
   ],
   "source": [
    "less_1per = gene_sigDMD_corr.loc[gene_sigDMD_corr['FDR_BH_p'] < 0.01]\n",
    "print(less_1per.shape[0])\n",
    "\n",
    "fig, ax = plt.subplots(figsize=(10, 7))\n",
    "sns.distplot(gene_sigDMD_corr[\"corr_coef\"], color=\"skyblue\", label=\"All\")\n",
    "sns.distplot(less_1per[\"corr_coef\"], color=\"red\", label=\"FDR_BH_p<0.01\")\n",
    "plt.grid()\n",
    "plt.legend()"
   ]
  },
  {
   "cell_type": "code",
   "execution_count": 15,
   "metadata": {
    "scrolled": false
   },
   "outputs": [
    {
     "data": {
      "text/plain": [
       "<matplotlib.legend.Legend at 0x7f93044eee48>"
      ]
     },
     "execution_count": 15,
     "metadata": {},
     "output_type": "execute_result"
    },
    {
     "data": {
      "image/png": "[encoded data removed]",
      "text/plain": [
       "<Figure size 720x504 with 1 Axes>"
      ]
     },
     "metadata": {
      "needs_background": "light"
     },
     "output_type": "display_data"
    }
   ],
   "source": [
    "fig, ax = plt.subplots(figsize=(10, 7))\n",
    "sns.distplot(gene_sigDMD_corr.groupby('gene_symbol')['abs_corr_coef'].max(), color=\"skyblue\", label=\"All\")\n",
    "sns.distplot(less_1per.groupby('gene_symbol')['abs_corr_coef'].max(), color=\"red\", label=\"FDR_BH_p<0.01\")\n",
    "plt.grid()\n",
    "plt.legend()"
   ]
  },
  {
   "cell_type": "code",
   "execution_count": 16,
   "metadata": {},
   "outputs": [
    {
     "data": {
      "text/plain": [
       "count    2295.000000\n",
       "mean        0.256205\n",
       "std         0.142262\n",
       "min         0.009637\n",
       "25%         0.140959\n",
       "50%         0.222069\n",
       "75%         0.340760\n",
       "max         0.779630\n",
       "Name: abs_corr_coef, dtype: float64"
      ]
     },
     "execution_count": 16,
     "metadata": {},
     "output_type": "execute_result"
    }
   ],
   "source": [
    "less_1per.groupby('gene_symbol')['abs_corr_coef'].max().describe()"
   ]
  },
  {
   "cell_type": "markdown",
   "metadata": {},
   "source": [
    "Considered genes with significant correlation coefficients <= -0.2 OR >= 0.2 as significant correlated with methylation of associated sig-DMDs\n",
    "# Summary on significant correlated genes"
   ]
  },
  {
   "cell_type": "code",
   "execution_count": 17,
   "metadata": {},
   "outputs": [
    {
     "name": "stdout",
     "output_type": "stream",
     "text": [
      "(1899, 9)\n"
     ]
    },
    {
     "data": {
      "text/html": [
       "<div>\n",
       "<style scoped>\n",
       "    .dataframe tbody tr th:only-of-type {\n",
       "        vertical-align: middle;\n",
       "    }\n",
       "\n",
       "    .dataframe tbody tr th {\n",
       "        vertical-align: top;\n",
       "    }\n",
       "\n",
       "    .dataframe thead th {\n",
       "        text-align: right;\n",
       "    }\n",
       "</style>\n",
       "<table border=\"1\" class=\"dataframe\">\n",
       "  <thead>\n",
       "    <tr style=\"text-align: right;\">\n",
       "      <th></th>\n",
       "      <th>gene_symbol</th>\n",
       "      <th>sig-DMD</th>\n",
       "      <th>corr_coef</th>\n",
       "      <th>p_value</th>\n",
       "      <th>abs_corr_coef</th>\n",
       "      <th>FDR_BH_Reject</th>\n",
       "      <th>FDR_BH_p</th>\n",
       "      <th>Bonfer_Reject</th>\n",
       "      <th>Bonfer_p</th>\n",
       "    </tr>\n",
       "  </thead>\n",
       "  <tbody>\n",
       "    <tr>\n",
       "      <th>4</th>\n",
       "      <td>AASS</td>\n",
       "      <td>sig-DMD_3915</td>\n",
       "      <td>-0.308366</td>\n",
       "      <td>0.0</td>\n",
       "      <td>0.308366</td>\n",
       "      <td>True</td>\n",
       "      <td>0.0</td>\n",
       "      <td>True</td>\n",
       "      <td>0.0</td>\n",
       "    </tr>\n",
       "    <tr>\n",
       "      <th>5</th>\n",
       "      <td>AATF</td>\n",
       "      <td>sig-DMD_2188</td>\n",
       "      <td>0.369226</td>\n",
       "      <td>0.0</td>\n",
       "      <td>0.369226</td>\n",
       "      <td>True</td>\n",
       "      <td>0.0</td>\n",
       "      <td>True</td>\n",
       "      <td>0.0</td>\n",
       "    </tr>\n",
       "    <tr>\n",
       "      <th>8</th>\n",
       "      <td>ABCA2</td>\n",
       "      <td>sig-DMD_4336</td>\n",
       "      <td>-0.357968</td>\n",
       "      <td>0.0</td>\n",
       "      <td>0.357968</td>\n",
       "      <td>True</td>\n",
       "      <td>0.0</td>\n",
       "      <td>True</td>\n",
       "      <td>0.0</td>\n",
       "    </tr>\n",
       "    <tr>\n",
       "      <th>9</th>\n",
       "      <td>ABCA2</td>\n",
       "      <td>sig-DMD_4337</td>\n",
       "      <td>0.290721</td>\n",
       "      <td>0.0</td>\n",
       "      <td>0.290721</td>\n",
       "      <td>True</td>\n",
       "      <td>0.0</td>\n",
       "      <td>True</td>\n",
       "      <td>0.0</td>\n",
       "    </tr>\n",
       "    <tr>\n",
       "      <th>11</th>\n",
       "      <td>ABCB5</td>\n",
       "      <td>sig-DMD_3809</td>\n",
       "      <td>-0.307431</td>\n",
       "      <td>0.0</td>\n",
       "      <td>0.307431</td>\n",
       "      <td>True</td>\n",
       "      <td>0.0</td>\n",
       "      <td>True</td>\n",
       "      <td>0.0</td>\n",
       "    </tr>\n",
       "  </tbody>\n",
       "</table>\n",
       "</div>"
      ],
      "text/plain": [
       "   gene_symbol       sig-DMD  corr_coef  p_value  abs_corr_coef  \\\n",
       "4         AASS  sig-DMD_3915  -0.308366      0.0       0.308366   \n",
       "5         AATF  sig-DMD_2188   0.369226      0.0       0.369226   \n",
       "8        ABCA2  sig-DMD_4336  -0.357968      0.0       0.357968   \n",
       "9        ABCA2  sig-DMD_4337   0.290721      0.0       0.290721   \n",
       "11       ABCB5  sig-DMD_3809  -0.307431      0.0       0.307431   \n",
       "\n",
       "    FDR_BH_Reject  FDR_BH_p  Bonfer_Reject  Bonfer_p  \n",
       "4            True       0.0           True       0.0  \n",
       "5            True       0.0           True       0.0  \n",
       "8            True       0.0           True       0.0  \n",
       "9            True       0.0           True       0.0  \n",
       "11           True       0.0           True       0.0  "
      ]
     },
     "execution_count": 17,
     "metadata": {},
     "output_type": "execute_result"
    }
   ],
   "source": [
    "correlated_gene = gene_sigDMD_corr.loc[(gene_sigDMD_corr['FDR_BH_p'] < 0.01) & \n",
    "                                       (gene_sigDMD_corr['abs_corr_coef'] >= 0.2)]\n",
    "print(correlated_gene.shape)\n",
    "correlated_gene.head()"
   ]
  },
  {
   "cell_type": "code",
   "execution_count": 18,
   "metadata": {},
   "outputs": [
    {
     "data": {
      "image/png": "[encoded data removed]",
      "text/plain": [
       "<Figure size 504x360 with 1 Axes>"
      ]
     },
     "metadata": {
      "needs_background": "light"
     },
     "output_type": "display_data"
    }
   ],
   "source": [
    "fig, ax = plt.subplots(figsize=(7, 5))\n",
    "\n",
    "grouped = correlated_gene.groupby('gene_symbol', as_index=False)['abs_corr_coef'].max()\n",
    "df = pd.merge(correlated_gene, grouped, how='inner', on=['gene_symbol', 'abs_corr_coef'])\n",
    "\n",
    "g = sns.distplot(df['corr_coef'], color=\"#e585ab\")\n",
    "g.set_xlabel(\"Pearson correlation coefficient\")\n",
    "g.set_ylabel(\"Gene density\")\n",
    "\n",
    "ax.set_xticks(np.arange(-0.8, 0.81, step=0.2))\n",
    "\n",
    "fig.savefig(\"plots/corr_genes.hist.svg\", transparent=True, bbox_inches='tight')"
   ]
  },
  {
   "cell_type": "code",
   "execution_count": 19,
   "metadata": {},
   "outputs": [
    {
     "name": "stdout",
     "output_type": "stream",
     "text": [
      "0.20003194014145992\n"
     ]
    },
    {
     "data": {
      "text/html": [
       "<div>\n",
       "<style scoped>\n",
       "    .dataframe tbody tr th:only-of-type {\n",
       "        vertical-align: middle;\n",
       "    }\n",
       "\n",
       "    .dataframe tbody tr th {\n",
       "        vertical-align: top;\n",
       "    }\n",
       "\n",
       "    .dataframe thead th {\n",
       "        text-align: right;\n",
       "    }\n",
       "</style>\n",
       "<table border=\"1\" class=\"dataframe\">\n",
       "  <thead>\n",
       "    <tr style=\"text-align: right;\">\n",
       "      <th></th>\n",
       "      <th>gene_symbol</th>\n",
       "      <th>sig-DMD</th>\n",
       "      <th>corr_coef</th>\n",
       "      <th>p_value</th>\n",
       "      <th>abs_corr_coef</th>\n",
       "      <th>FDR_BH_Reject</th>\n",
       "      <th>FDR_BH_p</th>\n",
       "      <th>Bonfer_Reject</th>\n",
       "      <th>Bonfer_p</th>\n",
       "    </tr>\n",
       "  </thead>\n",
       "  <tbody>\n",
       "    <tr>\n",
       "      <th>1626</th>\n",
       "      <td>GMPPA</td>\n",
       "      <td>sig-DMD_2805</td>\n",
       "      <td>0.200032</td>\n",
       "      <td>0.0</td>\n",
       "      <td>0.200032</td>\n",
       "      <td>True</td>\n",
       "      <td>0.0</td>\n",
       "      <td>True</td>\n",
       "      <td>0.0</td>\n",
       "    </tr>\n",
       "  </tbody>\n",
       "</table>\n",
       "</div>"
      ],
      "text/plain": [
       "     gene_symbol       sig-DMD  corr_coef  p_value  abs_corr_coef  \\\n",
       "1626       GMPPA  sig-DMD_2805   0.200032      0.0       0.200032   \n",
       "\n",
       "      FDR_BH_Reject  FDR_BH_p  Bonfer_Reject  Bonfer_p  \n",
       "1626           True       0.0           True       0.0  "
      ]
     },
     "execution_count": 19,
     "metadata": {},
     "output_type": "execute_result"
    }
   ],
   "source": [
    "print(correlated_gene['abs_corr_coef'].min())\n",
    "correlated_gene.loc[correlated_gene['abs_corr_coef'] == correlated_gene['abs_corr_coef'].min()].head()"
   ]
  },
  {
   "cell_type": "code",
   "execution_count": 21,
   "metadata": {},
   "outputs": [
    {
     "data": {
      "image/png": "[encoded data removed]",
      "text/plain": [
       "<Figure size 504x360 with 1 Axes>"
      ]
     },
     "metadata": {
      "needs_background": "light"
     },
     "output_type": "display_data"
    }
   ],
   "source": [
    "fig, ax = plt.subplots(figsize=(7, 5))\n",
    "\n",
    "data = pd.merge(expression_matrix[['GMPPA']], methylation_matrix[['sig-DMD_2805']], left_index=True, right_index=True)\n",
    "\n",
    "g = sns.regplot(x=\"sig-DMD_2805\", y=\"GMPPA\", data=data, fit_reg=True,\n",
    "                scatter_kws={\"color\": \"#ff96c0\", \"s\":30}, line_kws={\"color\": \"#ad4e74\"});\n",
    "g.set_xlabel(\"Methylation of associated DMV signatures\")\n",
    "g.set_ylabel(\"GMPPA's expression level\\n(log2-transformed)\")\n",
    "\n",
    "fig.savefig(\"plots/corr_genes.regplot.minp.svg\", transparent=True, bbox_inches='tight')"
   ]
  },
  {
   "cell_type": "code",
   "execution_count": 28,
   "metadata": {},
   "outputs": [
    {
     "name": "stdout",
     "output_type": "stream",
     "text": [
      "0.7796300524523433\n"
     ]
    },
    {
     "data": {
      "text/html": [
       "<div>\n",
       "<style scoped>\n",
       "    .dataframe tbody tr th:only-of-type {\n",
       "        vertical-align: middle;\n",
       "    }\n",
       "\n",
       "    .dataframe tbody tr th {\n",
       "        vertical-align: top;\n",
       "    }\n",
       "\n",
       "    .dataframe thead th {\n",
       "        text-align: right;\n",
       "    }\n",
       "</style>\n",
       "<table border=\"1\" class=\"dataframe\">\n",
       "  <thead>\n",
       "    <tr style=\"text-align: right;\">\n",
       "      <th></th>\n",
       "      <th>gene_symbol</th>\n",
       "      <th>sig-DMD</th>\n",
       "      <th>corr_coef</th>\n",
       "      <th>p_value</th>\n",
       "      <th>abs_corr_coef</th>\n",
       "      <th>FDR_BH_Reject</th>\n",
       "      <th>FDR_BH_p</th>\n",
       "      <th>Bonfer_Reject</th>\n",
       "      <th>Bonfer_p</th>\n",
       "    </tr>\n",
       "  </thead>\n",
       "  <tbody>\n",
       "    <tr>\n",
       "      <th>473</th>\n",
       "      <td>CA12</td>\n",
       "      <td>sig-DMD_1541</td>\n",
       "      <td>-0.77963</td>\n",
       "      <td>0.0</td>\n",
       "      <td>0.77963</td>\n",
       "      <td>True</td>\n",
       "      <td>0.0</td>\n",
       "      <td>True</td>\n",
       "      <td>0.0</td>\n",
       "    </tr>\n",
       "  </tbody>\n",
       "</table>\n",
       "</div>"
      ],
      "text/plain": [
       "    gene_symbol       sig-DMD  corr_coef  p_value  abs_corr_coef  \\\n",
       "473        CA12  sig-DMD_1541   -0.77963      0.0        0.77963   \n",
       "\n",
       "     FDR_BH_Reject  FDR_BH_p  Bonfer_Reject  Bonfer_p  \n",
       "473           True       0.0           True       0.0  "
      ]
     },
     "execution_count": 28,
     "metadata": {},
     "output_type": "execute_result"
    }
   ],
   "source": [
    "print(correlated_gene['abs_corr_coef'].max())\n",
    "correlated_gene.loc[correlated_gene['abs_corr_coef'] == correlated_gene['abs_corr_coef'].max()].head()"
   ]
  },
  {
   "cell_type": "code",
   "execution_count": 29,
   "metadata": {},
   "outputs": [
    {
     "data": {
      "image/png": "[encoded data removed]",
      "text/plain": [
       "<Figure size 504x360 with 1 Axes>"
      ]
     },
     "metadata": {
      "needs_background": "light"
     },
     "output_type": "display_data"
    }
   ],
   "source": [
    "fig, ax = plt.subplots(figsize=(7, 5))\n",
    "\n",
    "data = pd.merge(expression_matrix[['CA12']], methylation_matrix[['sig-DMD_1541']], left_index=True, right_index=True)\n",
    "\n",
    "g = sns.regplot(x=\"sig-DMD_1541\", y=\"CA12\", data=data, fit_reg=True,\n",
    "                scatter_kws={\"color\": \"#ff96c0\", \"s\":30}, line_kws={\"color\": \"#ad4e74\"});\n",
    "g.set_xlabel(\"Methylation of associated DMV signatures\")\n",
    "g.set_ylabel(\"CA12's expression level\\n(log2-transformed)\")\n",
    "\n",
    "fig.savefig(\"plots/corr_genes.regplot.maxp.svg\", transparent=True, bbox_inches='tight')"
   ]
  },
  {
   "cell_type": "code",
   "execution_count": 23,
   "metadata": {},
   "outputs": [
    {
     "name": "stdout",
     "output_type": "stream",
     "text": [
      "(3518, 5)\n"
     ]
    },
    {
     "data": {
      "text/html": [
       "<div>\n",
       "<style scoped>\n",
       "    .dataframe tbody tr th:only-of-type {\n",
       "        vertical-align: middle;\n",
       "    }\n",
       "\n",
       "    .dataframe tbody tr th {\n",
       "        vertical-align: top;\n",
       "    }\n",
       "\n",
       "    .dataframe thead th {\n",
       "        text-align: right;\n",
       "    }\n",
       "</style>\n",
       "<table border=\"1\" class=\"dataframe\">\n",
       "  <thead>\n",
       "    <tr style=\"text-align: right;\">\n",
       "      <th></th>\n",
       "      <th>gene_symbol</th>\n",
       "      <th>BRCA</th>\n",
       "      <th>TN-BRCA</th>\n",
       "      <th>nonTN-BRCA</th>\n",
       "      <th>ERR-BRCA</th>\n",
       "    </tr>\n",
       "  </thead>\n",
       "  <tbody>\n",
       "    <tr>\n",
       "      <th>0</th>\n",
       "      <td>A1CF</td>\n",
       "      <td>Yes</td>\n",
       "      <td>No</td>\n",
       "      <td>No</td>\n",
       "      <td>Yes</td>\n",
       "    </tr>\n",
       "    <tr>\n",
       "      <th>1</th>\n",
       "      <td>AACS</td>\n",
       "      <td>Yes</td>\n",
       "      <td>No</td>\n",
       "      <td>No</td>\n",
       "      <td>No</td>\n",
       "    </tr>\n",
       "    <tr>\n",
       "      <th>2</th>\n",
       "      <td>AARS2</td>\n",
       "      <td>Yes</td>\n",
       "      <td>No</td>\n",
       "      <td>No</td>\n",
       "      <td>No</td>\n",
       "    </tr>\n",
       "    <tr>\n",
       "      <th>3</th>\n",
       "      <td>AASS</td>\n",
       "      <td>Yes</td>\n",
       "      <td>Yes</td>\n",
       "      <td>Yes</td>\n",
       "      <td>No</td>\n",
       "    </tr>\n",
       "    <tr>\n",
       "      <th>4</th>\n",
       "      <td>AATF</td>\n",
       "      <td>Yes</td>\n",
       "      <td>No</td>\n",
       "      <td>No</td>\n",
       "      <td>No</td>\n",
       "    </tr>\n",
       "  </tbody>\n",
       "</table>\n",
       "</div>"
      ],
      "text/plain": [
       "  gene_symbol BRCA TN-BRCA nonTN-BRCA ERR-BRCA\n",
       "0        A1CF  Yes      No         No      Yes\n",
       "1        AACS  Yes      No         No       No\n",
       "2       AARS2  Yes      No         No       No\n",
       "3        AASS  Yes     Yes        Yes       No\n",
       "4        AATF  Yes      No         No       No"
      ]
     },
     "execution_count": 23,
     "metadata": {},
     "output_type": "execute_result"
    }
   ],
   "source": [
    "gene_meta = pd.read_table(\"./metadata/associated_genes_list.tsv\", sep=\"\\t\")\n",
    "print(gene_meta.shape)\n",
    "gene_meta.head()"
   ]
  },
  {
   "cell_type": "code",
   "execution_count": 24,
   "metadata": {},
   "outputs": [
    {
     "name": "stdout",
     "output_type": "stream",
     "text": [
      "(1899, 13)\n"
     ]
    },
    {
     "data": {
      "text/html": [
       "<div>\n",
       "<style scoped>\n",
       "    .dataframe tbody tr th:only-of-type {\n",
       "        vertical-align: middle;\n",
       "    }\n",
       "\n",
       "    .dataframe tbody tr th {\n",
       "        vertical-align: top;\n",
       "    }\n",
       "\n",
       "    .dataframe thead th {\n",
       "        text-align: right;\n",
       "    }\n",
       "</style>\n",
       "<table border=\"1\" class=\"dataframe\">\n",
       "  <thead>\n",
       "    <tr style=\"text-align: right;\">\n",
       "      <th></th>\n",
       "      <th>gene_symbol</th>\n",
       "      <th>sig-DMD</th>\n",
       "      <th>corr_coef</th>\n",
       "      <th>p_value</th>\n",
       "      <th>abs_corr_coef</th>\n",
       "      <th>FDR_BH_Reject</th>\n",
       "      <th>FDR_BH_p</th>\n",
       "      <th>Bonfer_Reject</th>\n",
       "      <th>Bonfer_p</th>\n",
       "      <th>BRCA</th>\n",
       "      <th>TN-BRCA</th>\n",
       "      <th>nonTN-BRCA</th>\n",
       "      <th>ERR-BRCA</th>\n",
       "    </tr>\n",
       "  </thead>\n",
       "  <tbody>\n",
       "    <tr>\n",
       "      <th>0</th>\n",
       "      <td>AASS</td>\n",
       "      <td>sig-DMD_3915</td>\n",
       "      <td>-0.308366</td>\n",
       "      <td>0.0</td>\n",
       "      <td>0.308366</td>\n",
       "      <td>True</td>\n",
       "      <td>0.0</td>\n",
       "      <td>True</td>\n",
       "      <td>0.0</td>\n",
       "      <td>Yes</td>\n",
       "      <td>Yes</td>\n",
       "      <td>Yes</td>\n",
       "      <td>No</td>\n",
       "    </tr>\n",
       "    <tr>\n",
       "      <th>1</th>\n",
       "      <td>AATF</td>\n",
       "      <td>sig-DMD_2188</td>\n",
       "      <td>0.369226</td>\n",
       "      <td>0.0</td>\n",
       "      <td>0.369226</td>\n",
       "      <td>True</td>\n",
       "      <td>0.0</td>\n",
       "      <td>True</td>\n",
       "      <td>0.0</td>\n",
       "      <td>Yes</td>\n",
       "      <td>No</td>\n",
       "      <td>No</td>\n",
       "      <td>No</td>\n",
       "    </tr>\n",
       "    <tr>\n",
       "      <th>2</th>\n",
       "      <td>ABCA2</td>\n",
       "      <td>sig-DMD_4336</td>\n",
       "      <td>-0.357968</td>\n",
       "      <td>0.0</td>\n",
       "      <td>0.357968</td>\n",
       "      <td>True</td>\n",
       "      <td>0.0</td>\n",
       "      <td>True</td>\n",
       "      <td>0.0</td>\n",
       "      <td>Yes</td>\n",
       "      <td>Yes</td>\n",
       "      <td>Yes</td>\n",
       "      <td>No</td>\n",
       "    </tr>\n",
       "    <tr>\n",
       "      <th>3</th>\n",
       "      <td>ABCA2</td>\n",
       "      <td>sig-DMD_4337</td>\n",
       "      <td>0.290721</td>\n",
       "      <td>0.0</td>\n",
       "      <td>0.290721</td>\n",
       "      <td>True</td>\n",
       "      <td>0.0</td>\n",
       "      <td>True</td>\n",
       "      <td>0.0</td>\n",
       "      <td>Yes</td>\n",
       "      <td>Yes</td>\n",
       "      <td>Yes</td>\n",
       "      <td>No</td>\n",
       "    </tr>\n",
       "    <tr>\n",
       "      <th>4</th>\n",
       "      <td>ABCB5</td>\n",
       "      <td>sig-DMD_3809</td>\n",
       "      <td>-0.307431</td>\n",
       "      <td>0.0</td>\n",
       "      <td>0.307431</td>\n",
       "      <td>True</td>\n",
       "      <td>0.0</td>\n",
       "      <td>True</td>\n",
       "      <td>0.0</td>\n",
       "      <td>Yes</td>\n",
       "      <td>No</td>\n",
       "      <td>No</td>\n",
       "      <td>No</td>\n",
       "    </tr>\n",
       "  </tbody>\n",
       "</table>\n",
       "</div>"
      ],
      "text/plain": [
       "  gene_symbol       sig-DMD  corr_coef  p_value  abs_corr_coef  FDR_BH_Reject  \\\n",
       "0        AASS  sig-DMD_3915  -0.308366      0.0       0.308366           True   \n",
       "1        AATF  sig-DMD_2188   0.369226      0.0       0.369226           True   \n",
       "2       ABCA2  sig-DMD_4336  -0.357968      0.0       0.357968           True   \n",
       "3       ABCA2  sig-DMD_4337   0.290721      0.0       0.290721           True   \n",
       "4       ABCB5  sig-DMD_3809  -0.307431      0.0       0.307431           True   \n",
       "\n",
       "   FDR_BH_p  Bonfer_Reject  Bonfer_p BRCA TN-BRCA nonTN-BRCA ERR-BRCA  \n",
       "0       0.0           True       0.0  Yes     Yes        Yes       No  \n",
       "1       0.0           True       0.0  Yes      No         No       No  \n",
       "2       0.0           True       0.0  Yes     Yes        Yes       No  \n",
       "3       0.0           True       0.0  Yes     Yes        Yes       No  \n",
       "4       0.0           True       0.0  Yes      No         No       No  "
      ]
     },
     "execution_count": 24,
     "metadata": {},
     "output_type": "execute_result"
    }
   ],
   "source": [
    "correlated_gene_bigtable = pd.merge(correlated_gene, gene_meta, how='inner', on='gene_symbol')\n",
    "print(correlated_gene_bigtable.shape)\n",
    "correlated_gene_bigtable.head()"
   ]
  },
  {
   "cell_type": "code",
   "execution_count": 25,
   "metadata": {},
   "outputs": [
    {
     "name": "stdout",
     "output_type": "stream",
     "text": [
      "Number of correlated genes that are associated with subtype-specific sig-DMD:\n",
      "1271\n",
      "Number of correlated genes that are associated with ERR sig-DMD\n",
      "105\n"
     ]
    }
   ],
   "source": [
    "print('Number of correlated genes that are associated with subtype-specific sig-DMD:')\n",
    "print(correlated_gene_bigtable.loc[(correlated_gene_bigtable['BRCA']=='Yes') | \n",
    "                                   (correlated_gene_bigtable['TN-BRCA']=='Yes') | \n",
    "                                   (correlated_gene_bigtable['nonTN-BRCA']=='Yes'), \n",
    "                                   'gene_symbol'].unique().shape[0])\n",
    "\n",
    "print(\"Number of correlated genes that are associated with ERR sig-DMD\")\n",
    "print(correlated_gene_bigtable.loc[correlated_gene_bigtable['ERR-BRCA']=='Yes', 'gene_symbol'].unique().shape[0])"
   ]
  },
  {
   "cell_type": "code",
   "execution_count": 26,
   "metadata": {},
   "outputs": [
    {
     "name": "stdout",
     "output_type": "stream",
     "text": [
      "Number of tested genes that are associated with subtype-specific sig-DMD:\n",
      "3141\n",
      "Number of tested genes that are associated with ERR sig-DMD\n",
      "221\n"
     ]
    }
   ],
   "source": [
    "bigtable = pd.merge(gene_sigDMD_corr.drop_duplicates(subset='gene_symbol'), gene_meta, how='inner', on='gene_symbol')\n",
    "\n",
    "print('Number of tested genes that are associated with subtype-specific sig-DMD:')\n",
    "print(bigtable.loc[(bigtable['BRCA']=='Yes') | \n",
    "                   (bigtable['TN-BRCA']=='Yes') | \n",
    "                   (bigtable['nonTN-BRCA']=='Yes'), \n",
    "                   'gene_symbol'].unique().shape[0])\n",
    "\n",
    "print(\"Number of tested genes that are associated with ERR sig-DMD\")\n",
    "print(bigtable.loc[bigtable['ERR-BRCA']=='Yes', 'gene_symbol'].unique().shape[0])"
   ]
  },
  {
   "cell_type": "code",
   "execution_count": 27,
   "metadata": {},
   "outputs": [],
   "source": [
    "correlated_gene_bigtable.to_csv(\"./datasets/correlated_gene_bigtable.tsv\", sep=\"\\t\", index=None)"
   ]
  }
 ],
 "metadata": {
  "anaconda-cloud": {},
  "kernelspec": {
   "display_name": "Python 3",
   "language": "python",
   "name": "python3"
  },
  "language_info": {
   "codemirror_mode": {
    "name": "ipython",
    "version": 3
   },
   "file_extension": ".py",
   "mimetype": "text/x-python",
   "name": "python",
   "nbconvert_exporter": "python",
   "pygments_lexer": "ipython3",
   "version": "3.7.1"
  }
 },
 "nbformat": 4,
 "nbformat_minor": 2
}
