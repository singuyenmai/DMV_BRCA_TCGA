{
 "cells": [
  {
   "cell_type": "code",
   "execution_count": 1,
   "metadata": {},
   "outputs": [],
   "source": [
    "import pandas as pd\n",
    "from google.cloud import bigquery as bq"
   ]
  },
  {
   "cell_type": "markdown",
   "metadata": {},
   "source": [
    "# Hormone therapy"
   ]
  },
  {
   "cell_type": "code",
   "execution_count": 2,
   "metadata": {},
   "outputs": [
    {
     "name": "stdout",
     "output_type": "stream",
     "text": [
      "(500, 4)\n"
     ]
    },
    {
     "data": {
      "text/html": [
       "<div>\n",
       "<style scoped>\n",
       "    .dataframe tbody tr th:only-of-type {\n",
       "        vertical-align: middle;\n",
       "    }\n",
       "\n",
       "    .dataframe tbody tr th {\n",
       "        vertical-align: top;\n",
       "    }\n",
       "\n",
       "    .dataframe thead th {\n",
       "        text-align: right;\n",
       "    }\n",
       "</style>\n",
       "<table border=\"1\" class=\"dataframe\">\n",
       "  <thead>\n",
       "    <tr style=\"text-align: right;\">\n",
       "      <th></th>\n",
       "      <th>case_barcode</th>\n",
       "      <th>initial_response</th>\n",
       "      <th>recurrence_status</th>\n",
       "      <th>recurrence_log</th>\n",
       "    </tr>\n",
       "  </thead>\n",
       "  <tbody>\n",
       "    <tr>\n",
       "      <th>0</th>\n",
       "      <td>TCGA-5L-AAT0</td>\n",
       "      <td>Unknown</td>\n",
       "      <td>NaN</td>\n",
       "      <td>NaN</td>\n",
       "    </tr>\n",
       "    <tr>\n",
       "      <th>1</th>\n",
       "      <td>TCGA-5L-AAT1</td>\n",
       "      <td>Unknown</td>\n",
       "      <td>NaN</td>\n",
       "      <td>NaN</td>\n",
       "    </tr>\n",
       "    <tr>\n",
       "      <th>2</th>\n",
       "      <td>TCGA-5T-A9QA</td>\n",
       "      <td>Unknown</td>\n",
       "      <td>Unknown</td>\n",
       "      <td>Unknown neoplasm status</td>\n",
       "    </tr>\n",
       "    <tr>\n",
       "      <th>3</th>\n",
       "      <td>TCGA-A1-A0SF</td>\n",
       "      <td>Unknown</td>\n",
       "      <td>NaN</td>\n",
       "      <td>NaN</td>\n",
       "    </tr>\n",
       "    <tr>\n",
       "      <th>4</th>\n",
       "      <td>TCGA-A1-A0SQ</td>\n",
       "      <td>Unknown</td>\n",
       "      <td>NaN</td>\n",
       "      <td>NaN</td>\n",
       "    </tr>\n",
       "  </tbody>\n",
       "</table>\n",
       "</div>"
      ],
      "text/plain": [
       "   case_barcode initial_response recurrence_status           recurrence_log\n",
       "0  TCGA-5L-AAT0          Unknown               NaN                      NaN\n",
       "1  TCGA-5L-AAT1          Unknown               NaN                      NaN\n",
       "2  TCGA-5T-A9QA          Unknown           Unknown  Unknown neoplasm status\n",
       "3  TCGA-A1-A0SF          Unknown               NaN                      NaN\n",
       "4  TCGA-A1-A0SQ          Unknown               NaN                      NaN"
      ]
     },
     "execution_count": 2,
     "metadata": {},
     "output_type": "execute_result"
    }
   ],
   "source": [
    "patient = pd.read_table(\"metadata/hormone_response_recurrence.tsv\", sep=\"\\t\")\n",
    "\n",
    "print(patient.shape)\n",
    "patient.head()"
   ]
  },
  {
   "cell_type": "code",
   "execution_count": 3,
   "metadata": {
    "scrolled": true
   },
   "outputs": [
    {
     "data": {
      "text/plain": [
       "\"'TCGA-5L-AAT0', 'TCGA-5L-AAT1', 'TCGA-5T-A9QA', 'TCGA-A1-A0SF', 'TCGA-A1-A0SQ', 'TCGA-A2-A04N', 'TCGA-A2-A04R', 'TCGA-A2-A04V', 'TCGA-A2-A04X', 'TCGA-A2-A04Y', 'TCGA-A2-A0CK', 'TCGA-A2-A0CL', 'TCGA-A2-A0CO', 'TCGA-A2-A0CP', 'TCGA-A2-A0CQ', 'TCGA-A2-A0CR', 'TCGA-A2-A0CS', 'TCGA-A2-A0CT', 'TCGA-A2-A0CU', 'TCGA-A2-A0CV', 'TCGA-A2-A0CW', 'TCGA-A2-A0CX', 'TCGA-A2-A0CY', 'TCGA-A2-A0CZ', 'TCGA-A2-A0D3', 'TCGA-A2-A0D4', 'TCGA-A2-A0EM', 'TCGA-A2-A0EN', 'TCGA-A2-A0EO', 'TCGA-A2-A0EP', 'TCGA-A2-A0ER', 'TCGA-A2-A0ES', 'TCGA-A2-A0ET', 'TCGA-A2-A0EW', 'TCGA-A2-A0EX', 'TCGA-A2-A0EY', 'TCGA-A2-A0SU', 'TCGA-A2-A0SV', 'TCGA-A2-A0SW', 'TCGA-A2-A0SY', 'TCGA-A2-A0T3', 'TCGA-A2-A0T4', 'TCGA-A2-A0T5', 'TCGA-A2-A0T6', 'TCGA-A2-A0T7', 'TCGA-A2-A0YC', 'TCGA-A2-A0YD', 'TCGA-A2-A0YF', 'TCGA-A2-A0YG', 'TCGA-A2-A0YH', 'TCGA-A2-A0YI', 'TCGA-A2-A0YK', 'TCGA-A2-A0YL', 'TCGA-A2-A0YT', 'TCGA-A2-A1FV', 'TCGA-A2-A1FW', 'TCGA-A2-A1FX', 'TCGA-A2-A1FZ', 'TCGA-A2-A1G0', 'TCGA-A2-A1G4', 'TCGA-A2-A259', 'TCGA-A2-A25A', 'TCGA-A2-A25B', 'TCGA-A2-A25C', 'TCGA-A2-A25D', 'TCGA-A2-A25E', 'TCGA-A2-A3KC', 'TCGA-A2-A3KD', 'TCGA-A2-A3XV', 'TCGA-A2-A3XW', 'TCGA-A2-A4RY', 'TCGA-A2-A4S2', 'TCGA-A7-A0CD', 'TCGA-A7-A0CH', 'TCGA-A7-A0CJ', 'TCGA-A7-A0D9', 'TCGA-A7-A0DB', 'TCGA-A7-A0DC', 'TCGA-A7-A13F', 'TCGA-A7-A13G', 'TCGA-A7-A13H', 'TCGA-A7-A26E', 'TCGA-A7-A26H', 'TCGA-A7-A26J', 'TCGA-A7-A3IY', 'TCGA-A7-A3IZ', 'TCGA-A7-A3J0', 'TCGA-A7-A3J1', 'TCGA-A7-A3RF', 'TCGA-A7-A425', 'TCGA-A7-A426', 'TCGA-A7-A4SA', 'TCGA-A7-A4SB', 'TCGA-A7-A4SC', 'TCGA-A7-A4SF', 'TCGA-A7-A56D', 'TCGA-A7-A5ZW', 'TCGA-A7-A5ZX', 'TCGA-A7-A6VX', 'TCGA-A8-A06O', 'TCGA-A8-A06P', 'TCGA-A8-A06R', 'TCGA-A8-A06T', 'TCGA-A8-A06Y', 'TCGA-A8-A075', 'TCGA-A8-A076', 'TCGA-A8-A07E', 'TCGA-A8-A07F', 'TCGA-A8-A07G', 'TCGA-A8-A07I', 'TCGA-A8-A07J', 'TCGA-A8-A07L', 'TCGA-A8-A07P', 'TCGA-A8-A07S', 'TCGA-A8-A07W', 'TCGA-A8-A07Z', 'TCGA-A8-A082', 'TCGA-A8-A085', 'TCGA-A8-A08B', 'TCGA-A8-A08C', 'TCGA-A8-A08F', 'TCGA-A8-A08G', 'TCGA-A8-A08I', 'TCGA-A8-A08O', 'TCGA-A8-A08P', 'TCGA-A8-A08S', 'TCGA-A8-A08X', 'TCGA-A8-A091', 'TCGA-A8-A092', 'TCGA-A8-A093', 'TCGA-A8-A095', 'TCGA-A8-A097', 'TCGA-A8-A099', 'TCGA-A8-A09A', 'TCGA-A8-A09B', 'TCGA-A8-A09D', 'TCGA-A8-A09E', 'TCGA-A8-A09I', 'TCGA-A8-A09M', 'TCGA-A8-A09Q', 'TCGA-A8-A09R', 'TCGA-A8-A09T', 'TCGA-A8-A09V', 'TCGA-A8-A0A1', 'TCGA-A8-A0A2', 'TCGA-A8-A0A4', 'TCGA-A8-A0A6', 'TCGA-A8-A0A9', 'TCGA-A8-A0AB', 'TCGA-A8-A0AD', 'TCGA-AC-A23E', 'TCGA-AC-A23G', 'TCGA-AC-A2B8', 'TCGA-AC-A2FB', 'TCGA-AC-A2FE', 'TCGA-AC-A2FF', 'TCGA-AC-A2FG', 'TCGA-AC-A2FK', 'TCGA-AC-A2FO', 'TCGA-AC-A3QP', 'TCGA-AC-A3TM', 'TCGA-AC-A3TN', 'TCGA-AC-A3W5', 'TCGA-AC-A3W7', 'TCGA-AC-A3YJ', 'TCGA-AC-A5XS', 'TCGA-AC-A5XU', 'TCGA-AO-A03L', 'TCGA-AO-A03M', 'TCGA-AO-A03N', 'TCGA-AO-A03O', 'TCGA-AO-A03P', 'TCGA-AO-A03R', 'TCGA-AO-A03T', 'TCGA-AO-A03V', 'TCGA-AO-A0J3', 'TCGA-AO-A0J5', 'TCGA-AO-A0J7', 'TCGA-AO-A0J8', 'TCGA-AO-A0J9', 'TCGA-AO-A0JA', 'TCGA-AO-A0JB', 'TCGA-AO-A0JC', 'TCGA-AO-A0JD', 'TCGA-AO-A0JF', 'TCGA-AO-A0JG', 'TCGA-AO-A0JI', 'TCGA-AO-A0JJ', 'TCGA-AO-A0JM', 'TCGA-AO-A125', 'TCGA-AO-A126', 'TCGA-AO-A12A', 'TCGA-AO-A12B', 'TCGA-AO-A12C', 'TCGA-AO-A12E', 'TCGA-AO-A12G', 'TCGA-AO-A12H', 'TCGA-AO-A1KO', 'TCGA-AO-A1KP', 'TCGA-AO-A1KQ', 'TCGA-AO-A1KS', 'TCGA-AO-A1KT', 'TCGA-AQ-A04H', 'TCGA-AQ-A04L', 'TCGA-AQ-A1H2', 'TCGA-AQ-A1H3', 'TCGA-AQ-A54O', 'TCGA-AQ-A7U7', 'TCGA-AR-A0TQ', 'TCGA-AR-A0TR', 'TCGA-AR-A0TT', 'TCGA-AR-A0TY', 'TCGA-AR-A0TZ', 'TCGA-AR-A0U2', 'TCGA-AR-A0U3', 'TCGA-AR-A1AK', 'TCGA-AR-A1AL', 'TCGA-AR-A1AM', 'TCGA-AR-A1AN', 'TCGA-AR-A1AO', 'TCGA-AR-A1AP', 'TCGA-AR-A1AS', 'TCGA-AR-A1AT', 'TCGA-AR-A1AU', 'TCGA-AR-A1AV', 'TCGA-AR-A1AW', 'TCGA-AR-A1AX', 'TCGA-AR-A24H', 'TCGA-AR-A24L', 'TCGA-AR-A24M', 'TCGA-AR-A24O', 'TCGA-AR-A24R', 'TCGA-AR-A24S', 'TCGA-AR-A24T', 'TCGA-AR-A24V', 'TCGA-AR-A24W', 'TCGA-AR-A24X', 'TCGA-AR-A24Z', 'TCGA-AR-A250', 'TCGA-AR-A252', 'TCGA-AR-A254', 'TCGA-AR-A255', 'TCGA-AR-A2LE', 'TCGA-AR-A2LJ', 'TCGA-AR-A2LK', 'TCGA-AR-A2LL', 'TCGA-AR-A2LM', 'TCGA-AR-A2LN', 'TCGA-AR-A2LO', 'TCGA-AR-A2LQ', 'TCGA-AR-A5QM', 'TCGA-AR-A5QN', 'TCGA-AR-A5QP', 'TCGA-B6-A40C', 'TCGA-BH-A0AW', 'TCGA-BH-A0AY', 'TCGA-BH-A0B1', 'TCGA-BH-A0B4', 'TCGA-BH-A0B8', 'TCGA-BH-A0BC', 'TCGA-BH-A0BD', 'TCGA-BH-A0BJ', 'TCGA-BH-A0BV', 'TCGA-BH-A0C0', 'TCGA-BH-A0DH', 'TCGA-BH-A0DK', 'TCGA-BH-A0DP', 'TCGA-BH-A0DZ', 'TCGA-BH-A0E1', 'TCGA-BH-A0E2', 'TCGA-BH-A0E7', 'TCGA-BH-A0EB', 'TCGA-BH-A0GY', 'TCGA-BH-A0GZ', 'TCGA-BH-A0H0', 'TCGA-BH-A0H7', 'TCGA-BH-A0H9', 'TCGA-BH-A0HB', 'TCGA-BH-A0HF', 'TCGA-BH-A0HI', 'TCGA-BH-A0HK', 'TCGA-BH-A0HL', 'TCGA-BH-A0HN', 'TCGA-BH-A0HO', 'TCGA-BH-A0HP', 'TCGA-BH-A0HQ', 'TCGA-BH-A0HU', 'TCGA-BH-A0HW', 'TCGA-BH-A0HX', 'TCGA-BH-A0HY', 'TCGA-BH-A0W5', 'TCGA-BH-A0W7', 'TCGA-C8-A26V', 'TCGA-C8-A26Z', 'TCGA-C8-A273', 'TCGA-C8-A274', 'TCGA-C8-A278', 'TCGA-C8-A3M8', 'TCGA-D8-A13Z', 'TCGA-D8-A141', 'TCGA-D8-A145', 'TCGA-D8-A1J8', 'TCGA-D8-A1JH', 'TCGA-D8-A1JI', 'TCGA-D8-A1JN', 'TCGA-D8-A1JP', 'TCGA-D8-A1JS', 'TCGA-D8-A1JT', 'TCGA-D8-A1JU', 'TCGA-D8-A1X5', 'TCGA-D8-A1X6', 'TCGA-D8-A1XJ', 'TCGA-D8-A1XL', 'TCGA-D8-A1XO', 'TCGA-D8-A1XZ', 'TCGA-D8-A1Y0', 'TCGA-D8-A1Y1', 'TCGA-D8-A1Y2', 'TCGA-D8-A1Y3', 'TCGA-D8-A27E', 'TCGA-D8-A27K', 'TCGA-D8-A27T', 'TCGA-D8-A27V', 'TCGA-D8-A27W', 'TCGA-D8-A3Z6', 'TCGA-D8-A4Z1', 'TCGA-D8-A73U', 'TCGA-D8-A73W', 'TCGA-D8-A73X', 'TCGA-E2-A105', 'TCGA-E2-A106', 'TCGA-E2-A107', 'TCGA-E2-A108', 'TCGA-E2-A109', 'TCGA-E2-A10A', 'TCGA-E2-A10B', 'TCGA-E2-A10C', 'TCGA-E2-A10E', 'TCGA-E2-A10F', 'TCGA-E2-A14O', 'TCGA-E2-A14Q', 'TCGA-E2-A14S', 'TCGA-E2-A14T', 'TCGA-E2-A14U', 'TCGA-E2-A14V', 'TCGA-E2-A14W', 'TCGA-E2-A14Z', 'TCGA-E2-A152', 'TCGA-E2-A153', 'TCGA-E2-A154', 'TCGA-E2-A155', 'TCGA-E2-A156', 'TCGA-E2-A15C', 'TCGA-E2-A15D', 'TCGA-E2-A15E', 'TCGA-E2-A15F', 'TCGA-E2-A15G', 'TCGA-E2-A15I', 'TCGA-E2-A15J', 'TCGA-E2-A15L', 'TCGA-E2-A15M', 'TCGA-E2-A15O', 'TCGA-E2-A15P', 'TCGA-E2-A15R', 'TCGA-E2-A15S', 'TCGA-E2-A15T', 'TCGA-E2-A1B1', 'TCGA-E2-A1B4', 'TCGA-E2-A1B5', 'TCGA-E2-A1BC', 'TCGA-E2-A1BD', 'TCGA-E2-A1IE', 'TCGA-E2-A1IF', 'TCGA-E2-A1IG', 'TCGA-E2-A1IH', 'TCGA-E2-A1IJ', 'TCGA-E2-A1IK', 'TCGA-E2-A1IL', 'TCGA-E2-A1IN', 'TCGA-E2-A1IO', 'TCGA-E2-A1IU', 'TCGA-E2-A1L6', 'TCGA-E2-A1L7', 'TCGA-E2-A1L8', 'TCGA-E2-A1L9', 'TCGA-E2-A1LA', 'TCGA-E2-A2P5', 'TCGA-E2-A2P6', 'TCGA-E2-A3DX', 'TCGA-E2-A56Z', 'TCGA-E2-A570', 'TCGA-E2-A572', 'TCGA-E2-A576', 'TCGA-E2-A9RU', 'TCGA-E9-A1N3', 'TCGA-E9-A1N4', 'TCGA-E9-A1N5', 'TCGA-E9-A1N6', 'TCGA-E9-A1NA', 'TCGA-E9-A1NE', 'TCGA-E9-A1NF', 'TCGA-E9-A1NG', 'TCGA-E9-A1NH', 'TCGA-E9-A1NI', 'TCGA-E9-A1R3', 'TCGA-E9-A1R4', 'TCGA-E9-A1R5', 'TCGA-E9-A1R6', 'TCGA-E9-A1R7', 'TCGA-E9-A1RA', 'TCGA-E9-A1RB', 'TCGA-E9-A1RC', 'TCGA-E9-A1RD', 'TCGA-E9-A1RE', 'TCGA-E9-A1RF', 'TCGA-E9-A1RG', 'TCGA-E9-A1RI', 'TCGA-E9-A226', 'TCGA-E9-A227', 'TCGA-E9-A228', 'TCGA-E9-A22A', 'TCGA-E9-A22B', 'TCGA-E9-A22D', 'TCGA-E9-A22H', 'TCGA-E9-A245', 'TCGA-E9-A247', 'TCGA-E9-A249', 'TCGA-E9-A24A', 'TCGA-E9-A295', 'TCGA-E9-A2JS', 'TCGA-E9-A2JT', 'TCGA-E9-A3HO', 'TCGA-E9-A3Q9', 'TCGA-E9-A3X8', 'TCGA-E9-A5UP', 'TCGA-E9-A6HE', 'TCGA-EW-A1IW', 'TCGA-EW-A1IX', 'TCGA-EW-A1IZ', 'TCGA-EW-A1J1', 'TCGA-EW-A1J2', 'TCGA-EW-A1J3', 'TCGA-EW-A1J6', 'TCGA-EW-A1OX', 'TCGA-EW-A1OY', 'TCGA-EW-A1P0', 'TCGA-EW-A1P3', 'TCGA-EW-A1P5', 'TCGA-EW-A1P6', 'TCGA-EW-A1PA', 'TCGA-EW-A1PC', 'TCGA-EW-A1PE', 'TCGA-EW-A1PF', 'TCGA-EW-A1PG', 'TCGA-EW-A2FS', 'TCGA-EW-A2FV', 'TCGA-EW-A2FW', 'TCGA-EW-A3E8', 'TCGA-EW-A423', 'TCGA-EW-A424', 'TCGA-EW-A6SC', 'TCGA-GM-A2D9', 'TCGA-GM-A2DA', 'TCGA-GM-A2DC', 'TCGA-GM-A2DK', 'TCGA-GM-A2DL', 'TCGA-GM-A2DM', 'TCGA-GM-A2DN', 'TCGA-GM-A2DO', 'TCGA-GM-A3NW', 'TCGA-GM-A3NY', 'TCGA-GM-A3XG', 'TCGA-GM-A3XN', 'TCGA-GM-A4E0', 'TCGA-GM-A5PX', 'TCGA-LD-A66U', 'TCGA-LL-A440', 'TCGA-LL-A442', 'TCGA-LL-A50Y', 'TCGA-LL-A5YL', 'TCGA-LL-A5YM', 'TCGA-LL-A5YN', 'TCGA-LL-A6FP', 'TCGA-LL-A73Z', 'TCGA-LL-A7SZ', 'TCGA-LL-A9Q3', 'TCGA-LQ-A4E4', 'TCGA-PE-A5DD', 'TCGA-PE-A5DE', 'TCGA-S3-A6ZF', 'TCGA-S3-A6ZG', 'TCGA-S3-A6ZH', 'TCGA-S3-AA11', 'TCGA-S3-AA12', 'TCGA-S3-AA17', 'TCGA-V7-A7HQ', 'TCGA-W8-A86G', 'TCGA-WT-AB41', 'TCGA-WT-AB44', 'TCGA-XX-A899'\""
      ]
     },
     "execution_count": 3,
     "metadata": {},
     "output_type": "execute_result"
    }
   ],
   "source": [
    "case_list = \", \".join(\"'%s'\" % w for w in patient.case_barcode)\n",
    "case_list"
   ]
  },
  {
   "cell_type": "code",
   "execution_count": 4,
   "metadata": {},
   "outputs": [
    {
     "name": "stdout",
     "output_type": "stream",
     "text": [
      "(565, 4)\n"
     ]
    },
    {
     "data": {
      "text/html": [
       "<div>\n",
       "<style scoped>\n",
       "    .dataframe tbody tr th:only-of-type {\n",
       "        vertical-align: middle;\n",
       "    }\n",
       "\n",
       "    .dataframe tbody tr th {\n",
       "        vertical-align: top;\n",
       "    }\n",
       "\n",
       "    .dataframe thead th {\n",
       "        text-align: right;\n",
       "    }\n",
       "</style>\n",
       "<table border=\"1\" class=\"dataframe\">\n",
       "  <thead>\n",
       "    <tr style=\"text-align: right;\">\n",
       "      <th></th>\n",
       "      <th>case_barcode</th>\n",
       "      <th>sample_barcode</th>\n",
       "      <th>sample_type</th>\n",
       "      <th>sample_type_name</th>\n",
       "    </tr>\n",
       "  </thead>\n",
       "  <tbody>\n",
       "    <tr>\n",
       "      <th>0</th>\n",
       "      <td>TCGA-BH-A0C0</td>\n",
       "      <td>TCGA-BH-A0C0-01A</td>\n",
       "      <td>01</td>\n",
       "      <td>Primary solid Tumor</td>\n",
       "    </tr>\n",
       "    <tr>\n",
       "      <th>1</th>\n",
       "      <td>TCGA-D8-A141</td>\n",
       "      <td>TCGA-D8-A141-01A</td>\n",
       "      <td>01</td>\n",
       "      <td>Primary solid Tumor</td>\n",
       "    </tr>\n",
       "    <tr>\n",
       "      <th>2</th>\n",
       "      <td>TCGA-EW-A424</td>\n",
       "      <td>TCGA-EW-A424-01A</td>\n",
       "      <td>01</td>\n",
       "      <td>Primary solid Tumor</td>\n",
       "    </tr>\n",
       "    <tr>\n",
       "      <th>3</th>\n",
       "      <td>TCGA-AO-A12G</td>\n",
       "      <td>TCGA-AO-A12G-01A</td>\n",
       "      <td>01</td>\n",
       "      <td>Primary solid Tumor</td>\n",
       "    </tr>\n",
       "    <tr>\n",
       "      <th>4</th>\n",
       "      <td>TCGA-AC-A3QP</td>\n",
       "      <td>TCGA-AC-A3QP-01A</td>\n",
       "      <td>01</td>\n",
       "      <td>Primary solid Tumor</td>\n",
       "    </tr>\n",
       "  </tbody>\n",
       "</table>\n",
       "</div>"
      ],
      "text/plain": [
       "   case_barcode    sample_barcode sample_type     sample_type_name\n",
       "0  TCGA-BH-A0C0  TCGA-BH-A0C0-01A          01  Primary solid Tumor\n",
       "1  TCGA-D8-A141  TCGA-D8-A141-01A          01  Primary solid Tumor\n",
       "2  TCGA-EW-A424  TCGA-EW-A424-01A          01  Primary solid Tumor\n",
       "3  TCGA-AO-A12G  TCGA-AO-A12G-01A          01  Primary solid Tumor\n",
       "4  TCGA-AC-A3QP  TCGA-AC-A3QP-01A          01  Primary solid Tumor"
      ]
     },
     "execution_count": 4,
     "metadata": {},
     "output_type": "execute_result"
    }
   ],
   "source": [
    "client = bq.Client()\n",
    "biospecimen = 'isb-cgc.TCGA_bioclin_v0.Biospecimen'\n",
    "\n",
    "query = \"\"\"\\\n",
    "SELECT \n",
    "    case_barcode, sample_barcode, sample_type, sample_type_name\n",
    "FROM\n",
    "    `{}`\n",
    "WHERE\n",
    "    case_barcode IN ({}) AND sample_type IN ('01', '02', '06', '07', '11')\n",
    "\"\"\".format(biospecimen, case_list)\n",
    "\n",
    "samples = client.query(query).to_dataframe()\n",
    "\n",
    "print(samples.shape)\n",
    "\n",
    "samples.head()"
   ]
  },
  {
   "cell_type": "code",
   "execution_count": 5,
   "metadata": {},
   "outputs": [
    {
     "data": {
      "text/plain": [
       "Primary solid Tumor    505\n",
       "Solid Tissue Normal     59\n",
       "Metastatic               1\n",
       "Name: sample_type_name, dtype: int64"
      ]
     },
     "execution_count": 5,
     "metadata": {},
     "output_type": "execute_result"
    }
   ],
   "source": [
    "samples.sample_type_name.value_counts()"
   ]
  },
  {
   "cell_type": "code",
   "execution_count": 8,
   "metadata": {},
   "outputs": [
    {
     "name": "stdout",
     "output_type": "stream",
     "text": [
      "(565, 7)\n"
     ]
    },
    {
     "data": {
      "text/html": [
       "<div>\n",
       "<style scoped>\n",
       "    .dataframe tbody tr th:only-of-type {\n",
       "        vertical-align: middle;\n",
       "    }\n",
       "\n",
       "    .dataframe tbody tr th {\n",
       "        vertical-align: top;\n",
       "    }\n",
       "\n",
       "    .dataframe thead th {\n",
       "        text-align: right;\n",
       "    }\n",
       "</style>\n",
       "<table border=\"1\" class=\"dataframe\">\n",
       "  <thead>\n",
       "    <tr style=\"text-align: right;\">\n",
       "      <th></th>\n",
       "      <th>case_barcode</th>\n",
       "      <th>sample_barcode</th>\n",
       "      <th>sample_type</th>\n",
       "      <th>sample_type_name</th>\n",
       "      <th>initial_response</th>\n",
       "      <th>recurrence_status</th>\n",
       "      <th>recurrence_log</th>\n",
       "    </tr>\n",
       "  </thead>\n",
       "  <tbody>\n",
       "    <tr>\n",
       "      <th>0</th>\n",
       "      <td>TCGA-BH-A0C0</td>\n",
       "      <td>TCGA-BH-A0C0-01A</td>\n",
       "      <td>01</td>\n",
       "      <td>Primary solid Tumor</td>\n",
       "      <td>Unknown</td>\n",
       "      <td>Unknown</td>\n",
       "      <td>Alive tumor free, last follow-up within risky ...</td>\n",
       "    </tr>\n",
       "    <tr>\n",
       "      <th>1</th>\n",
       "      <td>TCGA-BH-A0C0</td>\n",
       "      <td>TCGA-BH-A0C0-11A</td>\n",
       "      <td>11</td>\n",
       "      <td>Solid Tissue Normal</td>\n",
       "      <td>Unknown</td>\n",
       "      <td>Unknown</td>\n",
       "      <td>Alive tumor free, last follow-up within risky ...</td>\n",
       "    </tr>\n",
       "    <tr>\n",
       "      <th>2</th>\n",
       "      <td>TCGA-D8-A141</td>\n",
       "      <td>TCGA-D8-A141-01A</td>\n",
       "      <td>01</td>\n",
       "      <td>Primary solid Tumor</td>\n",
       "      <td>Unknown</td>\n",
       "      <td>Unknown</td>\n",
       "      <td>Alive tumor free, last follow-up within risky ...</td>\n",
       "    </tr>\n",
       "    <tr>\n",
       "      <th>3</th>\n",
       "      <td>TCGA-EW-A424</td>\n",
       "      <td>TCGA-EW-A424-01A</td>\n",
       "      <td>01</td>\n",
       "      <td>Primary solid Tumor</td>\n",
       "      <td>Unknown</td>\n",
       "      <td>Unknown</td>\n",
       "      <td>Alive tumor free, last follow-up within risky ...</td>\n",
       "    </tr>\n",
       "    <tr>\n",
       "      <th>4</th>\n",
       "      <td>TCGA-AO-A12G</td>\n",
       "      <td>TCGA-AO-A12G-01A</td>\n",
       "      <td>01</td>\n",
       "      <td>Primary solid Tumor</td>\n",
       "      <td>Unknown</td>\n",
       "      <td>Unknown</td>\n",
       "      <td>Alive tumor free, last follow-up within risky ...</td>\n",
       "    </tr>\n",
       "  </tbody>\n",
       "</table>\n",
       "</div>"
      ],
      "text/plain": [
       "   case_barcode    sample_barcode sample_type     sample_type_name  \\\n",
       "0  TCGA-BH-A0C0  TCGA-BH-A0C0-01A          01  Primary solid Tumor   \n",
       "1  TCGA-BH-A0C0  TCGA-BH-A0C0-11A          11  Solid Tissue Normal   \n",
       "2  TCGA-D8-A141  TCGA-D8-A141-01A          01  Primary solid Tumor   \n",
       "3  TCGA-EW-A424  TCGA-EW-A424-01A          01  Primary solid Tumor   \n",
       "4  TCGA-AO-A12G  TCGA-AO-A12G-01A          01  Primary solid Tumor   \n",
       "\n",
       "  initial_response recurrence_status  \\\n",
       "0          Unknown           Unknown   \n",
       "1          Unknown           Unknown   \n",
       "2          Unknown           Unknown   \n",
       "3          Unknown           Unknown   \n",
       "4          Unknown           Unknown   \n",
       "\n",
       "                                      recurrence_log  \n",
       "0  Alive tumor free, last follow-up within risky ...  \n",
       "1  Alive tumor free, last follow-up within risky ...  \n",
       "2  Alive tumor free, last follow-up within risky ...  \n",
       "3  Alive tumor free, last follow-up within risky ...  \n",
       "4  Alive tumor free, last follow-up within risky ...  "
      ]
     },
     "execution_count": 8,
     "metadata": {},
     "output_type": "execute_result"
    }
   ],
   "source": [
    "merged = pd.merge(samples, patient, how='outer', on='case_barcode')\n",
    "\n",
    "print(merged.shape)\n",
    "merged.head()"
   ]
  },
  {
   "cell_type": "code",
   "execution_count": 9,
   "metadata": {},
   "outputs": [],
   "source": [
    "merged.to_csv(\"./metadata/hormone_metadata.tsv\", sep=\"\\t\", index=False)"
   ]
  }
 ],
 "metadata": {
  "kernelspec": {
   "display_name": "Python 3",
   "language": "python",
   "name": "python3"
  },
  "language_info": {
   "codemirror_mode": {
    "name": "ipython",
    "version": 3
   },
   "file_extension": ".py",
   "mimetype": "text/x-python",
   "name": "python",
   "nbconvert_exporter": "python",
   "pygments_lexer": "ipython3",
   "version": "3.7.1"
  }
 },
 "nbformat": 4,
 "nbformat_minor": 2
}
