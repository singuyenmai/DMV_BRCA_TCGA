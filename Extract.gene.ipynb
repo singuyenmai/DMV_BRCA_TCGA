{
 "cells": [
  {
   "cell_type": "code",
   "execution_count": 1,
   "metadata": {},
   "outputs": [],
   "source": [
    "import pandas as pd\n",
    "import numpy as np\n",
    "\n",
    "from google.cloud import bigquery as bq"
   ]
  },
  {
   "cell_type": "code",
   "execution_count": 2,
   "metadata": {},
   "outputs": [],
   "source": [
    "cancer_gene = set([line. rstrip('\\n') for line in open(\"../RADMETH_TRIP/sig-DMD.cancer.genes\")])\n",
    "trip_gene = set([line. rstrip('\\n') for line in open(\"../RADMETH_TRIP/sig-DMD.trip.genes\")])\n",
    "nontrip_gene = set([line. rstrip('\\n') for line in open(\"../RADMETH_TRIP/sig-DMD.nontrip.genes\")])\n",
    "err_gene = set([line. rstrip('\\n') for line in open(\"../RADMETH_ER/sig-DMD.err.genes\")])"
   ]
  },
  {
   "cell_type": "code",
   "execution_count": 4,
   "metadata": {},
   "outputs": [
    {
     "data": {
      "text/plain": [
       "3518"
      ]
     },
     "execution_count": 4,
     "metadata": {},
     "output_type": "execute_result"
    }
   ],
   "source": [
    "union_gene = cancer_gene.union(trip_gene, nontrip_gene, err_gene)\n",
    "len(union_gene)"
   ]
  },
  {
   "cell_type": "code",
   "execution_count": null,
   "metadata": {},
   "outputs": [],
   "source": []
  }
 ],
 "metadata": {
  "kernelspec": {
   "display_name": "Python 3",
   "language": "python",
   "name": "python3"
  },
  "language_info": {
   "codemirror_mode": {
    "name": "ipython",
    "version": 3
   },
   "file_extension": ".py",
   "mimetype": "text/x-python",
   "name": "python",
   "nbconvert_exporter": "python",
   "pygments_lexer": "ipython3",
   "version": "3.7.1"
  }
 },
 "nbformat": 4,
 "nbformat_minor": 2
}
