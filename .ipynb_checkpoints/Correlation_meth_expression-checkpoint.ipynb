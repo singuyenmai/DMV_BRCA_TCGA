{
 "cells": [
  {
   "cell_type": "code",
   "execution_count": null,
   "metadata": {},
   "outputs": [],
   "source": [
    "import pandas as pd\n",
    "import numpy as np\n",
    "\n",
    "import matplotlib.pyplot as plt\n",
    "import seaborn as sns\n",
    "\n",
    "%matplotlib inline"
   ]
  },
  {
   "cell_type": "code",
   "execution_count": null,
   "metadata": {},
   "outputs": [],
   "source": [
    "methylation = pd.read_table(\"./datasets/methylation_sigDMD.HM450.tsv\", sep=\"\\t\")\n",
    "print(methylation.shape)\n",
    "methylation.head()"
   ]
  },
  {
   "cell_type": "code",
   "execution_count": null,
   "metadata": {},
   "outputs": [],
   "source": [
    "methylation_matrix = methylation.groupby(['case_barcode', 'sample_barcode', 'sig-DMD'], \n",
    "                                         as_index=False)['avg_beta_value'].mean().pivot(index='sample_barcode', \n",
    "                                                                                     columns='sig-DMD', \n",
    "                                                                                     values='avg_beta_value')\n",
    "print(methylation_matrix.shape)\n",
    "methylation_matrix.head()"
   ]
  },
  {
   "cell_type": "code",
   "execution_count": null,
   "metadata": {},
   "outputs": [],
   "source": [
    "expression = pd.read_table(\"./datasets/expression.IlluminaHiSeq.tsv\", sep=\"\\t\")\n",
    "print(expression.shape)\n",
    "expression.head()"
   ]
  },
  {
   "cell_type": "code",
   "execution_count": null,
   "metadata": {},
   "outputs": [],
   "source": [
    "expression_matrix = expression.pivot(index='sample_barcode', columns='gene_symbol', values='transformed_count')\n",
    "print(expression_matrix.shape)\n",
    "expression_matrix.head()"
   ]
  },
  {
   "cell_type": "code",
   "execution_count": null,
   "metadata": {
    "scrolled": true
   },
   "outputs": [],
   "source": [
    "gene_sigDMD = pd.read_table(\"./preliminary/sig-DMD.union.includeERR.gene_region\", sep=\"\\t\", header=None)\n",
    "gene_sigDMD.columns = ['gene_symbol', 'sig-DMD']\n",
    "gene_sigDMD.set_index('gene_symbol', inplace=True)\n",
    "print(gene_sigDMD.shape)\n",
    "gene_sigDMD.head()"
   ]
  },
  {
   "cell_type": "code",
   "execution_count": null,
   "metadata": {},
   "outputs": [],
   "source": [
    "def permutation_test(const_var, perm_var, obs_r, n): \n",
    "    # Initialize permutation replicates: perm_replicates\n",
    "    perm_replicates = np.empty(n)\n",
    "\n",
    "    # Draw replicates\n",
    "    for i in range(n):\n",
    "        # Permute perm_var measurments:\n",
    "        permuted_values = np.random.permutation(perm_var)\n",
    "\n",
    "        # Compute Pearson correlation\n",
    "        perm_replicates[i] = np.corrcoef(permuted_values, const_var)[0,1]\n",
    "\n",
    "    # Compute p-value: p\n",
    "    p = np.sum(perm_replicates >= obs_r) / len(perm_replicates) if obs_r>0 \\\n",
    "        else np.sum(perm_replicates <= obs_r) / len(perm_replicates)\n",
    "    \n",
    "    return(p)"
   ]
  },
  {
   "cell_type": "code",
   "execution_count": null,
   "metadata": {
    "scrolled": true
   },
   "outputs": [],
   "source": [
    "dmds_meth = methylation_matrix.columns\n",
    "corr_coefs_pvals = []\n",
    "no_meth = []\n",
    "\n",
    "for g in expression_matrix.columns:\n",
    "    \n",
    "    dmds = gene_sigDMD.loc[g, 'sig-DMD'].split(sep=\", \")\n",
    "    regions = dmds_meth.intersection(dmds)\n",
    "    \n",
    "    if (len(regions) > 0):\n",
    "        \n",
    "        expr = expression_matrix.loc[:, g].reset_index()\n",
    "        meth = methylation_matrix.loc[:, regions].reset_index()\n",
    "        df = pd.merge(expr, meth, how='inner', on='sample_barcode')\n",
    "\n",
    "        for r in regions:\n",
    "            corr_coef = df[[g, r]].corr().iloc[0,1]\n",
    "            if not np.isnan(corr_coef):\n",
    "                p = permutation_test(const_var = df[r], perm_var = df[g], obs_r = corr_coef, n=10000)\n",
    "            else: \n",
    "                p = np.nan\n",
    "            corr_coefs_pvals.append([g, r, corr_coef, p])\n",
    "    else:\n",
    "        no_meth.append(g)"
   ]
  },
  {
   "cell_type": "code",
   "execution_count": null,
   "metadata": {},
   "outputs": [],
   "source": [
    "len(no_meth) #Genes that don't have corresponding methylation of associated sig-DMDs"
   ]
  },
  {
   "cell_type": "code",
   "execution_count": null,
   "metadata": {},
   "outputs": [],
   "source": [
    "gene_sigDMD_corr = pd.DataFrame(corr_coefs_pvals, columns=['gene_symbol', 'sig-DMD', 'corr_coef', 'p_value'])\n",
    "print(gene_sigDMD_corr.shape)\n",
    "gene_sigDMD_corr.head()"
   ]
  },
  {
   "cell_type": "code",
   "execution_count": null,
   "metadata": {
    "scrolled": true
   },
   "outputs": [],
   "source": [
    "len(gene_sigDMD_corr['gene_symbol'].unique())"
   ]
  },
  {
   "cell_type": "markdown",
   "metadata": {},
   "source": [
    "==> We have 3452 genes have expression data, among them 264 don't have corresponding methylation data & 3188 do"
   ]
  },
  {
   "cell_type": "code",
   "execution_count": null,
   "metadata": {},
   "outputs": [],
   "source": [
    "gene_sigDMD_corr.to_csv(\"./datasets/gene_sigDMD_corr.tsv\", sep=\"\\t\", index=None)"
   ]
  },
  {
   "cell_type": "markdown",
   "metadata": {},
   "source": [
    "-----------------------"
   ]
  },
  {
   "cell_type": "code",
   "execution_count": 11,
   "metadata": {},
   "outputs": [
    {
     "data": {
      "text/plain": [
       "<matplotlib.axes._subplots.AxesSubplot at 0x7feeb0a934a8>"
      ]
     },
     "execution_count": 11,
     "metadata": {},
     "output_type": "execute_result"
    },
    {
     "data": {
      "image/png": "[encoded data removed]",
      "text/plain": [
       "<Figure size 720x504 with 1 Axes>"
      ]
     },
     "metadata": {
      "needs_background": "light"
     },
     "output_type": "display_data"
    }
   ],
   "source": [
    "gene_sigDMD_corr['corr_coef'].hist(bins=50, figsize=(10, 7))"
   ]
  },
  {
   "cell_type": "code",
   "execution_count": 12,
   "metadata": {
    "scrolled": true
   },
   "outputs": [
    {
     "data": {
      "text/plain": [
       "<matplotlib.axes._subplots.AxesSubplot at 0x7feeb0482710>"
      ]
     },
     "execution_count": 12,
     "metadata": {},
     "output_type": "execute_result"
    },
    {
     "data": {
      "image/png": "[encoded data removed]",
      "text/plain": [
       "<Figure size 720x504 with 1 Axes>"
      ]
     },
     "metadata": {
      "needs_background": "light"
     },
     "output_type": "display_data"
    }
   ],
   "source": [
    "gene_sigDMD_corr['abs_corr_coef'] = gene_sigDMD_corr['corr_coef'].abs()\n",
    "gene_sigDMD_corr.groupby('gene_symbol')['abs_corr_coef'].max().hist(bins=50, figsize=(10, 7))"
   ]
  },
  {
   "cell_type": "code",
   "execution_count": 13,
   "metadata": {},
   "outputs": [
    {
     "data": {
      "text/plain": [
       "count    3186.000000\n",
       "mean        0.196346\n",
       "std         0.154814\n",
       "min         0.000003\n",
       "25%         0.072683\n",
       "50%         0.157499\n",
       "75%         0.286063\n",
       "max         0.779630\n",
       "Name: abs_corr_coef, dtype: float64"
      ]
     },
     "execution_count": 13,
     "metadata": {},
     "output_type": "execute_result"
    }
   ],
   "source": [
    "gene_sigDMD_corr.groupby('gene_symbol')['abs_corr_coef'].max().describe()"
   ]
  },
  {
   "cell_type": "code",
   "execution_count": 14,
   "metadata": {},
   "outputs": [
    {
     "data": {
      "text/plain": [
       "False    3186\n",
       "True        2\n",
       "Name: abs_corr_coef, dtype: int64"
      ]
     },
     "execution_count": 14,
     "metadata": {},
     "output_type": "execute_result"
    }
   ],
   "source": [
    "gene_sigDMD_corr.groupby('gene_symbol')['abs_corr_coef'].max().isna().value_counts()"
   ]
  }
 ],
 "metadata": {
  "anaconda-cloud": {},
  "kernelspec": {
   "display_name": "Python [conda env:dmv_py36]",
   "language": "python",
   "name": "conda-env-dmv_py36-py"
  },
  "language_info": {
   "codemirror_mode": {
    "name": "ipython",
    "version": 3
   },
   "file_extension": ".py",
   "mimetype": "text/x-python",
   "name": "python",
   "nbconvert_exporter": "python",
   "pygments_lexer": "ipython3",
   "version": "3.6.7"
  }
 },
 "nbformat": 4,
 "nbformat_minor": 2
}
