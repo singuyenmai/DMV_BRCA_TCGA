{
 "cells": [
  {
   "cell_type": "code",
   "execution_count": 1,
   "metadata": {},
   "outputs": [],
   "source": [
    "import pandas as pd\n",
    "from google.cloud import bigquery as bq"
   ]
  },
  {
   "cell_type": "markdown",
   "metadata": {},
   "source": [
    "# Subtype"
   ]
  },
  {
   "cell_type": "code",
   "execution_count": 2,
   "metadata": {},
   "outputs": [
    {
     "name": "stdout",
     "output_type": "stream",
     "text": [
      "(1218, 4)\n"
     ]
    },
    {
     "data": {
      "text/html": [
       "<div>\n",
       "<style scoped>\n",
       "    .dataframe tbody tr th:only-of-type {\n",
       "        vertical-align: middle;\n",
       "    }\n",
       "\n",
       "    .dataframe tbody tr th {\n",
       "        vertical-align: top;\n",
       "    }\n",
       "\n",
       "    .dataframe thead th {\n",
       "        text-align: right;\n",
       "    }\n",
       "</style>\n",
       "<table border=\"1\" class=\"dataframe\">\n",
       "  <thead>\n",
       "    <tr style=\"text-align: right;\">\n",
       "      <th></th>\n",
       "      <th>aliquot_barcode</th>\n",
       "      <th>subtype</th>\n",
       "      <th>case_barcode</th>\n",
       "      <th>sample_barcode</th>\n",
       "    </tr>\n",
       "  </thead>\n",
       "  <tbody>\n",
       "    <tr>\n",
       "      <th>0</th>\n",
       "      <td>TCGA-E2-A158-11A-22R-A12D-07</td>\n",
       "      <td>Normal</td>\n",
       "      <td>TCGA-E2-A158</td>\n",
       "      <td>TCGA-E2-A158-11A</td>\n",
       "    </tr>\n",
       "    <tr>\n",
       "      <th>1</th>\n",
       "      <td>TCGA-BH-A0DD-11A-23R-A12P-07</td>\n",
       "      <td>LumA</td>\n",
       "      <td>TCGA-BH-A0DD</td>\n",
       "      <td>TCGA-BH-A0DD-11A</td>\n",
       "    </tr>\n",
       "    <tr>\n",
       "      <th>2</th>\n",
       "      <td>TCGA-BH-A1EO-11A-31R-A137-07</td>\n",
       "      <td>LumA</td>\n",
       "      <td>TCGA-BH-A1EO</td>\n",
       "      <td>TCGA-BH-A1EO-11A</td>\n",
       "    </tr>\n",
       "    <tr>\n",
       "      <th>3</th>\n",
       "      <td>TCGA-BH-A0B5-11A-23R-A12P-07</td>\n",
       "      <td>LumA</td>\n",
       "      <td>TCGA-BH-A0B5</td>\n",
       "      <td>TCGA-BH-A0B5-11A</td>\n",
       "    </tr>\n",
       "    <tr>\n",
       "      <th>4</th>\n",
       "      <td>TCGA-A7-A13G-11A-51R-A13Q-07</td>\n",
       "      <td>LumA</td>\n",
       "      <td>TCGA-A7-A13G</td>\n",
       "      <td>TCGA-A7-A13G-11A</td>\n",
       "    </tr>\n",
       "  </tbody>\n",
       "</table>\n",
       "</div>"
      ],
      "text/plain": [
       "                aliquot_barcode subtype  case_barcode    sample_barcode\n",
       "0  TCGA-E2-A158-11A-22R-A12D-07  Normal  TCGA-E2-A158  TCGA-E2-A158-11A\n",
       "1  TCGA-BH-A0DD-11A-23R-A12P-07    LumA  TCGA-BH-A0DD  TCGA-BH-A0DD-11A\n",
       "2  TCGA-BH-A1EO-11A-31R-A137-07    LumA  TCGA-BH-A1EO  TCGA-BH-A1EO-11A\n",
       "3  TCGA-BH-A0B5-11A-23R-A12P-07    LumA  TCGA-BH-A0B5  TCGA-BH-A0B5-11A\n",
       "4  TCGA-A7-A13G-11A-51R-A13Q-07    LumA  TCGA-A7-A13G  TCGA-A7-A13G-11A"
      ]
     },
     "execution_count": 2,
     "metadata": {},
     "output_type": "execute_result"
    }
   ],
   "source": [
    "patient = pd.read_table(\"./metadata/subtypes.tsv\", sep=\"\\t\")\n",
    "\n",
    "print(patient.shape)\n",
    "patient.head()"
   ]
  },
  {
   "cell_type": "code",
   "execution_count": 3,
   "metadata": {},
   "outputs": [
    {
     "name": "stdout",
     "output_type": "stream",
     "text": [
      "(1218,)\n",
      "(1218, 4)\n",
      "(1097, 4)\n",
      "(1199, 4)\n"
     ]
    }
   ],
   "source": [
    "print(patient['sample_barcode'].drop_duplicates().shape)\n",
    "print(patient.drop_duplicates(subset=[\"case_barcode\", \"sample_barcode\"]).shape)\n",
    "print(patient.drop_duplicates(subset=[\"case_barcode\"]).shape)\n",
    "print(patient.drop_duplicates(subset=[\"case_barcode\", \"subtype\"]).shape)"
   ]
  },
  {
   "cell_type": "markdown",
   "metadata": {},
   "source": [
    "==>>> Only 1 aliquot barcode per sample barcode.\n",
    "\n",
    "==>>> 1 patient may have multiple samples collected. Various samples from 1 patient may be determined to be different subtypes. <br/>\n",
    "For example, case \"TCGA-BH-A0DL\" have 2 samples, 1 is Basal, another is Normal-like"
   ]
  },
  {
   "cell_type": "code",
   "execution_count": 4,
   "metadata": {},
   "outputs": [
    {
     "data": {
      "text/plain": [
       "LumA      581\n",
       "LumB      219\n",
       "Basal     193\n",
       "Normal    143\n",
       "Her2       82\n",
       "Name: subtype, dtype: int64"
      ]
     },
     "execution_count": 4,
     "metadata": {},
     "output_type": "execute_result"
    }
   ],
   "source": [
    "patient.subtype.value_counts()"
   ]
  },
  {
   "cell_type": "code",
   "execution_count": 5,
   "metadata": {},
   "outputs": [
    {
     "data": {
      "text/plain": [
       "\"'TCGA-E2-A158', 'TCGA-BH-A0DD', 'TCGA-BH-A1EO', 'TCGA-BH-A0B5', 'TCGA-A7-A13G', 'TCGA-E9-A1NF', 'TCGA-A7-A0D9', 'TCGA-A7-A0DB', 'TCGA-BH-A0B8', 'TCGA-E9-A1RC', 'TCGA-E9-A1RF', 'TCGA-E2-A1LS', 'TCGA-E9-A1RI', 'TCGA-GI-A2C8', 'TCGA-A8-A07B', 'TCGA-A8-A08B', 'TCGA-A8-A08P', 'TCGA-A8-A094', 'TCGA-A8-A09T', 'TCGA-AO-A03O', 'TCGA-BH-A0DZ', 'TCGA-A2-A04P', 'TCGA-A2-A04Q', 'TCGA-A2-A04T', 'TCGA-A2-A04V', 'TCGA-AN-A041', 'TCGA-AN-A046', 'TCGA-AN-A04A', 'TCGA-AN-A04C', 'TCGA-AN-A04D', 'TCGA-AO-A03T', 'TCGA-AQ-A04J', 'TCGA-A7-A0CH', 'TCGA-A8-A06T', 'TCGA-A8-A07F', 'TCGA-A8-A081', 'TCGA-A8-A08C', 'TCGA-A8-A08T', 'TCGA-AN-A0AJ', 'TCGA-AN-A0AS', 'TCGA-AO-A03P', 'TCGA-A8-A07I', 'TCGA-A8-A082', 'TCGA-A8-A08F', 'TCGA-A8-A08X', 'TCGA-A8-A09K', 'TCGA-A8-A09X', 'TCGA-BH-A0AY', 'TCGA-A8-A06X', 'TCGA-A8-A07J', 'TCGA-A8-A092', 'TCGA-A8-A09C', 'TCGA-A8-A09Q', 'TCGA-A8-A0A7', 'TCGA-A2-A04X', 'TCGA-A2-A04Y', 'TCGA-A2-A0CM', 'TCGA-A2-A0CQ', 'TCGA-A2-A0CU', 'TCGA-A8-A06Q', 'TCGA-A8-A07C', 'TCGA-A7-A0CD', 'TCGA-A7-A0DB', 'TCGA-A8-A06O', 'TCGA-A8-A076', 'TCGA-A8-A07P', 'TCGA-A8-A086', 'TCGA-A8-A08J', 'TCGA-A8-A07G', 'TCGA-A8-A07R', 'TCGA-A8-A07S', 'TCGA-A8-A07U', 'TCGA-A8-A08R', 'TCGA-A8-A08S', 'TCGA-A8-A097', 'TCGA-A8-A09V', 'TCGA-A8-A0A2', 'TCGA-A8-A0AB', 'TCGA-AN-A0AM', 'TCGA-AN-A0AT', 'TCGA-BH-A0BD', 'TCGA-A8-A09B', 'TCGA-A8-A0A4', 'TCGA-AN-A0AL', 'TCGA-AN-A0FV', 'TCGA-BH-A0BV', 'TCGA-A8-A06Y', 'TCGA-A8-A07L', 'TCGA-A8-A08H', 'TCGA-A8-A090', 'TCGA-A8-A09A', 'TCGA-A8-A09N', 'TCGA-A8-A0A1', 'TCGA-AN-A049', 'TCGA-A7-A0CE', 'TCGA-A7-A0DC', 'TCGA-A8-A06P', 'TCGA-A8-A079', 'TCGA-A8-A07W', 'TCGA-AN-A0AK', 'TCGA-AN-A0FJ', 'TCGA-A2-A0CY', 'TCGA-A2-A0CZ', 'TCGA-A2-A0D1', 'TCGA-A2-A0D2', 'TCGA-A2-A0EM', 'TCGA-A2-A0EO', 'TCGA-A2-A0EQ', 'TCGA-A2-A0ER', 'TCGA-A8-A08L', 'TCGA-A8-A093', 'TCGA-A8-A09D', 'TCGA-A8-A09R', 'TCGA-A8-A0A9', 'TCGA-BH-A0E7', 'TCGA-BH-A0EB', 'TCGA-BH-A0EE', 'TCGA-A1-A0SE', 'TCGA-A2-A0ST', 'TCGA-A2-A0SU', 'TCGA-A2-A0T2', 'TCGA-A2-A0T4', 'TCGA-AR-A0TT', 'TCGA-AR-A0TV', 'TCGA-B6-A0RM', 'TCGA-B6-A0RN', 'TCGA-BH-A0DH', 'TCGA-BH-A0DQ', 'TCGA-AO-A0JJ', 'TCGA-AO-A0JL', 'TCGA-AO-A0JM', 'TCGA-B6-A0IK', 'TCGA-B6-A0RE', 'TCGA-B6-A0RG', 'TCGA-B6-A0RI', 'TCGA-BH-A0AW', 'TCGA-BH-A0B1', 'TCGA-BH-A0B3', 'TCGA-BH-A0B8', 'TCGA-BH-A0BA', 'TCGA-BH-A0BJ', 'TCGA-BH-A0RX', 'TCGA-A2-A0CT', 'TCGA-A2-A0EU', 'TCGA-A7-A0D9', 'TCGA-A8-A08O', 'TCGA-A8-A0A6', 'TCGA-A8-A0AD', 'TCGA-AO-A03L', 'TCGA-AO-A0JA', 'TCGA-AO-A0JC', 'TCGA-AO-A0JD', 'TCGA-AO-A0JE', 'TCGA-AO-A0JF', 'TCGA-AO-A0JI', 'TCGA-BH-A0BM', 'TCGA-BH-A0C0', 'TCGA-BH-A0DK', 'TCGA-BH-A0DP', 'TCGA-BH-A0DS', 'TCGA-BH-A0E0', 'TCGA-BH-A0E1', 'TCGA-BH-A0E2', 'TCGA-BH-A0GY', 'TCGA-BH-A0GZ', 'TCGA-BH-A0H0', 'TCGA-BH-A0H6', 'TCGA-BH-A0H9', 'TCGA-BH-A0HB', 'TCGA-BH-A0HF', 'TCGA-A1-A0SO', 'TCGA-A1-A0SP', 'TCGA-A2-A0T0', 'TCGA-A2-A0T1', 'TCGA-A8-A075', 'TCGA-AO-A0JG', 'TCGA-AR-A0TQ', 'TCGA-AR-A0TR', 'TCGA-B6-A0RL', 'TCGA-B6-A0RU', 'TCGA-B6-A0RV', 'TCGA-BH-A0BC', 'TCGA-A1-A0SK', 'TCGA-A1-A0SM', 'TCGA-A2-A0SX', 'TCGA-A2-A0SY', 'TCGA-A1-A0SH', 'TCGA-A1-A0SJ', 'TCGA-A2-A0EN', 'TCGA-A2-A0SV', 'TCGA-A2-A0SW', 'TCGA-A2-A0T5', 'TCGA-A2-A0T6', 'TCGA-AR-A0TW', 'TCGA-AR-A0TX', 'TCGA-B6-A0RO', 'TCGA-B6-A0RP', 'TCGA-BH-A0HI', 'TCGA-BH-A0HK', 'TCGA-BH-A0HX', 'TCGA-BH-A0HY', 'TCGA-B6-A0I2', 'TCGA-B6-A0I5', 'TCGA-B6-A0I6', 'TCGA-B6-A0I8', 'TCGA-B6-A0I9', 'TCGA-B6-A0IA', 'TCGA-B6-A0IB', 'TCGA-B6-A0IC', 'TCGA-B6-A0IE', 'TCGA-B6-A0IG', 'TCGA-B6-A0IJ', 'TCGA-BH-A0HO', 'TCGA-BH-A0HQ', 'TCGA-BH-A0HU', 'TCGA-BH-A0HW', 'TCGA-AN-A0FN', 'TCGA-AN-A0FS', 'TCGA-AN-A0FT', 'TCGA-AN-A0FW', 'TCGA-AN-A0FX', 'TCGA-AN-A0FY', 'TCGA-AN-A0G0', 'TCGA-A2-A0T7', 'TCGA-AR-A0TP', 'TCGA-AR-A0TZ', 'TCGA-B6-A0RS', 'TCGA-B6-A0RT', 'TCGA-BH-A0HP', 'TCGA-A2-A0ET', 'TCGA-A2-A0EV', 'TCGA-A2-A0EX', 'TCGA-A2-A0EY', 'TCGA-AN-A0FD', 'TCGA-AN-A0FF', 'TCGA-AN-A0FK', 'TCGA-AN-A0FL', 'TCGA-AO-A0J2', 'TCGA-AO-A0J3', 'TCGA-AO-A0J4', 'TCGA-AO-A0J5', 'TCGA-AO-A0J6', 'TCGA-AO-A0J8', 'TCGA-AO-A0J9', 'TCGA-B6-A0IM', 'TCGA-B6-A0IN', 'TCGA-B6-A0IO', 'TCGA-B6-A0IP', 'TCGA-B6-A0IQ', 'TCGA-BH-A0W4', 'TCGA-AR-A0U4', 'TCGA-B6-A0WX', 'TCGA-B6-A0WY', 'TCGA-A2-A0YF', 'TCGA-A2-A0YT', 'TCGA-AN-A0XS', 'TCGA-B6-A0WZ', 'TCGA-AO-A129', 'TCGA-AO-A12C', 'TCGA-AO-A12E', 'TCGA-AO-A12G', 'TCGA-AQ-A04H', 'TCGA-B6-A0X7', 'TCGA-BH-A0B2', 'TCGA-A2-A04U', 'TCGA-A2-A04W', 'TCGA-A2-A0CS', 'TCGA-B6-A0IH', 'TCGA-BH-A0BP', 'TCGA-BH-A0BQ', 'TCGA-A2-A0YC', 'TCGA-A2-A0YD', 'TCGA-A2-A0YE', 'TCGA-A2-A0YL', 'TCGA-A2-A0YM', 'TCGA-AN-A0XO', 'TCGA-AN-A0XP', 'TCGA-AN-A0XR', 'TCGA-A2-A0YI', 'TCGA-AO-A03M', 'TCGA-AO-A03N', 'TCGA-AO-A03U', 'TCGA-AO-A124', 'TCGA-AO-A125', 'TCGA-AO-A126', 'TCGA-AO-A128', 'TCGA-BH-A0DX', 'TCGA-BH-A0W7', 'TCGA-E2-A105', 'TCGA-E2-A106', 'TCGA-E2-A108', 'TCGA-E2-A109', 'TCGA-E2-A10B', 'TCGA-E2-A10E', 'TCGA-E2-A10F', 'TCGA-BH-A0B7', 'TCGA-BH-A0BW', 'TCGA-BH-A0BW', 'TCGA-BH-A0DE', 'TCGA-BH-A0EI', 'TCGA-C8-A12N', 'TCGA-C8-A12O', 'TCGA-C8-A12X', 'TCGA-E2-A15D', 'TCGA-E2-A159', 'TCGA-E2-A10A', 'TCGA-D8-A147', 'TCGA-D8-A146', 'TCGA-D8-A13Y', 'TCGA-C8-A138', 'TCGA-C8-A12Z', 'TCGA-AN-A0XL', 'TCGA-AO-A12B', 'TCGA-BH-A0B2', 'TCGA-E2-A10C', 'TCGA-AR-A0TY', 'TCGA-A2-A04N', 'TCGA-A2-A0CL', 'TCGA-AO-A03V', 'TCGA-E2-A15P', 'TCGA-E2-A15R', 'TCGA-BH-A0W3', 'TCGA-C8-A12K', 'TCGA-C8-A12U', 'TCGA-C8-A132', 'TCGA-C8-A134', 'TCGA-D8-A141', 'TCGA-D8-A142', 'TCGA-E2-A14T', 'TCGA-E2-A14X', 'TCGA-A2-A0CV', 'TCGA-A2-A0CW', 'TCGA-B6-A0RH', 'TCGA-B6-A0RQ', 'TCGA-B6-A0WS', 'TCGA-B6-A0X0', 'TCGA-BH-A0AV', 'TCGA-BH-A0B0', 'TCGA-C8-A12W', 'TCGA-C8-A12V', 'TCGA-C8-A12M', 'TCGA-C8-A12L', 'TCGA-BH-A0EA', 'TCGA-BH-A0E9', 'TCGA-BH-A0BR', 'TCGA-BH-A0BQ', 'TCGA-E2-A15T', 'TCGA-E2-A15S', 'TCGA-E2-A154', 'TCGA-E2-A14Z', 'TCGA-D8-A145', 'TCGA-D8-A143', 'TCGA-C8-A137', 'TCGA-C8-A135', 'TCGA-BH-A0H5', 'TCGA-BH-A0H5', 'TCGA-C8-A12Q', 'TCGA-C8-A12T', 'TCGA-C8-A131', 'TCGA-D8-A140', 'TCGA-E2-A14R', 'TCGA-E2-A15O', 'TCGA-AO-A12F', 'TCGA-AO-A12H', 'TCGA-AR-A0U1', 'TCGA-BH-A0BG', 'TCGA-BH-A0BL', 'TCGA-BH-A0C7', 'TCGA-BH-A0DL', 'TCGA-BH-A0DL', 'TCGA-A1-A0SD', 'TCGA-A2-A0D3', 'TCGA-A2-A0ES', 'TCGA-A2-A0EW', 'TCGA-A2-A0T3', 'TCGA-A7-A0DA', 'TCGA-AO-A12A', 'TCGA-BH-A0B7', 'TCGA-AO-A12D', 'TCGA-AR-A0TS', 'TCGA-C8-A12P', 'TCGA-C8-A130', 'TCGA-D8-A13Z', 'TCGA-E2-A14O', 'TCGA-E2-A15F', 'TCGA-AR-A1AH', 'TCGA-BH-A0BO', 'TCGA-BH-A18I', 'TCGA-BH-A18J', 'TCGA-BH-A18N', 'TCGA-BH-A18P', 'TCGA-BH-A18R', 'TCGA-BH-A18S', 'TCGA-E2-A14Q', 'TCGA-E2-A14S', 'TCGA-E2-A155', 'TCGA-E2-A156', 'TCGA-A7-A13D', 'TCGA-A7-A13E', 'TCGA-A7-A13F', 'TCGA-AR-A1AO', 'TCGA-AR-A1AQ', 'TCGA-AR-A1AX', 'TCGA-AR-A1AY', 'TCGA-BH-A0AU', 'TCGA-BH-A0BS', 'TCGA-BH-A0BT', 'TCGA-BH-A0BZ', 'TCGA-BH-A0C3', 'TCGA-BH-A0DD', 'TCGA-E2-A15J', 'TCGA-E2-A15K', 'TCGA-E2-A15K', 'TCGA-BH-A18J', 'TCGA-BH-A18S', 'TCGA-BH-A18F', 'TCGA-BH-A18G', 'TCGA-BH-A18H', 'TCGA-E2-A1AZ', 'TCGA-E2-A1BC', 'TCGA-BH-A18K', 'TCGA-BH-A18L', 'TCGA-BH-A18M', 'TCGA-BH-A18N', 'TCGA-BH-A18P', 'TCGA-BH-A18Q', 'TCGA-BH-A18U', 'TCGA-BH-A18V', 'TCGA-C8-A12Y', 'TCGA-C8-A133', 'TCGA-E2-A14P', 'TCGA-E2-A150', 'TCGA-E2-A152', 'TCGA-E2-A153', 'TCGA-E2-A153', 'TCGA-E2-A15E', 'TCGA-BH-A18L', 'TCGA-BH-A18M', 'TCGA-BH-A18Q', 'TCGA-BH-A18R', 'TCGA-BH-A18T', 'TCGA-BH-A18U', 'TCGA-BH-A18V', 'TCGA-E2-A14V', 'TCGA-BH-A18K', 'TCGA-BH-A0DT', 'TCGA-BH-A0DT', 'TCGA-BH-A0DO', 'TCGA-BH-A0DO', 'TCGA-BH-A0C1', 'TCGA-E2-A15H', 'TCGA-E2-A15G', 'TCGA-E2-A14W', 'TCGA-E2-A14Y', 'TCGA-E2-A158', 'TCGA-E2-A15A', 'TCGA-E2-A15A', 'TCGA-E2-A15C', 'TCGA-E2-A15E', 'TCGA-E2-A15M', 'TCGA-AR-A1AI', 'TCGA-A7-A13F', 'TCGA-A7-A13E', 'TCGA-AR-A1AP', 'TCGA-BH-A0AU', 'TCGA-AR-A1AU', 'TCGA-AR-A1AT', 'TCGA-AR-A1AS', 'TCGA-AR-A1AK', 'TCGA-AR-A1AJ', 'TCGA-BH-A0AZ', 'TCGA-BH-A0B5', 'TCGA-BH-A0BF', 'TCGA-BH-A0BZ', 'TCGA-BH-A0C3', 'TCGA-BH-A0DG', 'TCGA-BH-A0DI', 'TCGA-BH-A0AZ', 'TCGA-AR-A1AL', 'TCGA-AR-A1AN', 'TCGA-AR-A1AV', 'TCGA-BH-A0DV', 'TCGA-E2-A1B0', 'TCGA-E2-A1B1', 'TCGA-E2-A1B4', 'TCGA-AQ-A04L', 'TCGA-A8-A06U', 'TCGA-A8-A09W', 'TCGA-AR-A1AR', 'TCGA-BH-A1EO', 'TCGA-BH-A1ET', 'TCGA-BH-A1ET', 'TCGA-BH-A1EU', 'TCGA-BH-A1EU', 'TCGA-BH-A1EV', 'TCGA-BH-A1EV', 'TCGA-BH-A1EW', 'TCGA-BH-A1EW', 'TCGA-E2-A14N', 'TCGA-E2-A15I', 'TCGA-E2-A15I', 'TCGA-A2-A0CP', 'TCGA-A8-A07E', 'TCGA-A8-A09I', 'TCGA-AN-A0FZ', 'TCGA-AO-A03R', 'TCGA-AO-A0J7', 'TCGA-A2-A1FV', 'TCGA-A2-A1FW', 'TCGA-A2-A1G1', 'TCGA-E2-A15L', 'TCGA-E2-A15M', 'TCGA-E2-A1IN', 'TCGA-E2-A1L8', 'TCGA-EW-A1J2', 'TCGA-A2-A1G4', 'TCGA-AO-A1KO', 'TCGA-AO-A1KP', 'TCGA-AO-A1KT', 'TCGA-BH-A1EN', 'TCGA-BH-A1EX', 'TCGA-BH-A1F2', 'TCGA-BH-A1F6', 'TCGA-BH-A1FD', 'TCGA-BH-A1FL', 'TCGA-BH-A1FM', 'TCGA-C8-A1HE', 'TCGA-C8-A1HO', 'TCGA-D8-A1JD', 'TCGA-D8-A1JL', 'TCGA-E2-A1IE', 'TCGA-AR-A1AW', 'TCGA-BH-A0BS', 'TCGA-BH-A0BT', 'TCGA-BH-A0DG', 'TCGA-BH-A0DV', 'TCGA-BH-A0H3', 'TCGA-BH-A0HA', 'TCGA-A1-A0SQ', 'TCGA-E2-A1IF', 'TCGA-E2-A1IG', 'TCGA-E2-A1IO', 'TCGA-E2-A1L7', 'TCGA-E2-A1LA', 'TCGA-E2-A1LB', 'TCGA-E2-A1LB', 'TCGA-E9-A1N8', 'TCGA-E9-A1NA', 'TCGA-E9-A1NA', 'TCGA-E9-A1ND', 'TCGA-EW-A1IX', 'TCGA-EW-A1OZ', 'TCGA-EW-A1P4', 'TCGA-EW-A1P5', 'TCGA-BH-A1F0', 'TCGA-BH-A1F0', 'TCGA-C8-A1HF', 'TCGA-C8-A1HG', 'TCGA-C8-A1HI', 'TCGA-C8-A1HL', 'TCGA-C8-A1HM', 'TCGA-C8-A1HN', 'TCGA-BH-A0E6', 'TCGA-BH-A0H7', 'TCGA-D8-A1JS', 'TCGA-E2-A1IH', 'TCGA-E2-A1L9', 'TCGA-EW-A1J3', 'TCGA-EW-A1J5', 'TCGA-BH-A1FB', 'TCGA-BH-A1F6', 'TCGA-D8-A1JU', 'TCGA-EW-A1IW', 'TCGA-EW-A1J6', 'TCGA-A1-A0SG', 'TCGA-A1-A0SI', 'TCGA-A1-A0SN', 'TCGA-AO-A1KR', 'TCGA-E2-A1IG', 'TCGA-E2-A1II', 'TCGA-E2-A1IJ', 'TCGA-E2-A1IK', 'TCGA-E2-A1L7', 'TCGA-E2-A1LL', 'TCGA-A2-A1G0', 'TCGA-A7-A13G', 'TCGA-AQ-A1H2', 'TCGA-AQ-A1H3', 'TCGA-BH-A1EN', 'TCGA-BH-A1FC', 'TCGA-BH-A1FU', 'TCGA-D8-A1X5', 'TCGA-D8-A1XA', 'TCGA-D8-A1XB', 'TCGA-D8-A1XC', 'TCGA-D8-A1XD', 'TCGA-D8-A1XF', 'TCGA-D8-A1XG', 'TCGA-BH-A1FE', 'TCGA-BH-A1FN', 'TCGA-C8-A1HJ', 'TCGA-D8-A1JE', 'TCGA-D8-A1JF', 'TCGA-D8-A1JG', 'TCGA-D8-A1JH', 'TCGA-D8-A1JM', 'TCGA-E2-A1IL', 'TCGA-E2-A1IP', 'TCGA-E2-A1IU', 'TCGA-E2-A1LH', 'TCGA-E2-A1LH', 'TCGA-E2-A1LK', 'TCGA-E9-A1N5', 'TCGA-E9-A1N5', 'TCGA-E9-A1N6', 'TCGA-E9-A1N6', 'TCGA-E9-A1ND', 'TCGA-EW-A1OV', 'TCGA-EW-A1OW', 'TCGA-EW-A1OX', 'TCGA-EW-A1OY', 'TCGA-EW-A1P0', 'TCGA-BH-A1FR', 'TCGA-BH-A1EY', 'TCGA-D8-A1JP', 'TCGA-BH-A1F8', 'TCGA-AO-A1KQ', 'TCGA-BH-A1FC', 'TCGA-BH-A1FG', 'TCGA-BH-A1FH', 'TCGA-A2-A0CX', 'TCGA-A2-A0D0', 'TCGA-A7-A0CG', 'TCGA-A7-A0CJ', 'TCGA-BH-A0HA', 'TCGA-E2-A1B5', 'TCGA-BH-A0E0', 'TCGA-BH-A0E1', 'TCGA-BH-A0H7', 'TCGA-BH-A0HK', 'TCGA-A2-A04R', 'TCGA-A2-A0YG', 'TCGA-A2-A0YH', 'TCGA-A2-A0YJ', 'TCGA-BH-A1FN', 'TCGA-B6-A1KF', 'TCGA-BH-A1FR', 'TCGA-C8-A1HK', 'TCGA-D8-A1JB', 'TCGA-D8-A1JI', 'TCGA-D8-A1JK', 'TCGA-D8-A1JN', 'TCGA-EW-A1P7', 'TCGA-EW-A1PB', 'TCGA-EW-A1PD', 'TCGA-EW-A1PE', 'TCGA-EW-A1PF', 'TCGA-A1-A0SB', 'TCGA-A1-A0SF', 'TCGA-A7-A0CE', 'TCGA-A7-A0CH', 'TCGA-E9-A1R6', 'TCGA-E9-A1RA', 'TCGA-EW-A1P1', 'TCGA-D8-A1J8', 'TCGA-D8-A1J9', 'TCGA-D8-A1JA', 'TCGA-D8-A1JC', 'TCGA-D8-A1JT', 'TCGA-E2-A1L6', 'TCGA-EW-A1IY', 'TCGA-EW-A1J1', 'TCGA-A2-A1FX', 'TCGA-AO-A1KS', 'TCGA-B6-A1KN', 'TCGA-BH-A1F2', 'TCGA-BH-A1F5', 'TCGA-BH-A1F8', 'TCGA-AC-A23E', 'TCGA-BH-A0W5', 'TCGA-BH-A0WA', 'TCGA-E9-A22B', 'TCGA-E9-A22D', 'TCGA-E9-A22E', 'TCGA-E9-A22G', 'TCGA-E9-A22H', 'TCGA-AR-A254', 'TCGA-C8-A278', 'TCGA-E9-A1QZ', 'TCGA-B6-A1KI', 'TCGA-D8-A1XM', 'TCGA-D8-A1XU', 'TCGA-D8-A1Y0', 'TCGA-D8-A1Y1', 'TCGA-E9-A1R3', 'TCGA-E9-A1N9', 'TCGA-E9-A1N9', 'TCGA-E9-A1NF', 'TCGA-E9-A1NH', 'TCGA-E9-A1NI', 'TCGA-E9-A1R2', 'TCGA-E9-A1R4', 'TCGA-A7-A0DC', 'TCGA-BH-A0AY', 'TCGA-BH-A0B3', 'TCGA-BH-A0BC', 'TCGA-BH-A0BJ', 'TCGA-BH-A0BM', 'TCGA-BH-A0BV', 'TCGA-BH-A0C0', 'TCGA-BH-A0DH', 'TCGA-BH-A0DK', 'TCGA-BH-A0DP', 'TCGA-BH-A0DQ', 'TCGA-A2-A0YK', 'TCGA-AN-A0XN', 'TCGA-AN-A0XT', 'TCGA-AN-A0XU', 'TCGA-AN-A0XV', 'TCGA-AN-A0XW', 'TCGA-AR-A0TU', 'TCGA-AR-A0U0', 'TCGA-E9-A1N3', 'TCGA-E9-A1RB', 'TCGA-E9-A1RB', 'TCGA-E9-A1RC', 'TCGA-E9-A1RD', 'TCGA-E9-A1RD', 'TCGA-E9-A1RE', 'TCGA-E9-A1RF', 'TCGA-E9-A226', 'TCGA-E9-A227', 'TCGA-E9-A228', 'TCGA-E9-A229', 'TCGA-E9-A22A', 'TCGA-AR-A24W', 'TCGA-AR-A24X', 'TCGA-AR-A24Z', 'TCGA-AR-A250', 'TCGA-AR-A251', 'TCGA-AR-A252', 'TCGA-AR-A255', 'TCGA-AR-A256', 'TCGA-AR-A0U2', 'TCGA-AR-A0U3', 'TCGA-B6-A0WT', 'TCGA-B6-A0WV', 'TCGA-B6-A0WW', 'TCGA-B6-A0X1', 'TCGA-B6-A0X4', 'TCGA-B6-A0X5', 'TCGA-BH-A209', 'TCGA-BH-A209', 'TCGA-D8-A1X9', 'TCGA-D8-A1Y2', 'TCGA-D8-A1Y3', 'TCGA-E2-A1LI', 'TCGA-E2-A1LS', 'TCGA-A2-A25B', 'TCGA-A2-A25C', 'TCGA-A2-A25E', 'TCGA-A2-A25F', 'TCGA-A7-A26E', 'TCGA-A7-A26F', 'TCGA-A7-A26G', 'TCGA-A7-A26H', 'TCGA-A7-A26I', 'TCGA-A7-A26J', 'TCGA-AC-A23C', 'TCGA-AR-A24H', 'TCGA-AR-A24K', 'TCGA-AR-A24L', 'TCGA-AR-A24M', 'TCGA-AR-A24N', 'TCGA-E9-A243', 'TCGA-E9-A244', 'TCGA-E9-A247', 'TCGA-E9-A248', 'TCGA-E9-A249', 'TCGA-E9-A24A', 'TCGA-AQ-A0Y5', 'TCGA-GM-A2DN', 'TCGA-GM-A2DM', 'TCGA-AR-A24O', 'TCGA-AR-A24P', 'TCGA-AR-A24Q', 'TCGA-AR-A24R', 'TCGA-AR-A24S', 'TCGA-AR-A24T', 'TCGA-AR-A24U', 'TCGA-AR-A24V', 'TCGA-BH-A201', 'TCGA-BH-A202', 'TCGA-D8-A1JJ', 'TCGA-D8-A1X6', 'TCGA-D8-A1X7', 'TCGA-D8-A1X8', 'TCGA-D8-A1XJ', 'TCGA-D8-A1XK', 'TCGA-BH-A1FB', 'TCGA-BH-A1FD', 'TCGA-BH-A1FE', 'TCGA-BH-A1FG', 'TCGA-BH-A1FH', 'TCGA-BH-A1FJ', 'TCGA-BH-A1FJ', 'TCGA-BH-A1FM', 'TCGA-BH-A203', 'TCGA-BH-A203', 'TCGA-C8-A27A', 'TCGA-C8-A27B', 'TCGA-E9-A1RH', 'TCGA-E9-A1RH', 'TCGA-E9-A1RI', 'TCGA-AC-A23H', 'TCGA-AC-A23H', 'TCGA-B6-A1KC', 'TCGA-BH-A204', 'TCGA-BH-A204', 'TCGA-BH-A208', 'TCGA-BH-A208', 'TCGA-AC-A2B8', 'TCGA-C8-A26X', 'TCGA-C8-A26Y', 'TCGA-C8-A26Z', 'TCGA-C8-A273', 'TCGA-C8-A274', 'TCGA-C8-A275', 'TCGA-D8-A27E', 'TCGA-D8-A27F', 'TCGA-E9-A1R5', 'TCGA-E9-A1R7', 'TCGA-E9-A1R7', 'TCGA-EW-A1PH', 'TCGA-AC-A2FK', 'TCGA-AC-A2FO', 'TCGA-AR-A2LE', 'TCGA-A2-A259', 'TCGA-A2-A25A', 'TCGA-A2-A25D', 'TCGA-BH-A28Q', 'TCGA-C8-A26V', 'TCGA-C8-A26W', 'TCGA-AC-A2FB', 'TCGA-AC-A2FB', 'TCGA-AC-A2FF', 'TCGA-AC-A2FF', 'TCGA-AC-A2FG', 'TCGA-D8-A27V', 'TCGA-EW-A2FS', 'TCGA-EW-A2FV', 'TCGA-EW-A2FW', 'TCGA-D8-A1XY', 'TCGA-D8-A1XZ', 'TCGA-E2-A1LG', 'TCGA-E9-A1N4', 'TCGA-E9-A1N4', 'TCGA-E9-A1NE', 'TCGA-E9-A1NG', 'TCGA-E9-A1NG', 'TCGA-AR-A2LK', 'TCGA-AR-A2LL', 'TCGA-AR-A2LM', 'TCGA-E9-A2JS', 'TCGA-GM-A2DD', 'TCGA-GM-A2DF', 'TCGA-GM-A2DH', 'TCGA-GM-A2DK', 'TCGA-D8-A27G', 'TCGA-D8-A27H', 'TCGA-D8-A27I', 'TCGA-D8-A27K', 'TCGA-D8-A27L', 'TCGA-D8-A27M', 'TCGA-D8-A27N', 'TCGA-D8-A27P', 'TCGA-D8-A1XL', 'TCGA-D8-A1XO', 'TCGA-D8-A1XQ', 'TCGA-D8-A1XR', 'TCGA-D8-A1XS', 'TCGA-D8-A1XT', 'TCGA-D8-A1XV', 'TCGA-D8-A1XW', 'TCGA-A2-A0D4', 'TCGA-A8-A06N', 'TCGA-A8-A06Z', 'TCGA-A8-A07O', 'TCGA-A8-A085', 'TCGA-A8-A08I', 'TCGA-A8-A091', 'TCGA-EW-A1P3', 'TCGA-EW-A1P6', 'TCGA-EW-A1P8', 'TCGA-EW-A1PA', 'TCGA-EW-A1PG', 'TCGA-A2-A1FZ', 'TCGA-BH-A1FU', 'TCGA-D8-A27R', 'TCGA-D8-A27T', 'TCGA-D8-A27W', 'TCGA-E9-A1R0', 'TCGA-E9-A245', 'TCGA-E9-A295', 'TCGA-GI-A2C8', 'TCGA-AC-A2QH', 'TCGA-AR-A2LH', 'TCGA-AR-A2LN', 'TCGA-AR-A2LO', 'TCGA-AR-A2LQ', 'TCGA-AR-A2LR', 'TCGA-BH-A2L8', 'TCGA-E9-A2JT', 'TCGA-B6-A2IU', 'TCGA-GM-A2D9', 'TCGA-GM-A2DA', 'TCGA-GM-A2DB', 'TCGA-GM-A2DC', 'TCGA-GM-A2DI', 'TCGA-A8-A095', 'TCGA-A8-A09G', 'TCGA-A8-A084', 'TCGA-A2-A3KC', 'TCGA-A2-A3KD', 'TCGA-A7-A3J0', 'TCGA-A7-A3IZ', 'TCGA-AC-A23G', 'TCGA-A7-A3J1', 'TCGA-AC-A3HN', 'TCGA-BH-A18V', 'TCGA-BH-A1FE', 'TCGA-C8-A3M8', 'TCGA-E2-A3DX', 'TCGA-E9-A3HO', 'TCGA-A7-A2KD', 'TCGA-A7-A3IY', 'TCGA-AC-A2BK', 'TCGA-AC-A3OD', 'TCGA-AC-A2BM', 'TCGA-C8-A3M7', 'TCGA-B6-A0I1', 'TCGA-E9-A3Q9', 'TCGA-EW-A1PC', 'TCGA-EW-A2FR', 'TCGA-GI-A2C9', 'TCGA-GM-A3NY', 'TCGA-GI-A2C9', 'TCGA-GM-A2DL', 'TCGA-GM-A2DO', 'TCGA-BH-A0BA', 'TCGA-HN-A2NL', 'TCGA-BH-A0HL', 'TCGA-BH-A0HN', 'TCGA-A8-A083', 'TCGA-A8-A06R', 'TCGA-A8-A096', 'TCGA-A8-A08Z', 'TCGA-BH-A0B9', 'TCGA-A8-A099', 'TCGA-A2-A1G6', 'TCGA-E2-A1BD', 'TCGA-AN-A03X', 'TCGA-A8-A09M', 'TCGA-BH-A1ES', 'TCGA-AN-A03Y', 'TCGA-E2-A1B6', 'TCGA-BH-A0B4', 'TCGA-A8-A08G', 'TCGA-A7-A13H', 'TCGA-E2-A2P6', 'TCGA-A2-A0CO', 'TCGA-A7-A3RF', 'TCGA-BH-A28O', 'TCGA-E2-A14U', 'TCGA-E2-A2P5', 'TCGA-A2-A0EP', 'TCGA-A2-A3XS', 'TCGA-A2-A3XT', 'TCGA-A2-A3XU', 'TCGA-A2-A3XV', 'TCGA-A2-A3XX', 'TCGA-A2-A3XW', 'TCGA-A2-A3XY', 'TCGA-A2-A3XZ', 'TCGA-A2-A3Y0', 'TCGA-A7-A425', 'TCGA-AC-A3QP', 'TCGA-A7-A426', 'TCGA-LL-A442', 'TCGA-AC-A3YJ', 'TCGA-B6-A401', 'TCGA-B6-A400', 'TCGA-B6-A402', 'TCGA-B6-A408', 'TCGA-B6-A40B', 'TCGA-B6-A409', 'TCGA-B6-A40C', 'TCGA-BH-A1ES', 'TCGA-BH-A42T', 'TCGA-BH-A42U', 'TCGA-D8-A3Z5', 'TCGA-BH-A42V', 'TCGA-D8-A3Z6', 'TCGA-E9-A3X8', 'TCGA-LL-A441', 'TCGA-AC-A3YI', 'TCGA-B6-A3ZX', 'TCGA-A2-A0CK', 'TCGA-A2-A0CR', 'TCGA-AC-A3TM', 'TCGA-AC-A3TN', 'TCGA-AC-A2FE', 'TCGA-A8-A09Z', 'TCGA-AC-A2FM', 'TCGA-AC-A2FM', 'TCGA-AC-A2QI', 'TCGA-AC-A2QJ', 'TCGA-AC-A3EH', 'TCGA-AC-A3BB', 'TCGA-AC-A3QQ', 'TCGA-AC-A3W5', 'TCGA-AC-A3W7', 'TCGA-AC-A3W6', 'TCGA-AR-A2LJ', 'TCGA-AR-A1AM', 'TCGA-BH-A0B6', 'TCGA-E2-A107', 'TCGA-EW-A3E8', 'TCGA-EW-A423', 'TCGA-EW-A424', 'TCGA-GM-A3XG', 'TCGA-GM-A3XL', 'TCGA-GM-A3XN', 'TCGA-JL-A3YW', 'TCGA-LL-A440', 'TCGA-JL-A3YX', 'TCGA-E2-A1LE', 'TCGA-E9-A3QA', 'TCGA-EW-A3U0', 'TCGA-GM-A3NW', 'TCGA-D8-A4Z1', 'TCGA-A2-A4S3', 'TCGA-A2-A4S2', 'TCGA-A7-A4SC', 'TCGA-A7-A4SE', 'TCGA-A7-A4SF', 'TCGA-AQ-A54O', 'TCGA-AQ-A54N', 'TCGA-GM-A4E0', 'TCGA-A2-A4RW', 'TCGA-LL-A50Y', 'TCGA-A7-A4SB', 'TCGA-A2-A4RX', 'TCGA-E9-A54X', 'TCGA-A2-A4RY', 'TCGA-A2-A4S0', 'TCGA-A7-A4SD', 'TCGA-LQ-A4E4', 'TCGA-A7-A4SA', 'TCGA-MS-A51U', 'TCGA-A7-A5ZV', 'TCGA-AC-A5EH', 'TCGA-AC-A5XU', 'TCGA-AR-A5QN', 'TCGA-AR-A5QQ', 'TCGA-E9-A5UP', 'TCGA-E9-A5UO', 'TCGA-AR-A5QP', 'TCGA-GM-A5PV', 'TCGA-GM-A5PX', 'TCGA-OL-A5RY', 'TCGA-LL-A5YO', 'TCGA-LL-A5YP', 'TCGA-OL-A5RX', 'TCGA-OL-A5RZ', 'TCGA-OL-A5RV', 'TCGA-OL-A5S0', 'TCGA-A7-A56D', 'TCGA-AR-A5QM', 'TCGA-E9-A5FK', 'TCGA-BH-A5J0', 'TCGA-E9-A5FL', 'TCGA-LL-A5YM', 'TCGA-LL-A5YN', 'TCGA-OL-A5D6', 'TCGA-OK-A5Q2', 'TCGA-OL-A5D7', 'TCGA-OL-A5D8', 'TCGA-OL-A5DA', 'TCGA-OL-A5RU', 'TCGA-PE-A5DC', 'TCGA-OL-A5RW', 'TCGA-PE-A5DD', 'TCGA-PE-A5DE', 'TCGA-BH-A5IZ', 'TCGA-HN-A2OB', 'TCGA-A7-A5ZW', 'TCGA-A7-A5ZX', 'TCGA-AC-A5XS', 'TCGA-AC-A62X', 'TCGA-AC-A62Y', 'TCGA-E2-A56Z', 'TCGA-E2-A574', 'TCGA-E2-A570', 'TCGA-E2-A573', 'TCGA-LL-A5YL', 'TCGA-OL-A66J', 'TCGA-OL-A66I', 'TCGA-OL-A66K', 'TCGA-OL-A66H', 'TCGA-E9-A1NC', 'TCGA-AC-A62V', 'TCGA-E2-A576', 'TCGA-E2-A572', 'TCGA-E9-A6HE', 'TCGA-LD-A66U', 'TCGA-LL-A6FQ', 'TCGA-LL-A6FP', 'TCGA-LL-A6FR', 'TCGA-OL-A66O', 'TCGA-OL-A66L', 'TCGA-OL-A66N', 'TCGA-OL-A66P', 'TCGA-A8-A09E', 'TCGA-AN-A0AR', 'TCGA-EW-A1IZ', 'TCGA-A8-A07Z', 'TCGA-E2-A15K', 'TCGA-E9-A1RG', 'TCGA-BH-A0DZ', 'TCGA-EW-A6SA', 'TCGA-EW-A6SB', 'TCGA-EW-A6SC', 'TCGA-LL-A73Z', 'TCGA-LL-A740', 'TCGA-AC-A6IX', 'TCGA-AC-A6IX', 'TCGA-BH-A6R9', 'TCGA-D8-A73X', 'TCGA-S3-A6ZF', 'TCGA-S3-A6ZG', 'TCGA-S3-A6ZH', 'TCGA-A8-A08A', 'TCGA-AO-A0JB', 'TCGA-A7-A6VV', 'TCGA-A7-A6VW', 'TCGA-BH-A6R8', 'TCGA-AC-A6NO', 'TCGA-EW-A6S9', 'TCGA-D8-A73U', 'TCGA-EW-A6SD', 'TCGA-A7-A6VX', 'TCGA-A7-A6VY', 'TCGA-LD-A74U', 'TCGA-OL-A6VR', 'TCGA-AC-A6IV', 'TCGA-AC-A6IW', 'TCGA-LL-A73Y', 'TCGA-OL-A6VO', 'TCGA-V7-A7HQ', 'TCGA-A2-A4S1', 'TCGA-E2-A1BC', 'TCGA-BH-A8G0', 'TCGA-D8-A73W', 'TCGA-LD-A7W5', 'TCGA-LL-A7SZ', 'TCGA-LD-A7W6', 'TCGA-LL-A7T0', 'TCGA-AC-A7VC', 'TCGA-AC-A7VB', 'TCGA-AQ-A7U7', 'TCGA-BH-A8FZ', 'TCGA-BH-A8FY', 'TCGA-XX-A89A', 'TCGA-C8-A8HP', 'TCGA-C8-A8HQ', 'TCGA-C8-A8HR', 'TCGA-LL-A8F5', 'TCGA-AC-A8OP', 'TCGA-XX-A899', 'TCGA-W8-A86G', 'TCGA-PL-A8LZ', 'TCGA-3C-AAAU', 'TCGA-AC-A4ZE', 'TCGA-S3-AA10', 'TCGA-LD-A9QF', 'TCGA-WT-AB41', 'TCGA-3C-AALI', 'TCGA-S3-AA11', 'TCGA-LL-A9Q3', 'TCGA-WT-AB44', 'TCGA-AC-A8OQ', 'TCGA-3C-AALJ', 'TCGA-AC-A8OR', 'TCGA-S3-AA12', 'TCGA-OL-A6VQ', 'TCGA-Z7-A8R5', 'TCGA-S3-AA14', 'TCGA-OL-A97C', 'TCGA-AC-A8OS', 'TCGA-3C-AALK', 'TCGA-4H-AAAK', 'TCGA-BH-AB28', 'TCGA-S3-AA15', 'TCGA-PL-A8LV', 'TCGA-S3-AA17', 'TCGA-PL-A8LX', 'TCGA-5L-AAT0', 'TCGA-Z7-A8R6', 'TCGA-PL-A8LY', 'TCGA-5T-A9QA', 'TCGA-5L-AAT1', 'TCGA-E2-A9RU', 'TCGA-UL-AAZ6', 'TCGA-S3-AA0Z', 'TCGA-UU-A93S', 'TCGA-BH-A0H9', 'TCGA-E9-A54Y'\""
      ]
     },
     "execution_count": 5,
     "metadata": {},
     "output_type": "execute_result"
    }
   ],
   "source": [
    "case_list = \", \".join(\"'%s'\" % w for w in patient.case_barcode)\n",
    "case_list"
   ]
  },
  {
   "cell_type": "code",
   "execution_count": 6,
   "metadata": {},
   "outputs": [
    {
     "name": "stdout",
     "output_type": "stream",
     "text": [
      "(1282, 4)\n"
     ]
    },
    {
     "data": {
      "text/html": [
       "<div>\n",
       "<style scoped>\n",
       "    .dataframe tbody tr th:only-of-type {\n",
       "        vertical-align: middle;\n",
       "    }\n",
       "\n",
       "    .dataframe tbody tr th {\n",
       "        vertical-align: top;\n",
       "    }\n",
       "\n",
       "    .dataframe thead th {\n",
       "        text-align: right;\n",
       "    }\n",
       "</style>\n",
       "<table border=\"1\" class=\"dataframe\">\n",
       "  <thead>\n",
       "    <tr style=\"text-align: right;\">\n",
       "      <th></th>\n",
       "      <th>case_barcode</th>\n",
       "      <th>sample_barcode</th>\n",
       "      <th>sample_type</th>\n",
       "      <th>sample_type_name</th>\n",
       "    </tr>\n",
       "  </thead>\n",
       "  <tbody>\n",
       "    <tr>\n",
       "      <th>0</th>\n",
       "      <td>TCGA-A2-A04P</td>\n",
       "      <td>TCGA-A2-A04P-01A</td>\n",
       "      <td>01</td>\n",
       "      <td>Primary solid Tumor</td>\n",
       "    </tr>\n",
       "    <tr>\n",
       "      <th>1</th>\n",
       "      <td>TCGA-AR-A0TP</td>\n",
       "      <td>TCGA-AR-A0TP-01A</td>\n",
       "      <td>01</td>\n",
       "      <td>Primary solid Tumor</td>\n",
       "    </tr>\n",
       "    <tr>\n",
       "      <th>2</th>\n",
       "      <td>TCGA-GM-A2DF</td>\n",
       "      <td>TCGA-GM-A2DF-01A</td>\n",
       "      <td>01</td>\n",
       "      <td>Primary solid Tumor</td>\n",
       "    </tr>\n",
       "    <tr>\n",
       "      <th>3</th>\n",
       "      <td>TCGA-BH-A0C0</td>\n",
       "      <td>TCGA-BH-A0C0-01A</td>\n",
       "      <td>01</td>\n",
       "      <td>Primary solid Tumor</td>\n",
       "    </tr>\n",
       "    <tr>\n",
       "      <th>4</th>\n",
       "      <td>TCGA-D8-A141</td>\n",
       "      <td>TCGA-D8-A141-01A</td>\n",
       "      <td>01</td>\n",
       "      <td>Primary solid Tumor</td>\n",
       "    </tr>\n",
       "  </tbody>\n",
       "</table>\n",
       "</div>"
      ],
      "text/plain": [
       "   case_barcode    sample_barcode sample_type     sample_type_name\n",
       "0  TCGA-A2-A04P  TCGA-A2-A04P-01A          01  Primary solid Tumor\n",
       "1  TCGA-AR-A0TP  TCGA-AR-A0TP-01A          01  Primary solid Tumor\n",
       "2  TCGA-GM-A2DF  TCGA-GM-A2DF-01A          01  Primary solid Tumor\n",
       "3  TCGA-BH-A0C0  TCGA-BH-A0C0-01A          01  Primary solid Tumor\n",
       "4  TCGA-D8-A141  TCGA-D8-A141-01A          01  Primary solid Tumor"
      ]
     },
     "execution_count": 6,
     "metadata": {},
     "output_type": "execute_result"
    }
   ],
   "source": [
    "client = bq.Client()\n",
    "biospecimen = 'isb-cgc.TCGA_bioclin_v0.Biospecimen'\n",
    "\n",
    "query = \"\"\"\\\n",
    "SELECT \n",
    "    case_barcode, sample_barcode, sample_type, sample_type_name\n",
    "FROM\n",
    "    `{}`\n",
    "WHERE\n",
    "    case_barcode IN ({}) AND sample_type IN ('01', '02', '06', '07', '11')\n",
    "\"\"\".format(biospecimen, case_list)\n",
    "\n",
    "samples = client.query(query).to_dataframe()\n",
    "\n",
    "print(samples.shape)\n",
    "\n",
    "samples.head()"
   ]
  },
  {
   "cell_type": "code",
   "execution_count": 7,
   "metadata": {},
   "outputs": [
    {
     "data": {
      "text/plain": [
       "Primary solid Tumor    1112\n",
       "Solid Tissue Normal     163\n",
       "Metastatic                7\n",
       "Name: sample_type_name, dtype: int64"
      ]
     },
     "execution_count": 7,
     "metadata": {},
     "output_type": "execute_result"
    }
   ],
   "source": [
    "samples.sample_type_name.value_counts()"
   ]
  },
  {
   "cell_type": "code",
   "execution_count": 12,
   "metadata": {},
   "outputs": [
    {
     "name": "stdout",
     "output_type": "stream",
     "text": [
      "(1282, 5)\n"
     ]
    },
    {
     "data": {
      "text/html": [
       "<div>\n",
       "<style scoped>\n",
       "    .dataframe tbody tr th:only-of-type {\n",
       "        vertical-align: middle;\n",
       "    }\n",
       "\n",
       "    .dataframe tbody tr th {\n",
       "        vertical-align: top;\n",
       "    }\n",
       "\n",
       "    .dataframe thead th {\n",
       "        text-align: right;\n",
       "    }\n",
       "</style>\n",
       "<table border=\"1\" class=\"dataframe\">\n",
       "  <thead>\n",
       "    <tr style=\"text-align: right;\">\n",
       "      <th></th>\n",
       "      <th>case_barcode</th>\n",
       "      <th>sample_barcode</th>\n",
       "      <th>sample_type</th>\n",
       "      <th>sample_type_name</th>\n",
       "      <th>subtype</th>\n",
       "    </tr>\n",
       "  </thead>\n",
       "  <tbody>\n",
       "    <tr>\n",
       "      <th>0</th>\n",
       "      <td>TCGA-A2-A04P</td>\n",
       "      <td>TCGA-A2-A04P-01A</td>\n",
       "      <td>01</td>\n",
       "      <td>Primary solid Tumor</td>\n",
       "      <td>Basal</td>\n",
       "    </tr>\n",
       "    <tr>\n",
       "      <th>1</th>\n",
       "      <td>TCGA-AR-A0TP</td>\n",
       "      <td>TCGA-AR-A0TP-01A</td>\n",
       "      <td>01</td>\n",
       "      <td>Primary solid Tumor</td>\n",
       "      <td>Basal</td>\n",
       "    </tr>\n",
       "    <tr>\n",
       "      <th>2</th>\n",
       "      <td>TCGA-GM-A2DF</td>\n",
       "      <td>TCGA-GM-A2DF-01A</td>\n",
       "      <td>01</td>\n",
       "      <td>Primary solid Tumor</td>\n",
       "      <td>Basal</td>\n",
       "    </tr>\n",
       "    <tr>\n",
       "      <th>3</th>\n",
       "      <td>TCGA-BH-A0C0</td>\n",
       "      <td>TCGA-BH-A0C0-01A</td>\n",
       "      <td>01</td>\n",
       "      <td>Primary solid Tumor</td>\n",
       "      <td>LumB</td>\n",
       "    </tr>\n",
       "    <tr>\n",
       "      <th>4</th>\n",
       "      <td>TCGA-D8-A141</td>\n",
       "      <td>TCGA-D8-A141-01A</td>\n",
       "      <td>01</td>\n",
       "      <td>Primary solid Tumor</td>\n",
       "      <td>LumA</td>\n",
       "    </tr>\n",
       "  </tbody>\n",
       "</table>\n",
       "</div>"
      ],
      "text/plain": [
       "   case_barcode    sample_barcode sample_type     sample_type_name subtype\n",
       "0  TCGA-A2-A04P  TCGA-A2-A04P-01A          01  Primary solid Tumor   Basal\n",
       "1  TCGA-AR-A0TP  TCGA-AR-A0TP-01A          01  Primary solid Tumor   Basal\n",
       "2  TCGA-GM-A2DF  TCGA-GM-A2DF-01A          01  Primary solid Tumor   Basal\n",
       "3  TCGA-BH-A0C0  TCGA-BH-A0C0-01A          01  Primary solid Tumor    LumB\n",
       "4  TCGA-D8-A141  TCGA-D8-A141-01A          01  Primary solid Tumor    LumA"
      ]
     },
     "execution_count": 12,
     "metadata": {},
     "output_type": "execute_result"
    }
   ],
   "source": [
    "merged = pd.merge(samples, patient.iloc[:, 1:], how='left', on=['sample_barcode', 'case_barcode'])\n",
    "\n",
    "print(merged.shape)\n",
    "merged.head()"
   ]
  },
  {
   "cell_type": "code",
   "execution_count": 13,
   "metadata": {},
   "outputs": [
    {
     "name": "stdout",
     "output_type": "stream",
     "text": [
      "(1282, 5)\n"
     ]
    }
   ],
   "source": [
    "print(merged.drop_duplicates().shape)"
   ]
  },
  {
   "cell_type": "code",
   "execution_count": 14,
   "metadata": {},
   "outputs": [
    {
     "name": "stdout",
     "output_type": "stream",
     "text": [
      "Primary solid Tumor    1112\n",
      "Solid Tissue Normal     163\n",
      "Metastatic                7\n",
      "Name: sample_type_name, dtype: int64\n",
      "\n",
      "\n",
      "LumA      581\n",
      "LumB      219\n",
      "Basal     193\n",
      "Normal    143\n",
      "Her2       82\n",
      "Name: subtype, dtype: int64\n",
      "False    1218\n",
      "True       64\n",
      "Name: subtype, dtype: int64\n"
     ]
    }
   ],
   "source": [
    "print(merged.sample_type_name.value_counts())\n",
    "print(\"\\n\")\n",
    "\n",
    "print(merged.subtype.value_counts())\n",
    "print(merged.subtype.isnull().value_counts())"
   ]
  },
  {
   "cell_type": "code",
   "execution_count": 16,
   "metadata": {},
   "outputs": [
    {
     "data": {
      "text/plain": [
       "Solid Tissue Normal    49\n",
       "Primary solid Tumor    15\n",
       "Name: sample_type_name, dtype: int64"
      ]
     },
     "execution_count": 16,
     "metadata": {},
     "output_type": "execute_result"
    }
   ],
   "source": [
    "merged.loc[merged.subtype.isnull(), \"sample_type_name\"].value_counts()"
   ]
  },
  {
   "cell_type": "code",
   "execution_count": 17,
   "metadata": {},
   "outputs": [],
   "source": [
    "merged.to_csv(\"./metadata/subtype_metadata.tsv\", sep=\"\\t\", index=False)"
   ]
  },
  {
   "cell_type": "markdown",
   "metadata": {},
   "source": [
    "# Hormone therapy"
   ]
  },
  {
   "cell_type": "code",
   "execution_count": 12,
   "metadata": {},
   "outputs": [
    {
     "name": "stdout",
     "output_type": "stream",
     "text": [
      "(500, 4)\n"
     ]
    },
    {
     "data": {
      "text/html": [
       "<div>\n",
       "<style scoped>\n",
       "    .dataframe tbody tr th:only-of-type {\n",
       "        vertical-align: middle;\n",
       "    }\n",
       "\n",
       "    .dataframe tbody tr th {\n",
       "        vertical-align: top;\n",
       "    }\n",
       "\n",
       "    .dataframe thead th {\n",
       "        text-align: right;\n",
       "    }\n",
       "</style>\n",
       "<table border=\"1\" class=\"dataframe\">\n",
       "  <thead>\n",
       "    <tr style=\"text-align: right;\">\n",
       "      <th></th>\n",
       "      <th>case_barcode</th>\n",
       "      <th>initial_response</th>\n",
       "      <th>recurrence_status</th>\n",
       "      <th>recurrence_log</th>\n",
       "    </tr>\n",
       "  </thead>\n",
       "  <tbody>\n",
       "    <tr>\n",
       "      <th>0</th>\n",
       "      <td>TCGA-5L-AAT0</td>\n",
       "      <td>Unknown</td>\n",
       "      <td>NaN</td>\n",
       "      <td>NaN</td>\n",
       "    </tr>\n",
       "    <tr>\n",
       "      <th>1</th>\n",
       "      <td>TCGA-5L-AAT1</td>\n",
       "      <td>Unknown</td>\n",
       "      <td>NaN</td>\n",
       "      <td>NaN</td>\n",
       "    </tr>\n",
       "    <tr>\n",
       "      <th>2</th>\n",
       "      <td>TCGA-5T-A9QA</td>\n",
       "      <td>Unknown</td>\n",
       "      <td>Unknown</td>\n",
       "      <td>Unknown neoplasm status</td>\n",
       "    </tr>\n",
       "    <tr>\n",
       "      <th>3</th>\n",
       "      <td>TCGA-A1-A0SF</td>\n",
       "      <td>Unknown</td>\n",
       "      <td>NaN</td>\n",
       "      <td>NaN</td>\n",
       "    </tr>\n",
       "    <tr>\n",
       "      <th>4</th>\n",
       "      <td>TCGA-A1-A0SQ</td>\n",
       "      <td>Unknown</td>\n",
       "      <td>NaN</td>\n",
       "      <td>NaN</td>\n",
       "    </tr>\n",
       "  </tbody>\n",
       "</table>\n",
       "</div>"
      ],
      "text/plain": [
       "   case_barcode initial_response recurrence_status           recurrence_log\n",
       "0  TCGA-5L-AAT0          Unknown               NaN                      NaN\n",
       "1  TCGA-5L-AAT1          Unknown               NaN                      NaN\n",
       "2  TCGA-5T-A9QA          Unknown           Unknown  Unknown neoplasm status\n",
       "3  TCGA-A1-A0SF          Unknown               NaN                      NaN\n",
       "4  TCGA-A1-A0SQ          Unknown               NaN                      NaN"
      ]
     },
     "execution_count": 12,
     "metadata": {},
     "output_type": "execute_result"
    }
   ],
   "source": [
    "patient = pd.read_table(\"metadata/hormone_response_recurrence.tsv\", sep=\"\\t\")\n",
    "\n",
    "print(patient.shape)\n",
    "patient.head()"
   ]
  },
  {
   "cell_type": "code",
   "execution_count": 13,
   "metadata": {},
   "outputs": [
    {
     "name": "stdout",
     "output_type": "stream",
     "text": [
      "(565, 4)\n"
     ]
    },
    {
     "data": {
      "text/html": [
       "<div>\n",
       "<style scoped>\n",
       "    .dataframe tbody tr th:only-of-type {\n",
       "        vertical-align: middle;\n",
       "    }\n",
       "\n",
       "    .dataframe tbody tr th {\n",
       "        vertical-align: top;\n",
       "    }\n",
       "\n",
       "    .dataframe thead th {\n",
       "        text-align: right;\n",
       "    }\n",
       "</style>\n",
       "<table border=\"1\" class=\"dataframe\">\n",
       "  <thead>\n",
       "    <tr style=\"text-align: right;\">\n",
       "      <th></th>\n",
       "      <th>case_barcode</th>\n",
       "      <th>sample_barcode</th>\n",
       "      <th>sample_type</th>\n",
       "      <th>sample_type_name</th>\n",
       "    </tr>\n",
       "  </thead>\n",
       "  <tbody>\n",
       "    <tr>\n",
       "      <th>0</th>\n",
       "      <td>TCGA-BH-A0C0</td>\n",
       "      <td>TCGA-BH-A0C0-01A</td>\n",
       "      <td>01</td>\n",
       "      <td>Primary solid Tumor</td>\n",
       "    </tr>\n",
       "    <tr>\n",
       "      <th>1</th>\n",
       "      <td>TCGA-D8-A141</td>\n",
       "      <td>TCGA-D8-A141-01A</td>\n",
       "      <td>01</td>\n",
       "      <td>Primary solid Tumor</td>\n",
       "    </tr>\n",
       "    <tr>\n",
       "      <th>2</th>\n",
       "      <td>TCGA-EW-A424</td>\n",
       "      <td>TCGA-EW-A424-01A</td>\n",
       "      <td>01</td>\n",
       "      <td>Primary solid Tumor</td>\n",
       "    </tr>\n",
       "    <tr>\n",
       "      <th>3</th>\n",
       "      <td>TCGA-AO-A12G</td>\n",
       "      <td>TCGA-AO-A12G-01A</td>\n",
       "      <td>01</td>\n",
       "      <td>Primary solid Tumor</td>\n",
       "    </tr>\n",
       "    <tr>\n",
       "      <th>4</th>\n",
       "      <td>TCGA-AC-A3QP</td>\n",
       "      <td>TCGA-AC-A3QP-01A</td>\n",
       "      <td>01</td>\n",
       "      <td>Primary solid Tumor</td>\n",
       "    </tr>\n",
       "  </tbody>\n",
       "</table>\n",
       "</div>"
      ],
      "text/plain": [
       "   case_barcode    sample_barcode sample_type     sample_type_name\n",
       "0  TCGA-BH-A0C0  TCGA-BH-A0C0-01A          01  Primary solid Tumor\n",
       "1  TCGA-D8-A141  TCGA-D8-A141-01A          01  Primary solid Tumor\n",
       "2  TCGA-EW-A424  TCGA-EW-A424-01A          01  Primary solid Tumor\n",
       "3  TCGA-AO-A12G  TCGA-AO-A12G-01A          01  Primary solid Tumor\n",
       "4  TCGA-AC-A3QP  TCGA-AC-A3QP-01A          01  Primary solid Tumor"
      ]
     },
     "execution_count": 13,
     "metadata": {},
     "output_type": "execute_result"
    }
   ],
   "source": [
    "case_list = \", \".join(\"'%s'\" % w for w in patient.case_barcode)\n",
    "\n",
    "client = bq.Client()\n",
    "biospecimen = 'isb-cgc.TCGA_bioclin_v0.Biospecimen'\n",
    "\n",
    "query = \"\"\"\\\n",
    "SELECT \n",
    "    case_barcode, sample_barcode, sample_type, sample_type_name\n",
    "FROM\n",
    "    `{}`\n",
    "WHERE\n",
    "    case_barcode IN ({}) AND sample_type IN ('01', '02', '06', '07', '11')\n",
    "\"\"\".format(biospecimen, case_list)\n",
    "\n",
    "samples = client.query(query).to_dataframe()\n",
    "\n",
    "print(samples.shape)\n",
    "\n",
    "samples.head()"
   ]
  },
  {
   "cell_type": "code",
   "execution_count": 14,
   "metadata": {},
   "outputs": [
    {
     "data": {
      "text/plain": [
       "Primary solid Tumor    505\n",
       "Solid Tissue Normal     59\n",
       "Metastatic               1\n",
       "Name: sample_type_name, dtype: int64"
      ]
     },
     "execution_count": 14,
     "metadata": {},
     "output_type": "execute_result"
    }
   ],
   "source": [
    "samples.sample_type_name.value_counts()"
   ]
  },
  {
   "cell_type": "code",
   "execution_count": 16,
   "metadata": {},
   "outputs": [
    {
     "name": "stdout",
     "output_type": "stream",
     "text": [
      "(565, 7)\n"
     ]
    },
    {
     "data": {
      "text/html": [
       "<div>\n",
       "<style scoped>\n",
       "    .dataframe tbody tr th:only-of-type {\n",
       "        vertical-align: middle;\n",
       "    }\n",
       "\n",
       "    .dataframe tbody tr th {\n",
       "        vertical-align: top;\n",
       "    }\n",
       "\n",
       "    .dataframe thead th {\n",
       "        text-align: right;\n",
       "    }\n",
       "</style>\n",
       "<table border=\"1\" class=\"dataframe\">\n",
       "  <thead>\n",
       "    <tr style=\"text-align: right;\">\n",
       "      <th></th>\n",
       "      <th>case_barcode</th>\n",
       "      <th>sample_barcode</th>\n",
       "      <th>sample_type</th>\n",
       "      <th>sample_type_name</th>\n",
       "      <th>initial_response</th>\n",
       "      <th>recurrence_status</th>\n",
       "      <th>recurrence_log</th>\n",
       "    </tr>\n",
       "  </thead>\n",
       "  <tbody>\n",
       "    <tr>\n",
       "      <th>0</th>\n",
       "      <td>TCGA-BH-A0C0</td>\n",
       "      <td>TCGA-BH-A0C0-01A</td>\n",
       "      <td>01</td>\n",
       "      <td>Primary solid Tumor</td>\n",
       "      <td>Unknown</td>\n",
       "      <td>Unknown</td>\n",
       "      <td>Alive tumor free, last follow-up within risky ...</td>\n",
       "    </tr>\n",
       "    <tr>\n",
       "      <th>1</th>\n",
       "      <td>TCGA-BH-A0C0</td>\n",
       "      <td>TCGA-BH-A0C0-11A</td>\n",
       "      <td>11</td>\n",
       "      <td>Solid Tissue Normal</td>\n",
       "      <td>Unknown</td>\n",
       "      <td>Unknown</td>\n",
       "      <td>Alive tumor free, last follow-up within risky ...</td>\n",
       "    </tr>\n",
       "    <tr>\n",
       "      <th>2</th>\n",
       "      <td>TCGA-D8-A141</td>\n",
       "      <td>TCGA-D8-A141-01A</td>\n",
       "      <td>01</td>\n",
       "      <td>Primary solid Tumor</td>\n",
       "      <td>Unknown</td>\n",
       "      <td>Unknown</td>\n",
       "      <td>Alive tumor free, last follow-up within risky ...</td>\n",
       "    </tr>\n",
       "    <tr>\n",
       "      <th>3</th>\n",
       "      <td>TCGA-EW-A424</td>\n",
       "      <td>TCGA-EW-A424-01A</td>\n",
       "      <td>01</td>\n",
       "      <td>Primary solid Tumor</td>\n",
       "      <td>Unknown</td>\n",
       "      <td>Unknown</td>\n",
       "      <td>Alive tumor free, last follow-up within risky ...</td>\n",
       "    </tr>\n",
       "    <tr>\n",
       "      <th>4</th>\n",
       "      <td>TCGA-AO-A12G</td>\n",
       "      <td>TCGA-AO-A12G-01A</td>\n",
       "      <td>01</td>\n",
       "      <td>Primary solid Tumor</td>\n",
       "      <td>Unknown</td>\n",
       "      <td>Unknown</td>\n",
       "      <td>Alive tumor free, last follow-up within risky ...</td>\n",
       "    </tr>\n",
       "  </tbody>\n",
       "</table>\n",
       "</div>"
      ],
      "text/plain": [
       "   case_barcode    sample_barcode sample_type     sample_type_name  \\\n",
       "0  TCGA-BH-A0C0  TCGA-BH-A0C0-01A          01  Primary solid Tumor   \n",
       "1  TCGA-BH-A0C0  TCGA-BH-A0C0-11A          11  Solid Tissue Normal   \n",
       "2  TCGA-D8-A141  TCGA-D8-A141-01A          01  Primary solid Tumor   \n",
       "3  TCGA-EW-A424  TCGA-EW-A424-01A          01  Primary solid Tumor   \n",
       "4  TCGA-AO-A12G  TCGA-AO-A12G-01A          01  Primary solid Tumor   \n",
       "\n",
       "  initial_response recurrence_status  \\\n",
       "0          Unknown           Unknown   \n",
       "1          Unknown           Unknown   \n",
       "2          Unknown           Unknown   \n",
       "3          Unknown           Unknown   \n",
       "4          Unknown           Unknown   \n",
       "\n",
       "                                      recurrence_log  \n",
       "0  Alive tumor free, last follow-up within risky ...  \n",
       "1  Alive tumor free, last follow-up within risky ...  \n",
       "2  Alive tumor free, last follow-up within risky ...  \n",
       "3  Alive tumor free, last follow-up within risky ...  \n",
       "4  Alive tumor free, last follow-up within risky ...  "
      ]
     },
     "execution_count": 16,
     "metadata": {},
     "output_type": "execute_result"
    }
   ],
   "source": [
    "merged = pd.merge(samples, patient, how='inner', on='case_barcode')\n",
    "\n",
    "print(merged.shape)\n",
    "merged.head()"
   ]
  },
  {
   "cell_type": "code",
   "execution_count": 17,
   "metadata": {},
   "outputs": [],
   "source": [
    "merged.to_csv(\"./metadata/hormone_metadata.tsv\", sep=\"\\t\", index=False)"
   ]
  }
 ],
 "metadata": {
  "kernelspec": {
   "display_name": "Python 3",
   "language": "python",
   "name": "python3"
  },
  "language_info": {
   "codemirror_mode": {
    "name": "ipython",
    "version": 3
   },
   "file_extension": ".py",
   "mimetype": "text/x-python",
   "name": "python",
   "nbconvert_exporter": "python",
   "pygments_lexer": "ipython3",
   "version": "3.7.1"
  }
 },
 "nbformat": 4,
 "nbformat_minor": 2
}
