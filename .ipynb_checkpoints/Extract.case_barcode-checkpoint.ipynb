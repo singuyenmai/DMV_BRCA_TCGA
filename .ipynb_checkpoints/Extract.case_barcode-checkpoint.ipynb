{
 "cells": [
  {
   "cell_type": "markdown",
   "metadata": {},
   "source": [
    "```\n",
    "if (!requireNamespace(\"BiocManager\", quietly=TRUE))\n",
    "    install.packages(\"BiocManager\")\n",
    "BiocManager::install(\"TCGAbiolinks\")\n",
    "```"
   ]
  },
  {
   "cell_type": "code",
   "execution_count": 1,
   "metadata": {
    "scrolled": true
   },
   "outputs": [
    {
     "name": "stderr",
     "output_type": "stream",
     "text": [
      "\n",
      "Attaching package: ‘dplyr’\n",
      "\n",
      "The following objects are masked from ‘package:stats’:\n",
      "\n",
      "    filter, lag\n",
      "\n",
      "The following objects are masked from ‘package:base’:\n",
      "\n",
      "    intersect, setdiff, setequal, union\n",
      "\n"
     ]
    },
    {
     "data": {
      "text/plain": [
       "R version 3.5.1 (2018-07-02)\n",
       "Platform: x86_64-conda_cos6-linux-gnu (64-bit)\n",
       "Running under: Ubuntu 16.04.6 LTS\n",
       "\n",
       "Matrix products: default\n",
       "BLAS/LAPACK: /home/singuyen/anaconda3/lib/R/lib/libRblas.so\n",
       "\n",
       "locale:\n",
       " [1] LC_CTYPE=en_US.UTF-8    LC_NUMERIC=C            LC_TIME=vi_VN          \n",
       " [4] LC_COLLATE=en_US.UTF-8  LC_MONETARY=vi_VN       LC_MESSAGES=en_US.UTF-8\n",
       " [7] LC_PAPER=vi_VN          LC_NAME=C               LC_ADDRESS=C           \n",
       "[10] LC_TELEPHONE=C          LC_MEASUREMENT=vi_VN    LC_IDENTIFICATION=C    \n",
       "\n",
       "attached base packages:\n",
       "[1] stats     graphics  grDevices utils     datasets  methods   base     \n",
       "\n",
       "other attached packages:\n",
       "[1] dplyr_0.8.0.1       TCGAbiolinks_2.10.5\n",
       "\n",
       "loaded via a namespace (and not attached):\n",
       "  [1] uuid_0.1-2                    backports_1.1.4              \n",
       "  [3] circlize_0.4.6                AnnotationHub_2.14.5         \n",
       "  [5] aroma.light_3.12.0            plyr_1.8.4                   \n",
       "  [7] selectr_0.4-1                 ConsensusClusterPlus_1.46.0  \n",
       "  [9] repr_0.19.2                   lazyeval_0.2.2               \n",
       " [11] splines_3.5.1                 BiocParallel_1.16.6          \n",
       " [13] GenomeInfoDb_1.18.2           ggplot2_3.1.1                \n",
       " [15] sva_3.30.1                    digest_0.6.18                \n",
       " [17] foreach_1.4.4                 htmltools_0.3.6              \n",
       " [19] magrittr_1.5                  memoise_1.1.0                \n",
       " [21] cluster_2.0.8                 doParallel_1.0.14            \n",
       " [23] limma_3.38.3                  ComplexHeatmap_1.20.0        \n",
       " [25] Biostrings_2.50.2             readr_1.3.1                  \n",
       " [27] annotate_1.60.1               matrixStats_0.54.0           \n",
       " [29] sesameData_1.0.0              R.utils_2.8.0                \n",
       " [31] prettyunits_1.0.2             colorspace_1.4-1             \n",
       " [33] blob_1.1.1                    rvest_0.3.3                  \n",
       " [35] ggrepel_0.8.0                 xfun_0.6                     \n",
       " [37] crayon_1.3.4                  RCurl_1.95-4.12              \n",
       " [39] jsonlite_1.6                  genefilter_1.64.0            \n",
       " [41] zoo_1.8-5                     survival_2.44-1.1            \n",
       " [43] iterators_1.0.10              glue_1.3.1                   \n",
       " [45] survminer_0.4.3               gtable_0.3.0                 \n",
       " [47] sesame_1.0.0                  zlibbioc_1.28.0              \n",
       " [49] XVector_0.22.0                GetoptLong_0.1.7             \n",
       " [51] DelayedArray_0.8.0            wheatmap_0.1.0               \n",
       " [53] shape_1.4.4                   BiocGenerics_0.28.0          \n",
       " [55] scales_1.0.0                  DESeq_1.34.1                 \n",
       " [57] DBI_1.0.0                     edgeR_3.24.3                 \n",
       " [59] ggthemes_4.1.1                Rcpp_1.0.1                   \n",
       " [61] cmprsk_2.2-7                  xtable_1.8-3                 \n",
       " [63] progress_1.2.0                bit_1.1-14                   \n",
       " [65] matlab_1.0.2                  km.ci_0.5-2                  \n",
       " [67] preprocessCore_1.44.0         stats4_3.5.1                 \n",
       " [69] httr_1.4.0                    RColorBrewer_1.1-2           \n",
       " [71] pkgconfig_2.0.2               XML_3.98-1.19                \n",
       " [73] R.methodsS3_1.7.1             locfit_1.5-9.1               \n",
       " [75] DNAcopy_1.56.0                tidyselect_0.2.5             \n",
       " [77] rlang_0.3.4                   later_0.8.0                  \n",
       " [79] AnnotationDbi_1.44.0          munsell_0.5.0                \n",
       " [81] tools_3.5.1                   downloader_0.4               \n",
       " [83] generics_0.0.2                RSQLite_2.1.1                \n",
       " [85] ExperimentHub_1.8.0           broom_0.5.2                  \n",
       " [87] evaluate_0.13                 stringr_1.4.0                \n",
       " [89] yaml_2.2.0                    knitr_1.22                   \n",
       " [91] bit64_0.9-7                   survMisc_0.5.5               \n",
       " [93] purrr_0.3.2                   randomForest_4.6-14          \n",
       " [95] EDASeq_2.16.3                 nlme_3.1-139                 \n",
       " [97] mime_0.6                      R.oo_1.22.0                  \n",
       " [99] xml2_1.2.0                    biomaRt_2.38.0               \n",
       "[101] compiler_3.5.1                curl_3.3                     \n",
       "[103] interactiveDisplayBase_1.20.0 tibble_2.1.1                 \n",
       "[105] geneplotter_1.60.0            stringi_1.4.3                \n",
       "[107] GenomicFeatures_1.34.8        lattice_0.20-38              \n",
       "[109] IRdisplay_0.7.0               Matrix_1.2-17                \n",
       "[111] KMsurv_0.1-5                  pillar_1.3.1                 \n",
       "[113] BiocManager_1.30.4            GlobalOptions_0.1.0          \n",
       "[115] data.table_1.12.2             bitops_1.0-6                 \n",
       "[117] httpuv_1.5.1                  rtracklayer_1.42.2           \n",
       "[119] GenomicRanges_1.34.0          R6_2.4.0                     \n",
       "[121] latticeExtra_0.6-28           hwriter_1.3.2                \n",
       "[123] promises_1.0.1                ShortRead_1.41.0             \n",
       "[125] gridExtra_2.3                 IRanges_2.16.0               \n",
       "[127] codetools_0.2-16              assertthat_0.2.1             \n",
       "[129] SummarizedExperiment_1.12.0   rjson_0.2.20                 \n",
       "[131] GenomicAlignments_1.18.1      Rsamtools_1.34.1             \n",
       "[133] S4Vectors_0.20.1              GenomeInfoDbData_1.2.0       \n",
       "[135] mgcv_1.8-28                   parallel_3.5.1               \n",
       "[137] hms_0.4.2                     grid_3.5.1                   \n",
       "[139] IRkernel_0.8.15               tidyr_0.8.3                  \n",
       "[141] ggpubr_0.2                    pbdZMQ_0.3-3                 \n",
       "[143] Biobase_2.42.0                shiny_1.3.1                  \n",
       "[145] base64enc_0.1-3              "
      ]
     },
     "metadata": {},
     "output_type": "display_data"
    }
   ],
   "source": [
    "library(\"TCGAbiolinks\")\n",
    "library(\"dplyr\")\n",
    "'%notin%' <- Negate('%in%')\n",
    "\n",
    "sessionInfo()"
   ]
  },
  {
   "cell_type": "markdown",
   "metadata": {},
   "source": [
    "# Subtypes"
   ]
  },
  {
   "cell_type": "code",
   "execution_count": 2,
   "metadata": {},
   "outputs": [
    {
     "data": {
      "text/html": [
       "<table>\n",
       "<thead><tr><th scope=col>pan.samplesID</th><th scope=col>cancer.type</th><th scope=col>Subtype_mRNA</th><th scope=col>Subtype_DNAmeth</th><th scope=col>Subtype_protein</th><th scope=col>Subtype_miRNA</th><th scope=col>Subtype_CNA</th><th scope=col>Subtype_Integrative</th><th scope=col>Subtype_other</th><th scope=col>Subtype_Selected</th></tr></thead>\n",
       "<tbody>\n",
       "\t<tr><td>TCGA-OR-A5J1                        </td><td>ACC                                 </td><td>steroid-phenotype-high+proliferation</td><td>CIMP-high                           </td><td>NA                                  </td><td>miRNA_1                             </td><td>Quiet                               </td><td>COC3                                </td><td>C1A                                 </td><td>ACC.CIMP-high                       </td></tr>\n",
       "\t<tr><td>TCGA-OR-A5J2                        </td><td>ACC                                 </td><td>steroid-phenotype-high+proliferation</td><td>CIMP-low                            </td><td> 1                                  </td><td>miRNA_1                             </td><td>Noisy                               </td><td>COC3                                </td><td>C1A                                 </td><td>ACC.CIMP-low                        </td></tr>\n",
       "\t<tr><td>TCGA-OR-A5J3                        </td><td>ACC                                 </td><td>steroid-phenotype-high              </td><td>CIMP-intermediate                   </td><td> 3                                  </td><td>miRNA_6                             </td><td>Chromosomal                         </td><td>COC2                                </td><td>C1A                                 </td><td>ACC.CIMP-intermediate               </td></tr>\n",
       "\t<tr><td>TCGA-OR-A5J4                        </td><td>ACC                                 </td><td>NA                                  </td><td>CIMP-high                           </td><td>NA                                  </td><td>miRNA_6                             </td><td>Chromosomal                         </td><td>NA                                  </td><td>NA                                  </td><td>ACC.CIMP-high                       </td></tr>\n",
       "\t<tr><td>TCGA-OR-A5J5                        </td><td>ACC                                 </td><td>steroid-phenotype-high              </td><td>CIMP-intermediate                   </td><td>NA                                  </td><td>miRNA_2                             </td><td>Chromosomal                         </td><td>COC2                                </td><td>C1A                                 </td><td>ACC.CIMP-intermediate               </td></tr>\n",
       "\t<tr><td>TCGA-OR-A5J6                        </td><td>ACC                                 </td><td>steroid-phenotype-low               </td><td>CIMP-low                            </td><td> 2                                  </td><td>miRNA_1                             </td><td>Noisy                               </td><td>COC1                                </td><td>C1B                                 </td><td>ACC.CIMP-low                        </td></tr>\n",
       "</tbody>\n",
       "</table>\n"
      ],
      "text/latex": [
       "\\begin{tabular}{r|llllllllll}\n",
       " pan.samplesID & cancer.type & Subtype\\_mRNA & Subtype\\_DNAmeth & Subtype\\_protein & Subtype\\_miRNA & Subtype\\_CNA & Subtype\\_Integrative & Subtype\\_other & Subtype\\_Selected\\\\\n",
       "\\hline\n",
       "\t TCGA-OR-A5J1                         & ACC                                  & steroid-phenotype-high+proliferation & CIMP-high                            & NA                                   & miRNA\\_1                            & Quiet                                & COC3                                 & C1A                                  & ACC.CIMP-high                       \\\\\n",
       "\t TCGA-OR-A5J2                         & ACC                                  & steroid-phenotype-high+proliferation & CIMP-low                             &  1                                   & miRNA\\_1                            & Noisy                                & COC3                                 & C1A                                  & ACC.CIMP-low                        \\\\\n",
       "\t TCGA-OR-A5J3                         & ACC                                  & steroid-phenotype-high               & CIMP-intermediate                    &  3                                   & miRNA\\_6                            & Chromosomal                          & COC2                                 & C1A                                  & ACC.CIMP-intermediate               \\\\\n",
       "\t TCGA-OR-A5J4                         & ACC                                  & NA                                   & CIMP-high                            & NA                                   & miRNA\\_6                            & Chromosomal                          & NA                                   & NA                                   & ACC.CIMP-high                       \\\\\n",
       "\t TCGA-OR-A5J5                         & ACC                                  & steroid-phenotype-high               & CIMP-intermediate                    & NA                                   & miRNA\\_2                            & Chromosomal                          & COC2                                 & C1A                                  & ACC.CIMP-intermediate               \\\\\n",
       "\t TCGA-OR-A5J6                         & ACC                                  & steroid-phenotype-low                & CIMP-low                             &  2                                   & miRNA\\_1                            & Noisy                                & COC1                                 & C1B                                  & ACC.CIMP-low                        \\\\\n",
       "\\end{tabular}\n"
      ],
      "text/markdown": [
       "\n",
       "| pan.samplesID | cancer.type | Subtype_mRNA | Subtype_DNAmeth | Subtype_protein | Subtype_miRNA | Subtype_CNA | Subtype_Integrative | Subtype_other | Subtype_Selected |\n",
       "|---|---|---|---|---|---|---|---|---|---|\n",
       "| TCGA-OR-A5J1                         | ACC                                  | steroid-phenotype-high+proliferation | CIMP-high                            | NA                                   | miRNA_1                              | Quiet                                | COC3                                 | C1A                                  | ACC.CIMP-high                        |\n",
       "| TCGA-OR-A5J2                         | ACC                                  | steroid-phenotype-high+proliferation | CIMP-low                             |  1                                   | miRNA_1                              | Noisy                                | COC3                                 | C1A                                  | ACC.CIMP-low                         |\n",
       "| TCGA-OR-A5J3                         | ACC                                  | steroid-phenotype-high               | CIMP-intermediate                    |  3                                   | miRNA_6                              | Chromosomal                          | COC2                                 | C1A                                  | ACC.CIMP-intermediate                |\n",
       "| TCGA-OR-A5J4                         | ACC                                  | NA                                   | CIMP-high                            | NA                                   | miRNA_6                              | Chromosomal                          | NA                                   | NA                                   | ACC.CIMP-high                        |\n",
       "| TCGA-OR-A5J5                         | ACC                                  | steroid-phenotype-high               | CIMP-intermediate                    | NA                                   | miRNA_2                              | Chromosomal                          | COC2                                 | C1A                                  | ACC.CIMP-intermediate                |\n",
       "| TCGA-OR-A5J6                         | ACC                                  | steroid-phenotype-low                | CIMP-low                             |  2                                   | miRNA_1                              | Noisy                                | COC1                                 | C1B                                  | ACC.CIMP-low                         |\n",
       "\n"
      ],
      "text/plain": [
       "  pan.samplesID cancer.type Subtype_mRNA                        \n",
       "1 TCGA-OR-A5J1  ACC         steroid-phenotype-high+proliferation\n",
       "2 TCGA-OR-A5J2  ACC         steroid-phenotype-high+proliferation\n",
       "3 TCGA-OR-A5J3  ACC         steroid-phenotype-high              \n",
       "4 TCGA-OR-A5J4  ACC         NA                                  \n",
       "5 TCGA-OR-A5J5  ACC         steroid-phenotype-high              \n",
       "6 TCGA-OR-A5J6  ACC         steroid-phenotype-low               \n",
       "  Subtype_DNAmeth   Subtype_protein Subtype_miRNA Subtype_CNA\n",
       "1 CIMP-high         NA              miRNA_1       Quiet      \n",
       "2 CIMP-low           1              miRNA_1       Noisy      \n",
       "3 CIMP-intermediate  3              miRNA_6       Chromosomal\n",
       "4 CIMP-high         NA              miRNA_6       Chromosomal\n",
       "5 CIMP-intermediate NA              miRNA_2       Chromosomal\n",
       "6 CIMP-low           2              miRNA_1       Noisy      \n",
       "  Subtype_Integrative Subtype_other Subtype_Selected     \n",
       "1 COC3                C1A           ACC.CIMP-high        \n",
       "2 COC3                C1A           ACC.CIMP-low         \n",
       "3 COC2                C1A           ACC.CIMP-intermediate\n",
       "4 NA                  NA            ACC.CIMP-high        \n",
       "5 COC2                C1A           ACC.CIMP-intermediate\n",
       "6 COC1                C1B           ACC.CIMP-low         "
      ]
     },
     "metadata": {},
     "output_type": "display_data"
    }
   ],
   "source": [
    "subtypes <- PanCancerAtlas_subtypes()\n",
    "\n",
    "head(subtypes)"
   ]
  },
  {
   "cell_type": "code",
   "execution_count": 3,
   "metadata": {},
   "outputs": [
    {
     "name": "stdout",
     "output_type": "stream",
     "text": [
      "[1] 1218    2\n"
     ]
    },
    {
     "data": {
      "text/html": [
       "<table>\n",
       "<thead><tr><th scope=col>pan.samplesID</th><th scope=col>Subtype_mRNA</th></tr></thead>\n",
       "<tbody>\n",
       "\t<tr><td>TCGA-E2-A158-11A-22R-A12D-07</td><td>Normal                      </td></tr>\n",
       "\t<tr><td>TCGA-BH-A0DD-11A-23R-A12P-07</td><td>LumA                        </td></tr>\n",
       "\t<tr><td>TCGA-BH-A1EO-11A-31R-A137-07</td><td>LumA                        </td></tr>\n",
       "\t<tr><td>TCGA-BH-A0B5-11A-23R-A12P-07</td><td>LumA                        </td></tr>\n",
       "\t<tr><td>TCGA-A7-A13G-11A-51R-A13Q-07</td><td>LumA                        </td></tr>\n",
       "\t<tr><td>TCGA-E9-A1NF-11A-73R-A14D-07</td><td>LumA                        </td></tr>\n",
       "</tbody>\n",
       "</table>\n"
      ],
      "text/latex": [
       "\\begin{tabular}{r|ll}\n",
       " pan.samplesID & Subtype\\_mRNA\\\\\n",
       "\\hline\n",
       "\t TCGA-E2-A158-11A-22R-A12D-07 & Normal                      \\\\\n",
       "\t TCGA-BH-A0DD-11A-23R-A12P-07 & LumA                        \\\\\n",
       "\t TCGA-BH-A1EO-11A-31R-A137-07 & LumA                        \\\\\n",
       "\t TCGA-BH-A0B5-11A-23R-A12P-07 & LumA                        \\\\\n",
       "\t TCGA-A7-A13G-11A-51R-A13Q-07 & LumA                        \\\\\n",
       "\t TCGA-E9-A1NF-11A-73R-A14D-07 & LumA                        \\\\\n",
       "\\end{tabular}\n"
      ],
      "text/markdown": [
       "\n",
       "| pan.samplesID | Subtype_mRNA |\n",
       "|---|---|\n",
       "| TCGA-E2-A158-11A-22R-A12D-07 | Normal                       |\n",
       "| TCGA-BH-A0DD-11A-23R-A12P-07 | LumA                         |\n",
       "| TCGA-BH-A1EO-11A-31R-A137-07 | LumA                         |\n",
       "| TCGA-BH-A0B5-11A-23R-A12P-07 | LumA                         |\n",
       "| TCGA-A7-A13G-11A-51R-A13Q-07 | LumA                         |\n",
       "| TCGA-E9-A1NF-11A-73R-A14D-07 | LumA                         |\n",
       "\n"
      ],
      "text/plain": [
       "  pan.samplesID                Subtype_mRNA\n",
       "1 TCGA-E2-A158-11A-22R-A12D-07 Normal      \n",
       "2 TCGA-BH-A0DD-11A-23R-A12P-07 LumA        \n",
       "3 TCGA-BH-A1EO-11A-31R-A137-07 LumA        \n",
       "4 TCGA-BH-A0B5-11A-23R-A12P-07 LumA        \n",
       "5 TCGA-A7-A13G-11A-51R-A13Q-07 LumA        \n",
       "6 TCGA-E9-A1NF-11A-73R-A14D-07 LumA        "
      ]
     },
     "metadata": {},
     "output_type": "display_data"
    }
   ],
   "source": [
    "brca_subtypes <- subset(subtypes, cancer.type == \"BRCA\", select=c(\"pan.samplesID\", \"Subtype_mRNA\"))\n",
    "print(dim(brca_subtypes))\n",
    "head(brca_subtypes)"
   ]
  },
  {
   "cell_type": "code",
   "execution_count": 4,
   "metadata": {},
   "outputs": [],
   "source": [
    "colnames(brca_subtypes) <- c(\"aliquot_barcode\", \"subtype\")"
   ]
  },
  {
   "cell_type": "code",
   "execution_count": 5,
   "metadata": {},
   "outputs": [
    {
     "data": {
      "text/html": [
       "<table>\n",
       "<thead><tr><th scope=col>aliquot_barcode</th><th scope=col>subtype</th><th scope=col>case_barcode</th><th scope=col>sample_barcode</th></tr></thead>\n",
       "<tbody>\n",
       "\t<tr><td>TCGA-E2-A158-11A-22R-A12D-07</td><td>Normal                      </td><td>TCGA-E2-A158                </td><td>TCGA-E2-A158-11A            </td></tr>\n",
       "\t<tr><td>TCGA-BH-A0DD-11A-23R-A12P-07</td><td>LumA                        </td><td>TCGA-BH-A0DD                </td><td>TCGA-BH-A0DD-11A            </td></tr>\n",
       "\t<tr><td>TCGA-BH-A1EO-11A-31R-A137-07</td><td>LumA                        </td><td>TCGA-BH-A1EO                </td><td>TCGA-BH-A1EO-11A            </td></tr>\n",
       "\t<tr><td>TCGA-BH-A0B5-11A-23R-A12P-07</td><td>LumA                        </td><td>TCGA-BH-A0B5                </td><td>TCGA-BH-A0B5-11A            </td></tr>\n",
       "\t<tr><td>TCGA-A7-A13G-11A-51R-A13Q-07</td><td>LumA                        </td><td>TCGA-A7-A13G                </td><td>TCGA-A7-A13G-11A            </td></tr>\n",
       "\t<tr><td>TCGA-E9-A1NF-11A-73R-A14D-07</td><td>LumA                        </td><td>TCGA-E9-A1NF                </td><td>TCGA-E9-A1NF-11A            </td></tr>\n",
       "</tbody>\n",
       "</table>\n"
      ],
      "text/latex": [
       "\\begin{tabular}{r|llll}\n",
       " aliquot\\_barcode & subtype & case\\_barcode & sample\\_barcode\\\\\n",
       "\\hline\n",
       "\t TCGA-E2-A158-11A-22R-A12D-07 & Normal                       & TCGA-E2-A158                 & TCGA-E2-A158-11A            \\\\\n",
       "\t TCGA-BH-A0DD-11A-23R-A12P-07 & LumA                         & TCGA-BH-A0DD                 & TCGA-BH-A0DD-11A            \\\\\n",
       "\t TCGA-BH-A1EO-11A-31R-A137-07 & LumA                         & TCGA-BH-A1EO                 & TCGA-BH-A1EO-11A            \\\\\n",
       "\t TCGA-BH-A0B5-11A-23R-A12P-07 & LumA                         & TCGA-BH-A0B5                 & TCGA-BH-A0B5-11A            \\\\\n",
       "\t TCGA-A7-A13G-11A-51R-A13Q-07 & LumA                         & TCGA-A7-A13G                 & TCGA-A7-A13G-11A            \\\\\n",
       "\t TCGA-E9-A1NF-11A-73R-A14D-07 & LumA                         & TCGA-E9-A1NF                 & TCGA-E9-A1NF-11A            \\\\\n",
       "\\end{tabular}\n"
      ],
      "text/markdown": [
       "\n",
       "| aliquot_barcode | subtype | case_barcode | sample_barcode |\n",
       "|---|---|---|---|\n",
       "| TCGA-E2-A158-11A-22R-A12D-07 | Normal                       | TCGA-E2-A158                 | TCGA-E2-A158-11A             |\n",
       "| TCGA-BH-A0DD-11A-23R-A12P-07 | LumA                         | TCGA-BH-A0DD                 | TCGA-BH-A0DD-11A             |\n",
       "| TCGA-BH-A1EO-11A-31R-A137-07 | LumA                         | TCGA-BH-A1EO                 | TCGA-BH-A1EO-11A             |\n",
       "| TCGA-BH-A0B5-11A-23R-A12P-07 | LumA                         | TCGA-BH-A0B5                 | TCGA-BH-A0B5-11A             |\n",
       "| TCGA-A7-A13G-11A-51R-A13Q-07 | LumA                         | TCGA-A7-A13G                 | TCGA-A7-A13G-11A             |\n",
       "| TCGA-E9-A1NF-11A-73R-A14D-07 | LumA                         | TCGA-E9-A1NF                 | TCGA-E9-A1NF-11A             |\n",
       "\n"
      ],
      "text/plain": [
       "  aliquot_barcode              subtype case_barcode sample_barcode  \n",
       "1 TCGA-E2-A158-11A-22R-A12D-07 Normal  TCGA-E2-A158 TCGA-E2-A158-11A\n",
       "2 TCGA-BH-A0DD-11A-23R-A12P-07 LumA    TCGA-BH-A0DD TCGA-BH-A0DD-11A\n",
       "3 TCGA-BH-A1EO-11A-31R-A137-07 LumA    TCGA-BH-A1EO TCGA-BH-A1EO-11A\n",
       "4 TCGA-BH-A0B5-11A-23R-A12P-07 LumA    TCGA-BH-A0B5 TCGA-BH-A0B5-11A\n",
       "5 TCGA-A7-A13G-11A-51R-A13Q-07 LumA    TCGA-A7-A13G TCGA-A7-A13G-11A\n",
       "6 TCGA-E9-A1NF-11A-73R-A14D-07 LumA    TCGA-E9-A1NF TCGA-E9-A1NF-11A"
      ]
     },
     "metadata": {},
     "output_type": "display_data"
    }
   ],
   "source": [
    "brca_subtypes$case_barcode <- substr(brca_subtypes$aliquot_barcode, 1, 12)\n",
    "brca_subtypes$sample_barcode <- substr(brca_subtypes$aliquot_barcode, 1, 16)\n",
    "head(brca_subtypes)"
   ]
  },
  {
   "cell_type": "code",
   "execution_count": 6,
   "metadata": {},
   "outputs": [],
   "source": [
    "write.table(brca_subtypes, \"./metadata/subtypes.tsv\", sep=\"\\t\", row.names=FALSE)"
   ]
  },
  {
   "cell_type": "markdown",
   "metadata": {},
   "source": [
    "------------------------\n",
    "# Hormone therapy responses"
   ]
  },
  {
   "cell_type": "code",
   "execution_count": 7,
   "metadata": {
    "scrolled": true
   },
   "outputs": [
    {
     "name": "stderr",
     "output_type": "stream",
     "text": [
      "--------------------------------------\n",
      "o GDCquery: Searching in GDC database\n",
      "--------------------------------------\n",
      "Genome of reference: hg38\n",
      "--------------------------------------------\n",
      "oo Accessing GDC. This might take a while...\n",
      "--------------------------------------------\n",
      "ooo Project: TCGA-BRCA\n",
      "--------------------\n",
      "oo Filtering results\n",
      "--------------------\n",
      "ooo By file.type\n",
      "ooo By barcode\n",
      "----------------\n",
      "oo Checking data\n",
      "----------------\n",
      "ooo Check if there are duplicated cases\n",
      "Warning: There are more than one file for the same case. Please verify query results. You can use the command View(getResults(query)) in rstudio\n",
      "ooo Check if there results for the query\n",
      "-------------------\n",
      "o Preparing output\n",
      "-------------------\n"
     ]
    },
    {
     "name": "stdout",
     "output_type": "stream",
     "text": [
      "  |======================================================================| 100%\n"
     ]
    }
   ],
   "source": [
    "query <- GDCquery(project = \"TCGA-BRCA\", \n",
    "                  data.category = \"Clinical\", \n",
    "                  file.type = \"xml\", \n",
    "                  barcode = brca_subtypes$case_barcode)\n",
    "#GDCdownload(query) # Run this one time then data will be downloaded to your machine\n",
    "clinical_drug <- GDCprepare_clinic(query, clinical.info = \"drug\")"
   ]
  },
  {
   "cell_type": "code",
   "execution_count": 8,
   "metadata": {},
   "outputs": [
    {
     "data": {
      "text/html": [
       "<ol class=list-inline>\n",
       "\t<li>2575</li>\n",
       "\t<li>24</li>\n",
       "</ol>\n"
      ],
      "text/latex": [
       "\\begin{enumerate*}\n",
       "\\item 2575\n",
       "\\item 24\n",
       "\\end{enumerate*}\n"
      ],
      "text/markdown": [
       "1. 2575\n",
       "2. 24\n",
       "\n",
       "\n"
      ],
      "text/plain": [
       "[1] 2575   24"
      ]
     },
     "metadata": {},
     "output_type": "display_data"
    }
   ],
   "source": [
    "dim(clinical_drug)"
   ]
  },
  {
   "cell_type": "code",
   "execution_count": 9,
   "metadata": {},
   "outputs": [
    {
     "data": {
      "text/html": [
       "<ol class=list-inline>\n",
       "\t<li>'bcr_patient_barcode'</li>\n",
       "\t<li>'tx_on_clinical_trial'</li>\n",
       "\t<li>'regimen_number'</li>\n",
       "\t<li>'bcr_drug_barcode'</li>\n",
       "\t<li>'bcr_drug_uuid'</li>\n",
       "\t<li>'total_dose'</li>\n",
       "\t<li>'total_dose_units'</li>\n",
       "\t<li>'prescribed_dose'</li>\n",
       "\t<li>'prescribed_dose_units'</li>\n",
       "\t<li>'number_cycles'</li>\n",
       "\t<li>'days_to_drug_therapy_start'</li>\n",
       "\t<li>'days_to_drug_therapy_end'</li>\n",
       "\t<li>'therapy_types'</li>\n",
       "\t<li>'drug_name'</li>\n",
       "\t<li>'clinical_trail_drug_classification'</li>\n",
       "\t<li>'regimen_indication'</li>\n",
       "\t<li>'regimen_indication_notes'</li>\n",
       "\t<li>'route_of_administrations'</li>\n",
       "\t<li>'therapy_ongoing'</li>\n",
       "\t<li>'measure_of_response'</li>\n",
       "\t<li>'day_of_form_completion'</li>\n",
       "\t<li>'month_of_form_completion'</li>\n",
       "\t<li>'year_of_form_completion'</li>\n",
       "\t<li>'project'</li>\n",
       "</ol>\n"
      ],
      "text/latex": [
       "\\begin{enumerate*}\n",
       "\\item 'bcr\\_patient\\_barcode'\n",
       "\\item 'tx\\_on\\_clinical\\_trial'\n",
       "\\item 'regimen\\_number'\n",
       "\\item 'bcr\\_drug\\_barcode'\n",
       "\\item 'bcr\\_drug\\_uuid'\n",
       "\\item 'total\\_dose'\n",
       "\\item 'total\\_dose\\_units'\n",
       "\\item 'prescribed\\_dose'\n",
       "\\item 'prescribed\\_dose\\_units'\n",
       "\\item 'number\\_cycles'\n",
       "\\item 'days\\_to\\_drug\\_therapy\\_start'\n",
       "\\item 'days\\_to\\_drug\\_therapy\\_end'\n",
       "\\item 'therapy\\_types'\n",
       "\\item 'drug\\_name'\n",
       "\\item 'clinical\\_trail\\_drug\\_classification'\n",
       "\\item 'regimen\\_indication'\n",
       "\\item 'regimen\\_indication\\_notes'\n",
       "\\item 'route\\_of\\_administrations'\n",
       "\\item 'therapy\\_ongoing'\n",
       "\\item 'measure\\_of\\_response'\n",
       "\\item 'day\\_of\\_form\\_completion'\n",
       "\\item 'month\\_of\\_form\\_completion'\n",
       "\\item 'year\\_of\\_form\\_completion'\n",
       "\\item 'project'\n",
       "\\end{enumerate*}\n"
      ],
      "text/markdown": [
       "1. 'bcr_patient_barcode'\n",
       "2. 'tx_on_clinical_trial'\n",
       "3. 'regimen_number'\n",
       "4. 'bcr_drug_barcode'\n",
       "5. 'bcr_drug_uuid'\n",
       "6. 'total_dose'\n",
       "7. 'total_dose_units'\n",
       "8. 'prescribed_dose'\n",
       "9. 'prescribed_dose_units'\n",
       "10. 'number_cycles'\n",
       "11. 'days_to_drug_therapy_start'\n",
       "12. 'days_to_drug_therapy_end'\n",
       "13. 'therapy_types'\n",
       "14. 'drug_name'\n",
       "15. 'clinical_trail_drug_classification'\n",
       "16. 'regimen_indication'\n",
       "17. 'regimen_indication_notes'\n",
       "18. 'route_of_administrations'\n",
       "19. 'therapy_ongoing'\n",
       "20. 'measure_of_response'\n",
       "21. 'day_of_form_completion'\n",
       "22. 'month_of_form_completion'\n",
       "23. 'year_of_form_completion'\n",
       "24. 'project'\n",
       "\n",
       "\n"
      ],
      "text/plain": [
       " [1] \"bcr_patient_barcode\"                \"tx_on_clinical_trial\"              \n",
       " [3] \"regimen_number\"                     \"bcr_drug_barcode\"                  \n",
       " [5] \"bcr_drug_uuid\"                      \"total_dose\"                        \n",
       " [7] \"total_dose_units\"                   \"prescribed_dose\"                   \n",
       " [9] \"prescribed_dose_units\"              \"number_cycles\"                     \n",
       "[11] \"days_to_drug_therapy_start\"         \"days_to_drug_therapy_end\"          \n",
       "[13] \"therapy_types\"                      \"drug_name\"                         \n",
       "[15] \"clinical_trail_drug_classification\" \"regimen_indication\"                \n",
       "[17] \"regimen_indication_notes\"           \"route_of_administrations\"          \n",
       "[19] \"therapy_ongoing\"                    \"measure_of_response\"               \n",
       "[21] \"day_of_form_completion\"             \"month_of_form_completion\"          \n",
       "[23] \"year_of_form_completion\"            \"project\"                           "
      ]
     },
     "metadata": {},
     "output_type": "display_data"
    }
   ],
   "source": [
    "colnames(clinical_drug)"
   ]
  },
  {
   "cell_type": "code",
   "execution_count": 10,
   "metadata": {},
   "outputs": [],
   "source": [
    "clinical_drug <- clinical_drug[,c('bcr_patient_barcode', 'bcr_drug_barcode', 'bcr_drug_uuid', \n",
    "                 'days_to_drug_therapy_start', 'days_to_drug_therapy_end', 'therapy_types', \n",
    "                 'drug_name', 'therapy_ongoing', 'measure_of_response', 'year_of_form_completion')]"
   ]
  },
  {
   "cell_type": "code",
   "execution_count": 11,
   "metadata": {
    "scrolled": true
   },
   "outputs": [
    {
     "name": "stdout",
     "output_type": "stream",
     "text": [
      "[1] 729  10\n"
     ]
    },
    {
     "data": {
      "text/html": [
       "<table>\n",
       "<thead><tr><th></th><th scope=col>bcr_patient_barcode</th><th scope=col>bcr_drug_barcode</th><th scope=col>bcr_drug_uuid</th><th scope=col>days_to_drug_therapy_start</th><th scope=col>days_to_drug_therapy_end</th><th scope=col>therapy_types</th><th scope=col>drug_name</th><th scope=col>therapy_ongoing</th><th scope=col>measure_of_response</th><th scope=col>year_of_form_completion</th></tr></thead>\n",
       "<tbody>\n",
       "\t<tr><th scope=row>15</th><td>TCGA-5L-AAT0                        </td><td>TCGA-5L-AAT0-D63723                 </td><td>BCA5B47A-BE3A-4258-8A17-692D7DFDDF87</td><td>322                                 </td><td> NA                                 </td><td>Hormone Therapy                     </td><td>Tamoxifen                           </td><td>YES                                 </td><td>                                    </td><td>2014                                </td></tr>\n",
       "\t<tr><th scope=row>16</th><td>TCGA-5L-AAT0                        </td><td>TCGA-5L-AAT0-D63723                 </td><td>BCA5B47A-BE3A-4258-8A17-692D7DFDDF87</td><td>322                                 </td><td> NA                                 </td><td>Hormone Therapy                     </td><td>Tamoxifen                           </td><td>YES                                 </td><td>                                    </td><td>2014                                </td></tr>\n",
       "\t<tr><th scope=row>17</th><td>TCGA-5L-AAT1                        </td><td>TCGA-5L-AAT1-D63716                 </td><td>747059AE-DC7B-409F-9178-2DD683C19A6F</td><td> 46                                 </td><td> NA                                 </td><td>Hormone Therapy                     </td><td>Letrozol                            </td><td>YES                                 </td><td>                                    </td><td>2014                                </td></tr>\n",
       "\t<tr><th scope=row>18</th><td>TCGA-5L-AAT1                        </td><td>TCGA-5L-AAT1-D63716                 </td><td>747059AE-DC7B-409F-9178-2DD683C19A6F</td><td> 46                                 </td><td> NA                                 </td><td>Hormone Therapy                     </td><td>Letrozol                            </td><td>YES                                 </td><td>                                    </td><td>2014                                </td></tr>\n",
       "\t<tr><th scope=row>20</th><td>TCGA-5T-A9QA                        </td><td>TCGA-5T-A9QA-D66891                 </td><td>906BC4D2-3C18-42A8-ABE2-BF47933ABA1F</td><td>304                                 </td><td> NA                                 </td><td>Hormone Therapy                     </td><td>Letrozole                           </td><td>YES                                 </td><td>                                    </td><td>2014                                </td></tr>\n",
       "\t<tr><th scope=row>24</th><td>TCGA-A1-A0SF                        </td><td>TCGA-A1-A0SF-D12154                 </td><td>8B91D294-5433-4D18-A271-253430DDD871</td><td>157                                 </td><td>918                                 </td><td>Hormone Therapy                     </td><td>tamoxifen                           </td><td>NO                                  </td><td>                                    </td><td>2011                                </td></tr>\n",
       "</tbody>\n",
       "</table>\n"
      ],
      "text/latex": [
       "\\begin{tabular}{r|llllllllll}\n",
       "  & bcr\\_patient\\_barcode & bcr\\_drug\\_barcode & bcr\\_drug\\_uuid & days\\_to\\_drug\\_therapy\\_start & days\\_to\\_drug\\_therapy\\_end & therapy\\_types & drug\\_name & therapy\\_ongoing & measure\\_of\\_response & year\\_of\\_form\\_completion\\\\\n",
       "\\hline\n",
       "\t15 & TCGA-5L-AAT0                         & TCGA-5L-AAT0-D63723                  & BCA5B47A-BE3A-4258-8A17-692D7DFDDF87 & 322                                  &  NA                                  & Hormone Therapy                      & Tamoxifen                            & YES                                  &                                      & 2014                                \\\\\n",
       "\t16 & TCGA-5L-AAT0                         & TCGA-5L-AAT0-D63723                  & BCA5B47A-BE3A-4258-8A17-692D7DFDDF87 & 322                                  &  NA                                  & Hormone Therapy                      & Tamoxifen                            & YES                                  &                                      & 2014                                \\\\\n",
       "\t17 & TCGA-5L-AAT1                         & TCGA-5L-AAT1-D63716                  & 747059AE-DC7B-409F-9178-2DD683C19A6F &  46                                  &  NA                                  & Hormone Therapy                      & Letrozol                             & YES                                  &                                      & 2014                                \\\\\n",
       "\t18 & TCGA-5L-AAT1                         & TCGA-5L-AAT1-D63716                  & 747059AE-DC7B-409F-9178-2DD683C19A6F &  46                                  &  NA                                  & Hormone Therapy                      & Letrozol                             & YES                                  &                                      & 2014                                \\\\\n",
       "\t20 & TCGA-5T-A9QA                         & TCGA-5T-A9QA-D66891                  & 906BC4D2-3C18-42A8-ABE2-BF47933ABA1F & 304                                  &  NA                                  & Hormone Therapy                      & Letrozole                            & YES                                  &                                      & 2014                                \\\\\n",
       "\t24 & TCGA-A1-A0SF                         & TCGA-A1-A0SF-D12154                  & 8B91D294-5433-4D18-A271-253430DDD871 & 157                                  & 918                                  & Hormone Therapy                      & tamoxifen                            & NO                                   &                                      & 2011                                \\\\\n",
       "\\end{tabular}\n"
      ],
      "text/markdown": [
       "\n",
       "| <!--/--> | bcr_patient_barcode | bcr_drug_barcode | bcr_drug_uuid | days_to_drug_therapy_start | days_to_drug_therapy_end | therapy_types | drug_name | therapy_ongoing | measure_of_response | year_of_form_completion |\n",
       "|---|---|---|---|---|---|---|---|---|---|---|\n",
       "| 15 | TCGA-5L-AAT0                         | TCGA-5L-AAT0-D63723                  | BCA5B47A-BE3A-4258-8A17-692D7DFDDF87 | 322                                  |  NA                                  | Hormone Therapy                      | Tamoxifen                            | YES                                  |                                      | 2014                                 |\n",
       "| 16 | TCGA-5L-AAT0                         | TCGA-5L-AAT0-D63723                  | BCA5B47A-BE3A-4258-8A17-692D7DFDDF87 | 322                                  |  NA                                  | Hormone Therapy                      | Tamoxifen                            | YES                                  |                                      | 2014                                 |\n",
       "| 17 | TCGA-5L-AAT1                         | TCGA-5L-AAT1-D63716                  | 747059AE-DC7B-409F-9178-2DD683C19A6F |  46                                  |  NA                                  | Hormone Therapy                      | Letrozol                             | YES                                  |                                      | 2014                                 |\n",
       "| 18 | TCGA-5L-AAT1                         | TCGA-5L-AAT1-D63716                  | 747059AE-DC7B-409F-9178-2DD683C19A6F |  46                                  |  NA                                  | Hormone Therapy                      | Letrozol                             | YES                                  |                                      | 2014                                 |\n",
       "| 20 | TCGA-5T-A9QA                         | TCGA-5T-A9QA-D66891                  | 906BC4D2-3C18-42A8-ABE2-BF47933ABA1F | 304                                  |  NA                                  | Hormone Therapy                      | Letrozole                            | YES                                  |                                      | 2014                                 |\n",
       "| 24 | TCGA-A1-A0SF                         | TCGA-A1-A0SF-D12154                  | 8B91D294-5433-4D18-A271-253430DDD871 | 157                                  | 918                                  | Hormone Therapy                      | tamoxifen                            | NO                                   |                                      | 2011                                 |\n",
       "\n"
      ],
      "text/plain": [
       "   bcr_patient_barcode bcr_drug_barcode    bcr_drug_uuid                       \n",
       "15 TCGA-5L-AAT0        TCGA-5L-AAT0-D63723 BCA5B47A-BE3A-4258-8A17-692D7DFDDF87\n",
       "16 TCGA-5L-AAT0        TCGA-5L-AAT0-D63723 BCA5B47A-BE3A-4258-8A17-692D7DFDDF87\n",
       "17 TCGA-5L-AAT1        TCGA-5L-AAT1-D63716 747059AE-DC7B-409F-9178-2DD683C19A6F\n",
       "18 TCGA-5L-AAT1        TCGA-5L-AAT1-D63716 747059AE-DC7B-409F-9178-2DD683C19A6F\n",
       "20 TCGA-5T-A9QA        TCGA-5T-A9QA-D66891 906BC4D2-3C18-42A8-ABE2-BF47933ABA1F\n",
       "24 TCGA-A1-A0SF        TCGA-A1-A0SF-D12154 8B91D294-5433-4D18-A271-253430DDD871\n",
       "   days_to_drug_therapy_start days_to_drug_therapy_end therapy_types  \n",
       "15 322                         NA                      Hormone Therapy\n",
       "16 322                         NA                      Hormone Therapy\n",
       "17  46                         NA                      Hormone Therapy\n",
       "18  46                         NA                      Hormone Therapy\n",
       "20 304                         NA                      Hormone Therapy\n",
       "24 157                        918                      Hormone Therapy\n",
       "   drug_name therapy_ongoing measure_of_response year_of_form_completion\n",
       "15 Tamoxifen YES                                 2014                   \n",
       "16 Tamoxifen YES                                 2014                   \n",
       "17 Letrozol  YES                                 2014                   \n",
       "18 Letrozol  YES                                 2014                   \n",
       "20 Letrozole YES                                 2014                   \n",
       "24 tamoxifen NO                                  2011                   "
      ]
     },
     "metadata": {},
     "output_type": "display_data"
    }
   ],
   "source": [
    "hormone <- subset(clinical_drug, therapy_types == \"Hormone Therapy\")\n",
    "\n",
    "print(dim(hormone))\n",
    "head(hormone)"
   ]
  },
  {
   "cell_type": "code",
   "execution_count": 12,
   "metadata": {},
   "outputs": [
    {
     "name": "stdout",
     "output_type": "stream",
     "text": [
      "'data.frame':\t729 obs. of  10 variables:\n",
      " $ bcr_patient_barcode       : chr  \"TCGA-5L-AAT0\" \"TCGA-5L-AAT0\" \"TCGA-5L-AAT1\" \"TCGA-5L-AAT1\" ...\n",
      " $ bcr_drug_barcode          : chr  \"TCGA-5L-AAT0-D63723\" \"TCGA-5L-AAT0-D63723\" \"TCGA-5L-AAT1-D63716\" \"TCGA-5L-AAT1-D63716\" ...\n",
      " $ bcr_drug_uuid             : chr  \"BCA5B47A-BE3A-4258-8A17-692D7DFDDF87\" \"BCA5B47A-BE3A-4258-8A17-692D7DFDDF87\" \"747059AE-DC7B-409F-9178-2DD683C19A6F\" \"747059AE-DC7B-409F-9178-2DD683C19A6F\" ...\n",
      " $ days_to_drug_therapy_start: int  322 322 46 46 304 157 299 308 424 910 ...\n",
      " $ days_to_drug_therapy_end  : int  NA NA NA NA NA 918 NA 2121 NA NA ...\n",
      " $ therapy_types             : Factor w/ 19 levels \"\",\"Ancillary\",..: 5 5 5 5 5 5 5 5 5 5 ...\n",
      " $ drug_name                 : Factor w/ 204 levels \"\",\"5 fluorouracil\",..: 163 163 122 122 124 162 162 30 91 25 ...\n",
      " $ therapy_ongoing           : Factor w/ 3 levels \"\",\"NO\",\"YES\": 3 3 3 3 3 2 3 2 2 3 ...\n",
      " $ measure_of_response       : chr  \"\" \"\" \"\" \"\" ...\n",
      " $ year_of_form_completion   : int  2014 2014 2014 2014 2014 2011 2011 2011 2010 2010 ...\n"
     ]
    }
   ],
   "source": [
    "hormone$bcr_patient_barcode <- as.character(hormone$bcr_patient_barcode)\n",
    "hormone$measure_of_response <- as.character(hormone$measure_of_response)\n",
    "\n",
    "str(hormone)"
   ]
  },
  {
   "cell_type": "code",
   "execution_count": 13,
   "metadata": {},
   "outputs": [
    {
     "data": {
      "text/html": [
       "520"
      ],
      "text/latex": [
       "520"
      ],
      "text/markdown": [
       "520"
      ],
      "text/plain": [
       "[1] 520"
      ]
     },
     "metadata": {},
     "output_type": "display_data"
    }
   ],
   "source": [
    "length(unique(hormone$bcr_patient_barcode)) # 520 patients received hormone therapy"
   ]
  },
  {
   "cell_type": "code",
   "execution_count": 14,
   "metadata": {},
   "outputs": [
    {
     "data": {
      "text/html": [
       "<ol class=list-inline>\n",
       "\t<li>20</li>\n",
       "\t<li>3</li>\n",
       "</ol>\n"
      ],
      "text/latex": [
       "\\begin{enumerate*}\n",
       "\\item 20\n",
       "\\item 3\n",
       "\\end{enumerate*}\n"
      ],
      "text/markdown": [
       "1. 20\n",
       "2. 3\n",
       "\n",
       "\n"
      ],
      "text/plain": [
       "[1] 20  3"
      ]
     },
     "metadata": {},
     "output_type": "display_data"
    }
   ],
   "source": [
    "subset(brca_subtypes, case_barcode %in% hormone$bcr_patient_barcode & subtype == \"Basal\") %>% dim()"
   ]
  },
  {
   "cell_type": "code",
   "execution_count": 15,
   "metadata": {},
   "outputs": [
    {
     "data": {
      "text/html": [
       "500"
      ],
      "text/latex": [
       "500"
      ],
      "text/markdown": [
       "500"
      ],
      "text/plain": [
       "[1] 500"
      ]
     },
     "metadata": {},
     "output_type": "display_data"
    }
   ],
   "source": [
    "# 20 patients were triple negative but received hormone therapy. We exclude these patients\n",
    "excluded <- subset(brca_subtypes, case_barcode %in% hormone$bcr_patient_barcode & subtype == \"Basal\")$case_barcode\n",
    "consolidated_hormone <- subset(hormone, !(bcr_patient_barcode %in% excluded))\n",
    "\n",
    "length(unique(consolidated_hormone$bcr_patient_barcode)) # 500 patients"
   ]
  },
  {
   "cell_type": "code",
   "execution_count": 16,
   "metadata": {},
   "outputs": [
    {
     "name": "stdout",
     "output_type": "stream",
     "text": [
      "[1] 642  10\n"
     ]
    }
   ],
   "source": [
    "consolidated_hormone <- consolidated_hormone %>% distinct()\n",
    "\n",
    "print(dim(consolidated_hormone))"
   ]
  },
  {
   "cell_type": "code",
   "execution_count": 17,
   "metadata": {},
   "outputs": [
    {
     "data": {
      "text/html": [
       "<table>\n",
       "<thead><tr><th></th><th scope=col>bcr_patient_barcode</th><th scope=col>bcr_drug_barcode</th><th scope=col>bcr_drug_uuid</th><th scope=col>days_to_drug_therapy_start</th><th scope=col>days_to_drug_therapy_end</th><th scope=col>therapy_types</th><th scope=col>drug_name</th><th scope=col>therapy_ongoing</th><th scope=col>measure_of_response</th><th scope=col>year_of_form_completion</th></tr></thead>\n",
       "<tbody>\n",
       "\t<tr><th scope=row>7</th><td>TCGA-A2-A04R                        </td><td>TCGA-A2-A04R-D2556                  </td><td>258814a0-8e67-4ac2-84ec-1353588f2f9d</td><td> 910                                </td><td>  NA                                </td><td>Hormone Therapy                     </td><td>Anastrozole                         </td><td>YES                                 </td><td>                                    </td><td>2010                                </td></tr>\n",
       "\t<tr><th scope=row>8</th><td>TCGA-A2-A04R                        </td><td>TCGA-A2-A04R-D2555                  </td><td>59cf62c8-9052-43df-aefa-ea940996727a</td><td> 399                                </td><td> 909                                </td><td>Hormone Therapy                     </td><td>Tamoxifen                           </td><td>NO                                  </td><td>                                    </td><td>2010                                </td></tr>\n",
       "\t<tr><th scope=row>9</th><td>TCGA-A2-A04V                        </td><td>TCGA-A2-A04V-D2673                  </td><td>41160c56-81c5-42b7-83b8-cc0018073cac</td><td>1452                                </td><td>  NA                                </td><td>Hormone Therapy                     </td><td>EXEMESTANE                          </td><td>NO                                  </td><td>                                    </td><td>2010                                </td></tr>\n",
       "\t<tr><th scope=row>10</th><td>TCGA-A2-A04V                        </td><td>TCGA-A2-A04V-D2672                  </td><td>c1e949b8-77cf-4bbb-b6f2-a74ede20457a</td><td> 107                                </td><td>1258                                </td><td>Hormone Therapy                     </td><td>TAMOXIFEN                           </td><td>NO                                  </td><td>                                    </td><td>2010                                </td></tr>\n",
       "\t<tr><th scope=row>11</th><td>TCGA-A2-A04V                        </td><td>TCGA-A2-A04V-D2768                  </td><td>4de0e435-5d29-44a0-a877-986681b96a3b</td><td>1269                                </td><td>1439                                </td><td>Hormone Therapy                     </td><td>LETROZOLE                           </td><td>NO                                  </td><td>                                    </td><td>2010                                </td></tr>\n",
       "\t<tr><th scope=row>13</th><td>TCGA-A2-A04Y                        </td><td>TCGA-A2-A04Y-D2741                  </td><td>d6d00a85-5494-4f08-8711-63169285c197</td><td> 273                                </td><td> 371                                </td><td>Hormone Therapy                     </td><td>Tamoxifen                           </td><td>NO                                  </td><td>                                    </td><td>2010                                </td></tr>\n",
       "\t<tr><th scope=row>14</th><td>TCGA-A2-A04Y                        </td><td>TCGA-A2-A04Y-D2746                  </td><td>227dd2b0-0b22-46bd-95d4-20775978c5dd</td><td> 372                                </td><td>  NA                                </td><td>Hormone Therapy                     </td><td>Arimidex                            </td><td>YES                                 </td><td>                                    </td><td>2010                                </td></tr>\n",
       "\t<tr><th scope=row>16</th><td>TCGA-A2-A0CL                        </td><td>TCGA-A2-A0CL-D7415                  </td><td>9ded5455-e05f-4b38-b10a-0accda9fdabb</td><td> 505                                </td><td>  NA                                </td><td>Hormone Therapy                     </td><td>Arimidex                            </td><td>YES                                 </td><td>                                    </td><td>2011                                </td></tr>\n",
       "\t<tr><th scope=row>17</th><td>TCGA-A2-A0CL                        </td><td>TCGA-A2-A0CL-D7412                  </td><td>c002a4ce-ae2a-4c04-9941-a4fa99d93666</td><td> 269                                </td><td> 504                                </td><td>Hormone Therapy                     </td><td>Tamoxifen                           </td><td>NO                                  </td><td>                                    </td><td>2011                                </td></tr>\n",
       "\t<tr><th scope=row>18</th><td>TCGA-A2-A0CO                        </td><td>TCGA-A2-A0CO-D33663                 </td><td>80B1C97B-8D60-43C3-BDCE-AC0B58A11419</td><td>  84                                </td><td> 512                                </td><td>Hormone Therapy                     </td><td>Tamoxifen                           </td><td>NO                                  </td><td>Complete Response                   </td><td>2012                                </td></tr>\n",
       "\t<tr><th scope=row>19</th><td>TCGA-A2-A0CO                        </td><td>TCGA-A2-A0CO-D33664                 </td><td>68699598-6953-48BB-BD8B-76AC54625819</td><td> 513                                </td><td>  NA                                </td><td>Hormone Therapy                     </td><td>Arimidex                            </td><td>                                    </td><td>                                    </td><td>2012                                </td></tr>\n",
       "\t<tr><th scope=row>22</th><td>TCGA-A2-A0CR                        </td><td>TCGA-A2-A0CR-D32693                 </td><td>15734CC3-5FE8-44C0-8E0B-651B026DFC80</td><td> 224                                </td><td> 300                                </td><td>Hormone Therapy                     </td><td>Tamoxifen                           </td><td>NO                                  </td><td>Complete Response                   </td><td>2012                                </td></tr>\n",
       "\t<tr><th scope=row>23</th><td>TCGA-A2-A0CR                        </td><td>TCGA-A2-A0CR-D32695                 </td><td>4B109ECE-53BB-4544-A269-3DBBEFFDF432</td><td> 315                                </td><td>  NA                                </td><td>Hormone Therapy                     </td><td>Anastrazole                         </td><td>YES                                 </td><td>                                    </td><td>2012                                </td></tr>\n",
       "\t<tr><th scope=row>25</th><td>TCGA-A2-A0CT                        </td><td>TCGA-A2-A0CT-D1976                  </td><td>fe69a660-e936-4a3f-8e5d-8cbfbb6dfeb4</td><td> 559                                </td><td>1537                                </td><td>Hormone Therapy                     </td><td>Tamoxifen                           </td><td>NO                                  </td><td>                                    </td><td>2010                                </td></tr>\n",
       "\t<tr><th scope=row>26</th><td>TCGA-A2-A0CT                        </td><td>TCGA-A2-A0CT-D1975                  </td><td>b6f4f507-e6ee-45bc-b50b-d9a2bb53bcaa</td><td> 160                                </td><td> 433                                </td><td>Hormone Therapy                     </td><td>Arimidex                            </td><td>NO                                  </td><td>                                    </td><td>2010                                </td></tr>\n",
       "\t<tr><th scope=row>30</th><td>TCGA-A2-A0CX                        </td><td>TCGA-A2-A0CX-D1967                  </td><td>7eae7122-ba45-4ed8-86c7-0b0b15f5a9e8</td><td> 686                                </td><td>  NA                                </td><td>Hormone Therapy                     </td><td>Letrozole                           </td><td>YES                                 </td><td>                                    </td><td>2010                                </td></tr>\n",
       "\t<tr><th scope=row>31</th><td>TCGA-A2-A0CX                        </td><td>TCGA-A2-A0CX-D1968                  </td><td>aa0d58a3-07f6-4683-b664-53d0eec5ffcf</td><td>1184                                </td><td>1273                                </td><td>Hormone Therapy                     </td><td>Tamoxifen                           </td><td>NO                                  </td><td>                                    </td><td>2010                                </td></tr>\n",
       "\t<tr><th scope=row>32</th><td>TCGA-A2-A0CY                        </td><td>TCGA-A2-A0CY-D2042                  </td><td>f939ece6-83f5-47de-903f-49a909ca253c</td><td>1261                                </td><td>  NA                                </td><td>Hormone Therapy                     </td><td>Letrozole                           </td><td>YES                                 </td><td>                                    </td><td>2010                                </td></tr>\n",
       "\t<tr><th scope=row>33</th><td>TCGA-A2-A0CY                        </td><td>TCGA-A2-A0CY-D2041                  </td><td>d5d250f1-15c3-4766-94ed-40ac4f8f7cc0</td><td>1071                                </td><td>1162                                </td><td>Hormone Therapy                     </td><td>Exemestane                          </td><td>NO                                  </td><td>                                    </td><td>2010                                </td></tr>\n",
       "\t<tr><th scope=row>34</th><td>TCGA-A2-A0CY                        </td><td>TCGA-A2-A0CY-D2038                  </td><td>3dd69ff8-546a-4ac3-bc5b-256b74c682b9</td><td> 197                                </td><td> 357                                </td><td>Hormone Therapy                     </td><td>Tamoxifen                           </td><td>NO                                  </td><td>                                    </td><td>2010                                </td></tr>\n",
       "\t<tr><th scope=row>35</th><td>TCGA-A2-A0CY                        </td><td>TCGA-A2-A0CY-D2039                  </td><td>447a07c8-be8d-45d3-8404-b6d76b16b0bc</td><td> 455                                </td><td> 507                                </td><td>Hormone Therapy                     </td><td>Anastrozole                         </td><td>NO                                  </td><td>                                    </td><td>2010                                </td></tr>\n",
       "\t<tr><th scope=row>36</th><td>TCGA-A2-A0CY                        </td><td>TCGA-A2-A0CY-D2040                  </td><td>bad877aa-b726-4dc3-ab46-c4c508f5b58c</td><td> 634                                </td><td> 665                                </td><td>Hormone Therapy                     </td><td>Anastrozole                         </td><td>NO                                  </td><td>                                    </td><td>2010                                </td></tr>\n",
       "\t<tr><th scope=row>41</th><td>TCGA-A2-A0EN                        </td><td>TCGA-A2-A0EN-D2544                  </td><td>b71d60f7-798d-44c2-8d89-f63514233b1e</td><td>1985                                </td><td>  NA                                </td><td>Hormone Therapy                     </td><td>Anastrozole                         </td><td>YES                                 </td><td>                                    </td><td>2010                                </td></tr>\n",
       "\t<tr><th scope=row>42</th><td>TCGA-A2-A0EN                        </td><td>TCGA-A2-A0EN-D2543                  </td><td>4d55dd20-b5b7-40c3-8015-41a32a417673</td><td>  64                                </td><td>1926                                </td><td>Hormone Therapy                     </td><td>Tamoxifen                           </td><td>NO                                  </td><td>                                    </td><td>2010                                </td></tr>\n",
       "\t<tr><th scope=row>43</th><td>TCGA-A2-A0EO                        </td><td>TCGA-A2-A0EO-D1994                  </td><td>5d5957c7-956b-45b3-981b-3030c7aac47c</td><td> 876                                </td><td>  NA                                </td><td>Hormone Therapy                     </td><td>Exemestane                          </td><td>YES                                 </td><td>                                    </td><td>2010                                </td></tr>\n",
       "\t<tr><th scope=row>44</th><td>TCGA-A2-A0EO                        </td><td>TCGA-A2-A0EO-D1993                  </td><td>2292be73-49ad-45dd-a4af-0073e6cdf61e</td><td> 158                                </td><td> 876                                </td><td>Hormone Therapy                     </td><td>Tamoxifen                           </td><td>NO                                  </td><td>                                    </td><td>2010                                </td></tr>\n",
       "\t<tr><th scope=row>45</th><td>TCGA-A2-A0EP                        </td><td>TCGA-A2-A0EP-D34480                 </td><td>FFB9FA64-1267-4A11-8416-9F07A311CF55</td><td> 222                                </td><td>1781                                </td><td>Hormone Therapy                     </td><td>Arimidex                            </td><td>NO                                  </td><td>Complete Response                   </td><td>2012                                </td></tr>\n",
       "\t<tr><th scope=row>46</th><td>TCGA-A2-A0EP                        </td><td>TCGA-A2-A0EP-D34482                 </td><td>0E2A204E-622E-437C-ADF2-E2DEA2F32B38</td><td>1959                                </td><td>2461                                </td><td>Hormone Therapy                     </td><td>Arimidex                            </td><td>NO                                  </td><td>Complete Response                   </td><td>2012                                </td></tr>\n",
       "\t<tr><th scope=row>48</th><td>TCGA-A2-A0ES                        </td><td>TCGA-A2-A0ES-D6684                  </td><td>08fef96e-bb08-4bf3-ad02-6018935a8f47</td><td> 203                                </td><td> 458                                </td><td>Hormone Therapy                     </td><td>Anastrozole                         </td><td>NO                                  </td><td>                                    </td><td>2011                                </td></tr>\n",
       "\t<tr><th scope=row>49</th><td>TCGA-A2-A0ES                        </td><td>TCGA-A2-A0ES-D6685                  </td><td>410e1f53-15e7-4ae7-9d01-2fee31ecd2f6</td><td> 459                                </td><td>  NA                                </td><td>Hormone Therapy                     </td><td>Exemestane                          </td><td>YES                                 </td><td>                                    </td><td>2011                                </td></tr>\n",
       "\t<tr><th scope=row>⋮</th><td>⋮</td><td>⋮</td><td>⋮</td><td>⋮</td><td>⋮</td><td>⋮</td><td>⋮</td><td>⋮</td><td>⋮</td><td>⋮</td></tr>\n",
       "\t<tr><th scope=row>586</th><td>TCGA-GM-A2D9                        </td><td>TCGA-GM-A2D9-D47254                 </td><td>64CF04C2-4790-4726-A0F7-9B4EF1148E1D</td><td> 559                                </td><td>1265                                </td><td>Hormone Therapy                     </td><td>Arimidex                            </td><td>NO                                  </td><td>Stable Disease                      </td><td>2013                                </td></tr>\n",
       "\t<tr><th scope=row>587</th><td>TCGA-GM-A2D9                        </td><td>TCGA-GM-A2D9-D47255                 </td><td>3BAECB5B-8DFC-452B-93BF-ED08CA82E4EC</td><td>1266                                </td><td>1354                                </td><td>Hormone Therapy                     </td><td>Tamoxifen                           </td><td>NO                                  </td><td>Stable Disease                      </td><td>2013                                </td></tr>\n",
       "\t<tr><th scope=row>588</th><td>TCGA-GM-A2DA                        </td><td>TCGA-GM-A2DA-D47219                 </td><td>FDBDD508-2625-4646-B410-82178F238FB5</td><td>3061                                </td><td>3131                                </td><td>Hormone Therapy                     </td><td>Tamoxifen                           </td><td>NO                                  </td><td>Clinical Progressive Disease        </td><td>2013                                </td></tr>\n",
       "\t<tr><th scope=row>589</th><td>TCGA-GM-A2DA                        </td><td>TCGA-GM-A2DA-D47220                 </td><td>A9D3732A-4B83-435F-AFE7-98604C52FEAF</td><td>3061                                </td><td>3131                                </td><td>Hormone Therapy                     </td><td>Aromasin                            </td><td>NO                                  </td><td>Clinical Progressive Disease        </td><td>2013                                </td></tr>\n",
       "\t<tr><th scope=row>590</th><td>TCGA-GM-A2DA                        </td><td>TCGA-GM-A2DA-D47222                 </td><td>34A11D07-D395-44A8-B0FA-B6785948D3FE</td><td>3434                                </td><td>4307                                </td><td>Hormone Therapy                     </td><td>Letrozole                           </td><td>NO                                  </td><td>Clinical Progressive Disease        </td><td>2013                                </td></tr>\n",
       "\t<tr><th scope=row>591</th><td>TCGA-GM-A2DA                        </td><td>TCGA-GM-A2DA-D47223                 </td><td>B90F3A89-5CDC-406E-B9B8-C850C6C5DD76</td><td>4347                                </td><td>4435                                </td><td>Hormone Therapy                     </td><td>Megace                              </td><td>NO                                  </td><td>Clinical Progressive Disease        </td><td>2013                                </td></tr>\n",
       "\t<tr><th scope=row>592</th><td>TCGA-GM-A2DA                        </td><td>TCGA-GM-A2DA-D47229                 </td><td>E41E7973-FE0F-4D97-A8DB-69BFE8B0D08C</td><td>4721                                </td><td>5015                                </td><td>Hormone Therapy                     </td><td>Aromasin                            </td><td>NO                                  </td><td>Stable Disease                      </td><td>2013                                </td></tr>\n",
       "\t<tr><th scope=row>593</th><td>TCGA-GM-A2DA                        </td><td>TCGA-GM-A2DA-D47236                 </td><td>28B70E98-675A-4649-A171-1CCC398CFB9F</td><td>5909                                </td><td>6029                                </td><td>Hormone Therapy                     </td><td>Tamoxifen                           </td><td>NO                                  </td><td>Clinical Progressive Disease        </td><td>2013                                </td></tr>\n",
       "\t<tr><th scope=row>594</th><td>TCGA-GM-A2DC                        </td><td>TCGA-GM-A2DC-D47068                 </td><td>9A846B76-30FF-41CC-854D-8BFDBE8D172E</td><td> 294                                </td><td> 341                                </td><td>Hormone Therapy                     </td><td>Letrozole                           </td><td>NO                                  </td><td>Complete Response                   </td><td>2013                                </td></tr>\n",
       "\t<tr><th scope=row>595</th><td>TCGA-GM-A2DC                        </td><td>TCGA-GM-A2DC-D47069                 </td><td>01F8744B-71EA-4966-BDDF-8D9D5CFD632C</td><td> 355                                </td><td> 383                                </td><td>Hormone Therapy                     </td><td>Arimidex                            </td><td>NO                                  </td><td>Complete Response                   </td><td>2013                                </td></tr>\n",
       "\t<tr><th scope=row>597</th><td>TCGA-GM-A2DL                        </td><td>TCGA-GM-A2DL-D47100                 </td><td>64A06228-D44D-48D4-920A-2EF984608DE9</td><td> 158                                </td><td>1989                                </td><td>Hormone Therapy                     </td><td>Tamoxifen                           </td><td>NO                                  </td><td>Complete Response                   </td><td>2013                                </td></tr>\n",
       "\t<tr><th scope=row>598</th><td>TCGA-GM-A2DL                        </td><td>TCGA-GM-A2DL-D47102                 </td><td>C22DF452-BBBA-49F3-ACF1-E448627C6D68</td><td>1990                                </td><td>  NA                                </td><td>Hormone Therapy                     </td><td>Arimidex                            </td><td>YES                                 </td><td>                                    </td><td>2013                                </td></tr>\n",
       "\t<tr><th scope=row>604</th><td>TCGA-GM-A3XG                        </td><td>TCGA-GM-A3XG-D41971                 </td><td>D44E9F6A-E7B4-4C08-BF20-B6A744CD1C78</td><td> 434                                </td><td> 473                                </td><td>Hormone Therapy                     </td><td>Tamoxifen                           </td><td>NO                                  </td><td>Complete Response                   </td><td>2013                                </td></tr>\n",
       "\t<tr><th scope=row>605</th><td>TCGA-GM-A3XG                        </td><td>TCGA-GM-A3XG-D41972                 </td><td>1E050AB5-3F95-403F-9CD2-15E62549A9B0</td><td> 813                                </td><td> 843                                </td><td>Hormone Therapy                     </td><td>Arimidex                            </td><td>NO                                  </td><td>Complete Response                   </td><td>2013                                </td></tr>\n",
       "\t<tr><th scope=row>606</th><td>TCGA-GM-A3XN                        </td><td>TCGA-GM-A3XN-D41968                 </td><td>5A81151E-DC13-4510-B131-29DB3185B815</td><td> 416                                </td><td>1591                                </td><td>Hormone Therapy                     </td><td>Tamoxifen                           </td><td>NO                                  </td><td>Complete Response                   </td><td>2013                                </td></tr>\n",
       "\t<tr><th scope=row>607</th><td>TCGA-GM-A3XN                        </td><td>TCGA-GM-A3XN-D41969                 </td><td>F9D001E6-39C1-43A9-B5B7-5A833D67EBE7</td><td>1592                                </td><td>  NA                                </td><td>Hormone Therapy                     </td><td>Arimidex                            </td><td>YES                                 </td><td>                                    </td><td>2013                                </td></tr>\n",
       "\t<tr><th scope=row>609</th><td>TCGA-GM-A5PX                        </td><td>TCGA-GM-A5PX-D42160                 </td><td>D2BD571D-6658-48CB-88FE-77DAC9870F9C</td><td> 112                                </td><td> 236                                </td><td>Hormone Therapy                     </td><td>Arimidex                            </td><td>NO                                  </td><td>Complete Response                   </td><td>2013                                </td></tr>\n",
       "\t<tr><th scope=row>610</th><td>TCGA-GM-A5PX                        </td><td>TCGA-GM-A5PX-D42161                 </td><td>761DB280-F416-45BF-B1C0-88A1E9EFA3EF</td><td> 265                                </td><td> 339                                </td><td>Hormone Therapy                     </td><td>Aromasin                            </td><td>NO                                  </td><td>Complete Response                   </td><td>2013                                </td></tr>\n",
       "\t<tr><th scope=row>611</th><td>TCGA-GM-A5PX                        </td><td>TCGA-GM-A5PX-D42163                 </td><td>2713B9D0-0CB9-4FD7-B75B-3ED4DEC296C4</td><td> 340                                </td><td>  NA                                </td><td>Hormone Therapy                     </td><td>Tamoxifen                           </td><td>YES                                 </td><td>                                    </td><td>2013                                </td></tr>\n",
       "\t<tr><th scope=row>619</th><td>TCGA-LL-A6FP                        </td><td>TCGA-LL-A6FP-D47969                 </td><td>3D373A52-0D38-443C-AAC5-0376FC840F09</td><td>   0                                </td><td>  NA                                </td><td>Hormone Therapy                     </td><td>Arimidex                            </td><td>YES                                 </td><td>                                    </td><td>2013                                </td></tr>\n",
       "\t<tr><th scope=row>620</th><td>TCGA-LL-A6FP                        </td><td>TCGA-LL-A6FP-D47970                 </td><td>1ED178CF-05EE-41AD-B1AC-37FA1DAE065A</td><td>   0                                </td><td>   0                                </td><td>Hormone Therapy                     </td><td>Tamoxifen                           </td><td>NO                                  </td><td>                                    </td><td>2013                                </td></tr>\n",
       "\t<tr><th scope=row>627</th><td>TCGA-S3-A6ZF                        </td><td>TCGA-S3-A6ZF-D63998                 </td><td>CEDA468F-784C-42EC-B0C6-8B42B8C5BEE1</td><td> 191                                </td><td> 278                                </td><td>Hormone Therapy                     </td><td>LETROZOLE                           </td><td>NO                                  </td><td>                                    </td><td>2014                                </td></tr>\n",
       "\t<tr><th scope=row>628</th><td>TCGA-S3-A6ZF                        </td><td>TCGA-S3-A6ZF-D64005                 </td><td>1F99661D-577D-4D3C-BFF3-6436D7DA50A3</td><td> 278                                </td><td>  NA                                </td><td>Hormone Therapy                     </td><td>ANASTROZOLE                         </td><td>YES                                 </td><td>                                    </td><td>2014                                </td></tr>\n",
       "\t<tr><th scope=row>629</th><td>TCGA-S3-A6ZG                        </td><td>TCGA-S3-A6ZG-D51090                 </td><td>592DBC73-6BBC-49B6-8C4D-DE2812D431D8</td><td> 116                                </td><td> 221                                </td><td>Hormone Therapy                     </td><td>Taxol                               </td><td>NO                                  </td><td>Complete Response                   </td><td>2013                                </td></tr>\n",
       "\t<tr><th scope=row>630</th><td>TCGA-S3-A6ZG                        </td><td>TCGA-S3-A6ZG-D63649                 </td><td>9E65EFA0-05D8-47EB-A1E0-6E44A31DBA3D</td><td> 256                                </td><td>  NA                                </td><td>Hormone Therapy                     </td><td>Anastrozole                         </td><td>YES                                 </td><td>                                    </td><td>2014                                </td></tr>\n",
       "\t<tr><th scope=row>632</th><td>TCGA-S3-AA11                        </td><td>TCGA-S3-AA11-D58358                 </td><td>0469F246-0A00-46F4-ACA0-0B25A14C6D08</td><td>  53                                </td><td> 169                                </td><td>Hormone Therapy                     </td><td>LETROZOLE                           </td><td>NO                                  </td><td>Complete Response                   </td><td>2014                                </td></tr>\n",
       "\t<tr><th scope=row>633</th><td>TCGA-S3-AA11                        </td><td>TCGA-S3-AA11-D58359                 </td><td>88D345D0-A5BB-4598-983F-ABA5E9ADE52E</td><td> 169                                </td><td> 309                                </td><td>Hormone Therapy                     </td><td>EXEMESTANE                          </td><td>NO                                  </td><td>Complete Response                   </td><td>2014                                </td></tr>\n",
       "\t<tr><th scope=row>634</th><td>TCGA-S3-AA11                        </td><td>TCGA-S3-AA11-D67566                 </td><td>FF58F7AA-3F5B-42A3-B786-9CD8F5B3998B</td><td> 309                                </td><td>  NA                                </td><td>Hormone Therapy                     </td><td>ANASTROZOLE                         </td><td>YES                                 </td><td>Complete Response                   </td><td>2014                                </td></tr>\n",
       "\t<tr><th scope=row>639</th><td>TCGA-WT-AB41                        </td><td>TCGA-WT-AB41-D62422                 </td><td>F3CB280B-1BAF-4C0D-AC67-5A602FB8F3BF</td><td> 181                                </td><td> 273                                </td><td>Hormone Therapy                     </td><td>Arimidex                            </td><td>NO                                  </td><td>Complete Response                   </td><td>2014                                </td></tr>\n",
       "\t<tr><th scope=row>640</th><td>TCGA-WT-AB41                        </td><td>TCGA-WT-AB41-D62423                 </td><td>A0282F4E-3251-4690-9FC0-FC12FED22320</td><td> 273                                </td><td>  NA                                </td><td>Hormone Therapy                     </td><td>Tamoxifen                           </td><td>YES                                 </td><td>                                    </td><td>2014                                </td></tr>\n",
       "</tbody>\n",
       "</table>\n"
      ],
      "text/latex": [
       "\\begin{tabular}{r|llllllllll}\n",
       "  & bcr\\_patient\\_barcode & bcr\\_drug\\_barcode & bcr\\_drug\\_uuid & days\\_to\\_drug\\_therapy\\_start & days\\_to\\_drug\\_therapy\\_end & therapy\\_types & drug\\_name & therapy\\_ongoing & measure\\_of\\_response & year\\_of\\_form\\_completion\\\\\n",
       "\\hline\n",
       "\t7 & TCGA-A2-A04R                         & TCGA-A2-A04R-D2556                   & 258814a0-8e67-4ac2-84ec-1353588f2f9d &  910                                 &   NA                                 & Hormone Therapy                      & Anastrozole                          & YES                                  &                                      & 2010                                \\\\\n",
       "\t8 & TCGA-A2-A04R                         & TCGA-A2-A04R-D2555                   & 59cf62c8-9052-43df-aefa-ea940996727a &  399                                 &  909                                 & Hormone Therapy                      & Tamoxifen                            & NO                                   &                                      & 2010                                \\\\\n",
       "\t9 & TCGA-A2-A04V                         & TCGA-A2-A04V-D2673                   & 41160c56-81c5-42b7-83b8-cc0018073cac & 1452                                 &   NA                                 & Hormone Therapy                      & EXEMESTANE                           & NO                                   &                                      & 2010                                \\\\\n",
       "\t10 & TCGA-A2-A04V                         & TCGA-A2-A04V-D2672                   & c1e949b8-77cf-4bbb-b6f2-a74ede20457a &  107                                 & 1258                                 & Hormone Therapy                      & TAMOXIFEN                            & NO                                   &                                      & 2010                                \\\\\n",
       "\t11 & TCGA-A2-A04V                         & TCGA-A2-A04V-D2768                   & 4de0e435-5d29-44a0-a877-986681b96a3b & 1269                                 & 1439                                 & Hormone Therapy                      & LETROZOLE                            & NO                                   &                                      & 2010                                \\\\\n",
       "\t13 & TCGA-A2-A04Y                         & TCGA-A2-A04Y-D2741                   & d6d00a85-5494-4f08-8711-63169285c197 &  273                                 &  371                                 & Hormone Therapy                      & Tamoxifen                            & NO                                   &                                      & 2010                                \\\\\n",
       "\t14 & TCGA-A2-A04Y                         & TCGA-A2-A04Y-D2746                   & 227dd2b0-0b22-46bd-95d4-20775978c5dd &  372                                 &   NA                                 & Hormone Therapy                      & Arimidex                             & YES                                  &                                      & 2010                                \\\\\n",
       "\t16 & TCGA-A2-A0CL                         & TCGA-A2-A0CL-D7415                   & 9ded5455-e05f-4b38-b10a-0accda9fdabb &  505                                 &   NA                                 & Hormone Therapy                      & Arimidex                             & YES                                  &                                      & 2011                                \\\\\n",
       "\t17 & TCGA-A2-A0CL                         & TCGA-A2-A0CL-D7412                   & c002a4ce-ae2a-4c04-9941-a4fa99d93666 &  269                                 &  504                                 & Hormone Therapy                      & Tamoxifen                            & NO                                   &                                      & 2011                                \\\\\n",
       "\t18 & TCGA-A2-A0CO                         & TCGA-A2-A0CO-D33663                  & 80B1C97B-8D60-43C3-BDCE-AC0B58A11419 &   84                                 &  512                                 & Hormone Therapy                      & Tamoxifen                            & NO                                   & Complete Response                    & 2012                                \\\\\n",
       "\t19 & TCGA-A2-A0CO                         & TCGA-A2-A0CO-D33664                  & 68699598-6953-48BB-BD8B-76AC54625819 &  513                                 &   NA                                 & Hormone Therapy                      & Arimidex                             &                                      &                                      & 2012                                \\\\\n",
       "\t22 & TCGA-A2-A0CR                         & TCGA-A2-A0CR-D32693                  & 15734CC3-5FE8-44C0-8E0B-651B026DFC80 &  224                                 &  300                                 & Hormone Therapy                      & Tamoxifen                            & NO                                   & Complete Response                    & 2012                                \\\\\n",
       "\t23 & TCGA-A2-A0CR                         & TCGA-A2-A0CR-D32695                  & 4B109ECE-53BB-4544-A269-3DBBEFFDF432 &  315                                 &   NA                                 & Hormone Therapy                      & Anastrazole                          & YES                                  &                                      & 2012                                \\\\\n",
       "\t25 & TCGA-A2-A0CT                         & TCGA-A2-A0CT-D1976                   & fe69a660-e936-4a3f-8e5d-8cbfbb6dfeb4 &  559                                 & 1537                                 & Hormone Therapy                      & Tamoxifen                            & NO                                   &                                      & 2010                                \\\\\n",
       "\t26 & TCGA-A2-A0CT                         & TCGA-A2-A0CT-D1975                   & b6f4f507-e6ee-45bc-b50b-d9a2bb53bcaa &  160                                 &  433                                 & Hormone Therapy                      & Arimidex                             & NO                                   &                                      & 2010                                \\\\\n",
       "\t30 & TCGA-A2-A0CX                         & TCGA-A2-A0CX-D1967                   & 7eae7122-ba45-4ed8-86c7-0b0b15f5a9e8 &  686                                 &   NA                                 & Hormone Therapy                      & Letrozole                            & YES                                  &                                      & 2010                                \\\\\n",
       "\t31 & TCGA-A2-A0CX                         & TCGA-A2-A0CX-D1968                   & aa0d58a3-07f6-4683-b664-53d0eec5ffcf & 1184                                 & 1273                                 & Hormone Therapy                      & Tamoxifen                            & NO                                   &                                      & 2010                                \\\\\n",
       "\t32 & TCGA-A2-A0CY                         & TCGA-A2-A0CY-D2042                   & f939ece6-83f5-47de-903f-49a909ca253c & 1261                                 &   NA                                 & Hormone Therapy                      & Letrozole                            & YES                                  &                                      & 2010                                \\\\\n",
       "\t33 & TCGA-A2-A0CY                         & TCGA-A2-A0CY-D2041                   & d5d250f1-15c3-4766-94ed-40ac4f8f7cc0 & 1071                                 & 1162                                 & Hormone Therapy                      & Exemestane                           & NO                                   &                                      & 2010                                \\\\\n",
       "\t34 & TCGA-A2-A0CY                         & TCGA-A2-A0CY-D2038                   & 3dd69ff8-546a-4ac3-bc5b-256b74c682b9 &  197                                 &  357                                 & Hormone Therapy                      & Tamoxifen                            & NO                                   &                                      & 2010                                \\\\\n",
       "\t35 & TCGA-A2-A0CY                         & TCGA-A2-A0CY-D2039                   & 447a07c8-be8d-45d3-8404-b6d76b16b0bc &  455                                 &  507                                 & Hormone Therapy                      & Anastrozole                          & NO                                   &                                      & 2010                                \\\\\n",
       "\t36 & TCGA-A2-A0CY                         & TCGA-A2-A0CY-D2040                   & bad877aa-b726-4dc3-ab46-c4c508f5b58c &  634                                 &  665                                 & Hormone Therapy                      & Anastrozole                          & NO                                   &                                      & 2010                                \\\\\n",
       "\t41 & TCGA-A2-A0EN                         & TCGA-A2-A0EN-D2544                   & b71d60f7-798d-44c2-8d89-f63514233b1e & 1985                                 &   NA                                 & Hormone Therapy                      & Anastrozole                          & YES                                  &                                      & 2010                                \\\\\n",
       "\t42 & TCGA-A2-A0EN                         & TCGA-A2-A0EN-D2543                   & 4d55dd20-b5b7-40c3-8015-41a32a417673 &   64                                 & 1926                                 & Hormone Therapy                      & Tamoxifen                            & NO                                   &                                      & 2010                                \\\\\n",
       "\t43 & TCGA-A2-A0EO                         & TCGA-A2-A0EO-D1994                   & 5d5957c7-956b-45b3-981b-3030c7aac47c &  876                                 &   NA                                 & Hormone Therapy                      & Exemestane                           & YES                                  &                                      & 2010                                \\\\\n",
       "\t44 & TCGA-A2-A0EO                         & TCGA-A2-A0EO-D1993                   & 2292be73-49ad-45dd-a4af-0073e6cdf61e &  158                                 &  876                                 & Hormone Therapy                      & Tamoxifen                            & NO                                   &                                      & 2010                                \\\\\n",
       "\t45 & TCGA-A2-A0EP                         & TCGA-A2-A0EP-D34480                  & FFB9FA64-1267-4A11-8416-9F07A311CF55 &  222                                 & 1781                                 & Hormone Therapy                      & Arimidex                             & NO                                   & Complete Response                    & 2012                                \\\\\n",
       "\t46 & TCGA-A2-A0EP                         & TCGA-A2-A0EP-D34482                  & 0E2A204E-622E-437C-ADF2-E2DEA2F32B38 & 1959                                 & 2461                                 & Hormone Therapy                      & Arimidex                             & NO                                   & Complete Response                    & 2012                                \\\\\n",
       "\t48 & TCGA-A2-A0ES                         & TCGA-A2-A0ES-D6684                   & 08fef96e-bb08-4bf3-ad02-6018935a8f47 &  203                                 &  458                                 & Hormone Therapy                      & Anastrozole                          & NO                                   &                                      & 2011                                \\\\\n",
       "\t49 & TCGA-A2-A0ES                         & TCGA-A2-A0ES-D6685                   & 410e1f53-15e7-4ae7-9d01-2fee31ecd2f6 &  459                                 &   NA                                 & Hormone Therapy                      & Exemestane                           & YES                                  &                                      & 2011                                \\\\\n",
       "\t⋮ & ⋮ & ⋮ & ⋮ & ⋮ & ⋮ & ⋮ & ⋮ & ⋮ & ⋮ & ⋮\\\\\n",
       "\t586 & TCGA-GM-A2D9                         & TCGA-GM-A2D9-D47254                  & 64CF04C2-4790-4726-A0F7-9B4EF1148E1D &  559                                 & 1265                                 & Hormone Therapy                      & Arimidex                             & NO                                   & Stable Disease                       & 2013                                \\\\\n",
       "\t587 & TCGA-GM-A2D9                         & TCGA-GM-A2D9-D47255                  & 3BAECB5B-8DFC-452B-93BF-ED08CA82E4EC & 1266                                 & 1354                                 & Hormone Therapy                      & Tamoxifen                            & NO                                   & Stable Disease                       & 2013                                \\\\\n",
       "\t588 & TCGA-GM-A2DA                         & TCGA-GM-A2DA-D47219                  & FDBDD508-2625-4646-B410-82178F238FB5 & 3061                                 & 3131                                 & Hormone Therapy                      & Tamoxifen                            & NO                                   & Clinical Progressive Disease         & 2013                                \\\\\n",
       "\t589 & TCGA-GM-A2DA                         & TCGA-GM-A2DA-D47220                  & A9D3732A-4B83-435F-AFE7-98604C52FEAF & 3061                                 & 3131                                 & Hormone Therapy                      & Aromasin                             & NO                                   & Clinical Progressive Disease         & 2013                                \\\\\n",
       "\t590 & TCGA-GM-A2DA                         & TCGA-GM-A2DA-D47222                  & 34A11D07-D395-44A8-B0FA-B6785948D3FE & 3434                                 & 4307                                 & Hormone Therapy                      & Letrozole                            & NO                                   & Clinical Progressive Disease         & 2013                                \\\\\n",
       "\t591 & TCGA-GM-A2DA                         & TCGA-GM-A2DA-D47223                  & B90F3A89-5CDC-406E-B9B8-C850C6C5DD76 & 4347                                 & 4435                                 & Hormone Therapy                      & Megace                               & NO                                   & Clinical Progressive Disease         & 2013                                \\\\\n",
       "\t592 & TCGA-GM-A2DA                         & TCGA-GM-A2DA-D47229                  & E41E7973-FE0F-4D97-A8DB-69BFE8B0D08C & 4721                                 & 5015                                 & Hormone Therapy                      & Aromasin                             & NO                                   & Stable Disease                       & 2013                                \\\\\n",
       "\t593 & TCGA-GM-A2DA                         & TCGA-GM-A2DA-D47236                  & 28B70E98-675A-4649-A171-1CCC398CFB9F & 5909                                 & 6029                                 & Hormone Therapy                      & Tamoxifen                            & NO                                   & Clinical Progressive Disease         & 2013                                \\\\\n",
       "\t594 & TCGA-GM-A2DC                         & TCGA-GM-A2DC-D47068                  & 9A846B76-30FF-41CC-854D-8BFDBE8D172E &  294                                 &  341                                 & Hormone Therapy                      & Letrozole                            & NO                                   & Complete Response                    & 2013                                \\\\\n",
       "\t595 & TCGA-GM-A2DC                         & TCGA-GM-A2DC-D47069                  & 01F8744B-71EA-4966-BDDF-8D9D5CFD632C &  355                                 &  383                                 & Hormone Therapy                      & Arimidex                             & NO                                   & Complete Response                    & 2013                                \\\\\n",
       "\t597 & TCGA-GM-A2DL                         & TCGA-GM-A2DL-D47100                  & 64A06228-D44D-48D4-920A-2EF984608DE9 &  158                                 & 1989                                 & Hormone Therapy                      & Tamoxifen                            & NO                                   & Complete Response                    & 2013                                \\\\\n",
       "\t598 & TCGA-GM-A2DL                         & TCGA-GM-A2DL-D47102                  & C22DF452-BBBA-49F3-ACF1-E448627C6D68 & 1990                                 &   NA                                 & Hormone Therapy                      & Arimidex                             & YES                                  &                                      & 2013                                \\\\\n",
       "\t604 & TCGA-GM-A3XG                         & TCGA-GM-A3XG-D41971                  & D44E9F6A-E7B4-4C08-BF20-B6A744CD1C78 &  434                                 &  473                                 & Hormone Therapy                      & Tamoxifen                            & NO                                   & Complete Response                    & 2013                                \\\\\n",
       "\t605 & TCGA-GM-A3XG                         & TCGA-GM-A3XG-D41972                  & 1E050AB5-3F95-403F-9CD2-15E62549A9B0 &  813                                 &  843                                 & Hormone Therapy                      & Arimidex                             & NO                                   & Complete Response                    & 2013                                \\\\\n",
       "\t606 & TCGA-GM-A3XN                         & TCGA-GM-A3XN-D41968                  & 5A81151E-DC13-4510-B131-29DB3185B815 &  416                                 & 1591                                 & Hormone Therapy                      & Tamoxifen                            & NO                                   & Complete Response                    & 2013                                \\\\\n",
       "\t607 & TCGA-GM-A3XN                         & TCGA-GM-A3XN-D41969                  & F9D001E6-39C1-43A9-B5B7-5A833D67EBE7 & 1592                                 &   NA                                 & Hormone Therapy                      & Arimidex                             & YES                                  &                                      & 2013                                \\\\\n",
       "\t609 & TCGA-GM-A5PX                         & TCGA-GM-A5PX-D42160                  & D2BD571D-6658-48CB-88FE-77DAC9870F9C &  112                                 &  236                                 & Hormone Therapy                      & Arimidex                             & NO                                   & Complete Response                    & 2013                                \\\\\n",
       "\t610 & TCGA-GM-A5PX                         & TCGA-GM-A5PX-D42161                  & 761DB280-F416-45BF-B1C0-88A1E9EFA3EF &  265                                 &  339                                 & Hormone Therapy                      & Aromasin                             & NO                                   & Complete Response                    & 2013                                \\\\\n",
       "\t611 & TCGA-GM-A5PX                         & TCGA-GM-A5PX-D42163                  & 2713B9D0-0CB9-4FD7-B75B-3ED4DEC296C4 &  340                                 &   NA                                 & Hormone Therapy                      & Tamoxifen                            & YES                                  &                                      & 2013                                \\\\\n",
       "\t619 & TCGA-LL-A6FP                         & TCGA-LL-A6FP-D47969                  & 3D373A52-0D38-443C-AAC5-0376FC840F09 &    0                                 &   NA                                 & Hormone Therapy                      & Arimidex                             & YES                                  &                                      & 2013                                \\\\\n",
       "\t620 & TCGA-LL-A6FP                         & TCGA-LL-A6FP-D47970                  & 1ED178CF-05EE-41AD-B1AC-37FA1DAE065A &    0                                 &    0                                 & Hormone Therapy                      & Tamoxifen                            & NO                                   &                                      & 2013                                \\\\\n",
       "\t627 & TCGA-S3-A6ZF                         & TCGA-S3-A6ZF-D63998                  & CEDA468F-784C-42EC-B0C6-8B42B8C5BEE1 &  191                                 &  278                                 & Hormone Therapy                      & LETROZOLE                            & NO                                   &                                      & 2014                                \\\\\n",
       "\t628 & TCGA-S3-A6ZF                         & TCGA-S3-A6ZF-D64005                  & 1F99661D-577D-4D3C-BFF3-6436D7DA50A3 &  278                                 &   NA                                 & Hormone Therapy                      & ANASTROZOLE                          & YES                                  &                                      & 2014                                \\\\\n",
       "\t629 & TCGA-S3-A6ZG                         & TCGA-S3-A6ZG-D51090                  & 592DBC73-6BBC-49B6-8C4D-DE2812D431D8 &  116                                 &  221                                 & Hormone Therapy                      & Taxol                                & NO                                   & Complete Response                    & 2013                                \\\\\n",
       "\t630 & TCGA-S3-A6ZG                         & TCGA-S3-A6ZG-D63649                  & 9E65EFA0-05D8-47EB-A1E0-6E44A31DBA3D &  256                                 &   NA                                 & Hormone Therapy                      & Anastrozole                          & YES                                  &                                      & 2014                                \\\\\n",
       "\t632 & TCGA-S3-AA11                         & TCGA-S3-AA11-D58358                  & 0469F246-0A00-46F4-ACA0-0B25A14C6D08 &   53                                 &  169                                 & Hormone Therapy                      & LETROZOLE                            & NO                                   & Complete Response                    & 2014                                \\\\\n",
       "\t633 & TCGA-S3-AA11                         & TCGA-S3-AA11-D58359                  & 88D345D0-A5BB-4598-983F-ABA5E9ADE52E &  169                                 &  309                                 & Hormone Therapy                      & EXEMESTANE                           & NO                                   & Complete Response                    & 2014                                \\\\\n",
       "\t634 & TCGA-S3-AA11                         & TCGA-S3-AA11-D67566                  & FF58F7AA-3F5B-42A3-B786-9CD8F5B3998B &  309                                 &   NA                                 & Hormone Therapy                      & ANASTROZOLE                          & YES                                  & Complete Response                    & 2014                                \\\\\n",
       "\t639 & TCGA-WT-AB41                         & TCGA-WT-AB41-D62422                  & F3CB280B-1BAF-4C0D-AC67-5A602FB8F3BF &  181                                 &  273                                 & Hormone Therapy                      & Arimidex                             & NO                                   & Complete Response                    & 2014                                \\\\\n",
       "\t640 & TCGA-WT-AB41                         & TCGA-WT-AB41-D62423                  & A0282F4E-3251-4690-9FC0-FC12FED22320 &  273                                 &   NA                                 & Hormone Therapy                      & Tamoxifen                            & YES                                  &                                      & 2014                                \\\\\n",
       "\\end{tabular}\n"
      ],
      "text/markdown": [
       "\n",
       "| <!--/--> | bcr_patient_barcode | bcr_drug_barcode | bcr_drug_uuid | days_to_drug_therapy_start | days_to_drug_therapy_end | therapy_types | drug_name | therapy_ongoing | measure_of_response | year_of_form_completion |\n",
       "|---|---|---|---|---|---|---|---|---|---|---|\n",
       "| 7 | TCGA-A2-A04R                         | TCGA-A2-A04R-D2556                   | 258814a0-8e67-4ac2-84ec-1353588f2f9d |  910                                 |   NA                                 | Hormone Therapy                      | Anastrozole                          | YES                                  |                                      | 2010                                 |\n",
       "| 8 | TCGA-A2-A04R                         | TCGA-A2-A04R-D2555                   | 59cf62c8-9052-43df-aefa-ea940996727a |  399                                 |  909                                 | Hormone Therapy                      | Tamoxifen                            | NO                                   |                                      | 2010                                 |\n",
       "| 9 | TCGA-A2-A04V                         | TCGA-A2-A04V-D2673                   | 41160c56-81c5-42b7-83b8-cc0018073cac | 1452                                 |   NA                                 | Hormone Therapy                      | EXEMESTANE                           | NO                                   |                                      | 2010                                 |\n",
       "| 10 | TCGA-A2-A04V                         | TCGA-A2-A04V-D2672                   | c1e949b8-77cf-4bbb-b6f2-a74ede20457a |  107                                 | 1258                                 | Hormone Therapy                      | TAMOXIFEN                            | NO                                   |                                      | 2010                                 |\n",
       "| 11 | TCGA-A2-A04V                         | TCGA-A2-A04V-D2768                   | 4de0e435-5d29-44a0-a877-986681b96a3b | 1269                                 | 1439                                 | Hormone Therapy                      | LETROZOLE                            | NO                                   |                                      | 2010                                 |\n",
       "| 13 | TCGA-A2-A04Y                         | TCGA-A2-A04Y-D2741                   | d6d00a85-5494-4f08-8711-63169285c197 |  273                                 |  371                                 | Hormone Therapy                      | Tamoxifen                            | NO                                   |                                      | 2010                                 |\n",
       "| 14 | TCGA-A2-A04Y                         | TCGA-A2-A04Y-D2746                   | 227dd2b0-0b22-46bd-95d4-20775978c5dd |  372                                 |   NA                                 | Hormone Therapy                      | Arimidex                             | YES                                  |                                      | 2010                                 |\n",
       "| 16 | TCGA-A2-A0CL                         | TCGA-A2-A0CL-D7415                   | 9ded5455-e05f-4b38-b10a-0accda9fdabb |  505                                 |   NA                                 | Hormone Therapy                      | Arimidex                             | YES                                  |                                      | 2011                                 |\n",
       "| 17 | TCGA-A2-A0CL                         | TCGA-A2-A0CL-D7412                   | c002a4ce-ae2a-4c04-9941-a4fa99d93666 |  269                                 |  504                                 | Hormone Therapy                      | Tamoxifen                            | NO                                   |                                      | 2011                                 |\n",
       "| 18 | TCGA-A2-A0CO                         | TCGA-A2-A0CO-D33663                  | 80B1C97B-8D60-43C3-BDCE-AC0B58A11419 |   84                                 |  512                                 | Hormone Therapy                      | Tamoxifen                            | NO                                   | Complete Response                    | 2012                                 |\n",
       "| 19 | TCGA-A2-A0CO                         | TCGA-A2-A0CO-D33664                  | 68699598-6953-48BB-BD8B-76AC54625819 |  513                                 |   NA                                 | Hormone Therapy                      | Arimidex                             |                                      |                                      | 2012                                 |\n",
       "| 22 | TCGA-A2-A0CR                         | TCGA-A2-A0CR-D32693                  | 15734CC3-5FE8-44C0-8E0B-651B026DFC80 |  224                                 |  300                                 | Hormone Therapy                      | Tamoxifen                            | NO                                   | Complete Response                    | 2012                                 |\n",
       "| 23 | TCGA-A2-A0CR                         | TCGA-A2-A0CR-D32695                  | 4B109ECE-53BB-4544-A269-3DBBEFFDF432 |  315                                 |   NA                                 | Hormone Therapy                      | Anastrazole                          | YES                                  |                                      | 2012                                 |\n",
       "| 25 | TCGA-A2-A0CT                         | TCGA-A2-A0CT-D1976                   | fe69a660-e936-4a3f-8e5d-8cbfbb6dfeb4 |  559                                 | 1537                                 | Hormone Therapy                      | Tamoxifen                            | NO                                   |                                      | 2010                                 |\n",
       "| 26 | TCGA-A2-A0CT                         | TCGA-A2-A0CT-D1975                   | b6f4f507-e6ee-45bc-b50b-d9a2bb53bcaa |  160                                 |  433                                 | Hormone Therapy                      | Arimidex                             | NO                                   |                                      | 2010                                 |\n",
       "| 30 | TCGA-A2-A0CX                         | TCGA-A2-A0CX-D1967                   | 7eae7122-ba45-4ed8-86c7-0b0b15f5a9e8 |  686                                 |   NA                                 | Hormone Therapy                      | Letrozole                            | YES                                  |                                      | 2010                                 |\n",
       "| 31 | TCGA-A2-A0CX                         | TCGA-A2-A0CX-D1968                   | aa0d58a3-07f6-4683-b664-53d0eec5ffcf | 1184                                 | 1273                                 | Hormone Therapy                      | Tamoxifen                            | NO                                   |                                      | 2010                                 |\n",
       "| 32 | TCGA-A2-A0CY                         | TCGA-A2-A0CY-D2042                   | f939ece6-83f5-47de-903f-49a909ca253c | 1261                                 |   NA                                 | Hormone Therapy                      | Letrozole                            | YES                                  |                                      | 2010                                 |\n",
       "| 33 | TCGA-A2-A0CY                         | TCGA-A2-A0CY-D2041                   | d5d250f1-15c3-4766-94ed-40ac4f8f7cc0 | 1071                                 | 1162                                 | Hormone Therapy                      | Exemestane                           | NO                                   |                                      | 2010                                 |\n",
       "| 34 | TCGA-A2-A0CY                         | TCGA-A2-A0CY-D2038                   | 3dd69ff8-546a-4ac3-bc5b-256b74c682b9 |  197                                 |  357                                 | Hormone Therapy                      | Tamoxifen                            | NO                                   |                                      | 2010                                 |\n",
       "| 35 | TCGA-A2-A0CY                         | TCGA-A2-A0CY-D2039                   | 447a07c8-be8d-45d3-8404-b6d76b16b0bc |  455                                 |  507                                 | Hormone Therapy                      | Anastrozole                          | NO                                   |                                      | 2010                                 |\n",
       "| 36 | TCGA-A2-A0CY                         | TCGA-A2-A0CY-D2040                   | bad877aa-b726-4dc3-ab46-c4c508f5b58c |  634                                 |  665                                 | Hormone Therapy                      | Anastrozole                          | NO                                   |                                      | 2010                                 |\n",
       "| 41 | TCGA-A2-A0EN                         | TCGA-A2-A0EN-D2544                   | b71d60f7-798d-44c2-8d89-f63514233b1e | 1985                                 |   NA                                 | Hormone Therapy                      | Anastrozole                          | YES                                  |                                      | 2010                                 |\n",
       "| 42 | TCGA-A2-A0EN                         | TCGA-A2-A0EN-D2543                   | 4d55dd20-b5b7-40c3-8015-41a32a417673 |   64                                 | 1926                                 | Hormone Therapy                      | Tamoxifen                            | NO                                   |                                      | 2010                                 |\n",
       "| 43 | TCGA-A2-A0EO                         | TCGA-A2-A0EO-D1994                   | 5d5957c7-956b-45b3-981b-3030c7aac47c |  876                                 |   NA                                 | Hormone Therapy                      | Exemestane                           | YES                                  |                                      | 2010                                 |\n",
       "| 44 | TCGA-A2-A0EO                         | TCGA-A2-A0EO-D1993                   | 2292be73-49ad-45dd-a4af-0073e6cdf61e |  158                                 |  876                                 | Hormone Therapy                      | Tamoxifen                            | NO                                   |                                      | 2010                                 |\n",
       "| 45 | TCGA-A2-A0EP                         | TCGA-A2-A0EP-D34480                  | FFB9FA64-1267-4A11-8416-9F07A311CF55 |  222                                 | 1781                                 | Hormone Therapy                      | Arimidex                             | NO                                   | Complete Response                    | 2012                                 |\n",
       "| 46 | TCGA-A2-A0EP                         | TCGA-A2-A0EP-D34482                  | 0E2A204E-622E-437C-ADF2-E2DEA2F32B38 | 1959                                 | 2461                                 | Hormone Therapy                      | Arimidex                             | NO                                   | Complete Response                    | 2012                                 |\n",
       "| 48 | TCGA-A2-A0ES                         | TCGA-A2-A0ES-D6684                   | 08fef96e-bb08-4bf3-ad02-6018935a8f47 |  203                                 |  458                                 | Hormone Therapy                      | Anastrozole                          | NO                                   |                                      | 2011                                 |\n",
       "| 49 | TCGA-A2-A0ES                         | TCGA-A2-A0ES-D6685                   | 410e1f53-15e7-4ae7-9d01-2fee31ecd2f6 |  459                                 |   NA                                 | Hormone Therapy                      | Exemestane                           | YES                                  |                                      | 2011                                 |\n",
       "| ⋮ | ⋮ | ⋮ | ⋮ | ⋮ | ⋮ | ⋮ | ⋮ | ⋮ | ⋮ | ⋮ |\n",
       "| 586 | TCGA-GM-A2D9                         | TCGA-GM-A2D9-D47254                  | 64CF04C2-4790-4726-A0F7-9B4EF1148E1D |  559                                 | 1265                                 | Hormone Therapy                      | Arimidex                             | NO                                   | Stable Disease                       | 2013                                 |\n",
       "| 587 | TCGA-GM-A2D9                         | TCGA-GM-A2D9-D47255                  | 3BAECB5B-8DFC-452B-93BF-ED08CA82E4EC | 1266                                 | 1354                                 | Hormone Therapy                      | Tamoxifen                            | NO                                   | Stable Disease                       | 2013                                 |\n",
       "| 588 | TCGA-GM-A2DA                         | TCGA-GM-A2DA-D47219                  | FDBDD508-2625-4646-B410-82178F238FB5 | 3061                                 | 3131                                 | Hormone Therapy                      | Tamoxifen                            | NO                                   | Clinical Progressive Disease         | 2013                                 |\n",
       "| 589 | TCGA-GM-A2DA                         | TCGA-GM-A2DA-D47220                  | A9D3732A-4B83-435F-AFE7-98604C52FEAF | 3061                                 | 3131                                 | Hormone Therapy                      | Aromasin                             | NO                                   | Clinical Progressive Disease         | 2013                                 |\n",
       "| 590 | TCGA-GM-A2DA                         | TCGA-GM-A2DA-D47222                  | 34A11D07-D395-44A8-B0FA-B6785948D3FE | 3434                                 | 4307                                 | Hormone Therapy                      | Letrozole                            | NO                                   | Clinical Progressive Disease         | 2013                                 |\n",
       "| 591 | TCGA-GM-A2DA                         | TCGA-GM-A2DA-D47223                  | B90F3A89-5CDC-406E-B9B8-C850C6C5DD76 | 4347                                 | 4435                                 | Hormone Therapy                      | Megace                               | NO                                   | Clinical Progressive Disease         | 2013                                 |\n",
       "| 592 | TCGA-GM-A2DA                         | TCGA-GM-A2DA-D47229                  | E41E7973-FE0F-4D97-A8DB-69BFE8B0D08C | 4721                                 | 5015                                 | Hormone Therapy                      | Aromasin                             | NO                                   | Stable Disease                       | 2013                                 |\n",
       "| 593 | TCGA-GM-A2DA                         | TCGA-GM-A2DA-D47236                  | 28B70E98-675A-4649-A171-1CCC398CFB9F | 5909                                 | 6029                                 | Hormone Therapy                      | Tamoxifen                            | NO                                   | Clinical Progressive Disease         | 2013                                 |\n",
       "| 594 | TCGA-GM-A2DC                         | TCGA-GM-A2DC-D47068                  | 9A846B76-30FF-41CC-854D-8BFDBE8D172E |  294                                 |  341                                 | Hormone Therapy                      | Letrozole                            | NO                                   | Complete Response                    | 2013                                 |\n",
       "| 595 | TCGA-GM-A2DC                         | TCGA-GM-A2DC-D47069                  | 01F8744B-71EA-4966-BDDF-8D9D5CFD632C |  355                                 |  383                                 | Hormone Therapy                      | Arimidex                             | NO                                   | Complete Response                    | 2013                                 |\n",
       "| 597 | TCGA-GM-A2DL                         | TCGA-GM-A2DL-D47100                  | 64A06228-D44D-48D4-920A-2EF984608DE9 |  158                                 | 1989                                 | Hormone Therapy                      | Tamoxifen                            | NO                                   | Complete Response                    | 2013                                 |\n",
       "| 598 | TCGA-GM-A2DL                         | TCGA-GM-A2DL-D47102                  | C22DF452-BBBA-49F3-ACF1-E448627C6D68 | 1990                                 |   NA                                 | Hormone Therapy                      | Arimidex                             | YES                                  |                                      | 2013                                 |\n",
       "| 604 | TCGA-GM-A3XG                         | TCGA-GM-A3XG-D41971                  | D44E9F6A-E7B4-4C08-BF20-B6A744CD1C78 |  434                                 |  473                                 | Hormone Therapy                      | Tamoxifen                            | NO                                   | Complete Response                    | 2013                                 |\n",
       "| 605 | TCGA-GM-A3XG                         | TCGA-GM-A3XG-D41972                  | 1E050AB5-3F95-403F-9CD2-15E62549A9B0 |  813                                 |  843                                 | Hormone Therapy                      | Arimidex                             | NO                                   | Complete Response                    | 2013                                 |\n",
       "| 606 | TCGA-GM-A3XN                         | TCGA-GM-A3XN-D41968                  | 5A81151E-DC13-4510-B131-29DB3185B815 |  416                                 | 1591                                 | Hormone Therapy                      | Tamoxifen                            | NO                                   | Complete Response                    | 2013                                 |\n",
       "| 607 | TCGA-GM-A3XN                         | TCGA-GM-A3XN-D41969                  | F9D001E6-39C1-43A9-B5B7-5A833D67EBE7 | 1592                                 |   NA                                 | Hormone Therapy                      | Arimidex                             | YES                                  |                                      | 2013                                 |\n",
       "| 609 | TCGA-GM-A5PX                         | TCGA-GM-A5PX-D42160                  | D2BD571D-6658-48CB-88FE-77DAC9870F9C |  112                                 |  236                                 | Hormone Therapy                      | Arimidex                             | NO                                   | Complete Response                    | 2013                                 |\n",
       "| 610 | TCGA-GM-A5PX                         | TCGA-GM-A5PX-D42161                  | 761DB280-F416-45BF-B1C0-88A1E9EFA3EF |  265                                 |  339                                 | Hormone Therapy                      | Aromasin                             | NO                                   | Complete Response                    | 2013                                 |\n",
       "| 611 | TCGA-GM-A5PX                         | TCGA-GM-A5PX-D42163                  | 2713B9D0-0CB9-4FD7-B75B-3ED4DEC296C4 |  340                                 |   NA                                 | Hormone Therapy                      | Tamoxifen                            | YES                                  |                                      | 2013                                 |\n",
       "| 619 | TCGA-LL-A6FP                         | TCGA-LL-A6FP-D47969                  | 3D373A52-0D38-443C-AAC5-0376FC840F09 |    0                                 |   NA                                 | Hormone Therapy                      | Arimidex                             | YES                                  |                                      | 2013                                 |\n",
       "| 620 | TCGA-LL-A6FP                         | TCGA-LL-A6FP-D47970                  | 1ED178CF-05EE-41AD-B1AC-37FA1DAE065A |    0                                 |    0                                 | Hormone Therapy                      | Tamoxifen                            | NO                                   |                                      | 2013                                 |\n",
       "| 627 | TCGA-S3-A6ZF                         | TCGA-S3-A6ZF-D63998                  | CEDA468F-784C-42EC-B0C6-8B42B8C5BEE1 |  191                                 |  278                                 | Hormone Therapy                      | LETROZOLE                            | NO                                   |                                      | 2014                                 |\n",
       "| 628 | TCGA-S3-A6ZF                         | TCGA-S3-A6ZF-D64005                  | 1F99661D-577D-4D3C-BFF3-6436D7DA50A3 |  278                                 |   NA                                 | Hormone Therapy                      | ANASTROZOLE                          | YES                                  |                                      | 2014                                 |\n",
       "| 629 | TCGA-S3-A6ZG                         | TCGA-S3-A6ZG-D51090                  | 592DBC73-6BBC-49B6-8C4D-DE2812D431D8 |  116                                 |  221                                 | Hormone Therapy                      | Taxol                                | NO                                   | Complete Response                    | 2013                                 |\n",
       "| 630 | TCGA-S3-A6ZG                         | TCGA-S3-A6ZG-D63649                  | 9E65EFA0-05D8-47EB-A1E0-6E44A31DBA3D |  256                                 |   NA                                 | Hormone Therapy                      | Anastrozole                          | YES                                  |                                      | 2014                                 |\n",
       "| 632 | TCGA-S3-AA11                         | TCGA-S3-AA11-D58358                  | 0469F246-0A00-46F4-ACA0-0B25A14C6D08 |   53                                 |  169                                 | Hormone Therapy                      | LETROZOLE                            | NO                                   | Complete Response                    | 2014                                 |\n",
       "| 633 | TCGA-S3-AA11                         | TCGA-S3-AA11-D58359                  | 88D345D0-A5BB-4598-983F-ABA5E9ADE52E |  169                                 |  309                                 | Hormone Therapy                      | EXEMESTANE                           | NO                                   | Complete Response                    | 2014                                 |\n",
       "| 634 | TCGA-S3-AA11                         | TCGA-S3-AA11-D67566                  | FF58F7AA-3F5B-42A3-B786-9CD8F5B3998B |  309                                 |   NA                                 | Hormone Therapy                      | ANASTROZOLE                          | YES                                  | Complete Response                    | 2014                                 |\n",
       "| 639 | TCGA-WT-AB41                         | TCGA-WT-AB41-D62422                  | F3CB280B-1BAF-4C0D-AC67-5A602FB8F3BF |  181                                 |  273                                 | Hormone Therapy                      | Arimidex                             | NO                                   | Complete Response                    | 2014                                 |\n",
       "| 640 | TCGA-WT-AB41                         | TCGA-WT-AB41-D62423                  | A0282F4E-3251-4690-9FC0-FC12FED22320 |  273                                 |   NA                                 | Hormone Therapy                      | Tamoxifen                            | YES                                  |                                      | 2014                                 |\n",
       "\n"
      ],
      "text/plain": [
       "    bcr_patient_barcode bcr_drug_barcode   \n",
       "7   TCGA-A2-A04R        TCGA-A2-A04R-D2556 \n",
       "8   TCGA-A2-A04R        TCGA-A2-A04R-D2555 \n",
       "9   TCGA-A2-A04V        TCGA-A2-A04V-D2673 \n",
       "10  TCGA-A2-A04V        TCGA-A2-A04V-D2672 \n",
       "11  TCGA-A2-A04V        TCGA-A2-A04V-D2768 \n",
       "13  TCGA-A2-A04Y        TCGA-A2-A04Y-D2741 \n",
       "14  TCGA-A2-A04Y        TCGA-A2-A04Y-D2746 \n",
       "16  TCGA-A2-A0CL        TCGA-A2-A0CL-D7415 \n",
       "17  TCGA-A2-A0CL        TCGA-A2-A0CL-D7412 \n",
       "18  TCGA-A2-A0CO        TCGA-A2-A0CO-D33663\n",
       "19  TCGA-A2-A0CO        TCGA-A2-A0CO-D33664\n",
       "22  TCGA-A2-A0CR        TCGA-A2-A0CR-D32693\n",
       "23  TCGA-A2-A0CR        TCGA-A2-A0CR-D32695\n",
       "25  TCGA-A2-A0CT        TCGA-A2-A0CT-D1976 \n",
       "26  TCGA-A2-A0CT        TCGA-A2-A0CT-D1975 \n",
       "30  TCGA-A2-A0CX        TCGA-A2-A0CX-D1967 \n",
       "31  TCGA-A2-A0CX        TCGA-A2-A0CX-D1968 \n",
       "32  TCGA-A2-A0CY        TCGA-A2-A0CY-D2042 \n",
       "33  TCGA-A2-A0CY        TCGA-A2-A0CY-D2041 \n",
       "34  TCGA-A2-A0CY        TCGA-A2-A0CY-D2038 \n",
       "35  TCGA-A2-A0CY        TCGA-A2-A0CY-D2039 \n",
       "36  TCGA-A2-A0CY        TCGA-A2-A0CY-D2040 \n",
       "41  TCGA-A2-A0EN        TCGA-A2-A0EN-D2544 \n",
       "42  TCGA-A2-A0EN        TCGA-A2-A0EN-D2543 \n",
       "43  TCGA-A2-A0EO        TCGA-A2-A0EO-D1994 \n",
       "44  TCGA-A2-A0EO        TCGA-A2-A0EO-D1993 \n",
       "45  TCGA-A2-A0EP        TCGA-A2-A0EP-D34480\n",
       "46  TCGA-A2-A0EP        TCGA-A2-A0EP-D34482\n",
       "48  TCGA-A2-A0ES        TCGA-A2-A0ES-D6684 \n",
       "49  TCGA-A2-A0ES        TCGA-A2-A0ES-D6685 \n",
       "⋮   ⋮                   ⋮                  \n",
       "586 TCGA-GM-A2D9        TCGA-GM-A2D9-D47254\n",
       "587 TCGA-GM-A2D9        TCGA-GM-A2D9-D47255\n",
       "588 TCGA-GM-A2DA        TCGA-GM-A2DA-D47219\n",
       "589 TCGA-GM-A2DA        TCGA-GM-A2DA-D47220\n",
       "590 TCGA-GM-A2DA        TCGA-GM-A2DA-D47222\n",
       "591 TCGA-GM-A2DA        TCGA-GM-A2DA-D47223\n",
       "592 TCGA-GM-A2DA        TCGA-GM-A2DA-D47229\n",
       "593 TCGA-GM-A2DA        TCGA-GM-A2DA-D47236\n",
       "594 TCGA-GM-A2DC        TCGA-GM-A2DC-D47068\n",
       "595 TCGA-GM-A2DC        TCGA-GM-A2DC-D47069\n",
       "597 TCGA-GM-A2DL        TCGA-GM-A2DL-D47100\n",
       "598 TCGA-GM-A2DL        TCGA-GM-A2DL-D47102\n",
       "604 TCGA-GM-A3XG        TCGA-GM-A3XG-D41971\n",
       "605 TCGA-GM-A3XG        TCGA-GM-A3XG-D41972\n",
       "606 TCGA-GM-A3XN        TCGA-GM-A3XN-D41968\n",
       "607 TCGA-GM-A3XN        TCGA-GM-A3XN-D41969\n",
       "609 TCGA-GM-A5PX        TCGA-GM-A5PX-D42160\n",
       "610 TCGA-GM-A5PX        TCGA-GM-A5PX-D42161\n",
       "611 TCGA-GM-A5PX        TCGA-GM-A5PX-D42163\n",
       "619 TCGA-LL-A6FP        TCGA-LL-A6FP-D47969\n",
       "620 TCGA-LL-A6FP        TCGA-LL-A6FP-D47970\n",
       "627 TCGA-S3-A6ZF        TCGA-S3-A6ZF-D63998\n",
       "628 TCGA-S3-A6ZF        TCGA-S3-A6ZF-D64005\n",
       "629 TCGA-S3-A6ZG        TCGA-S3-A6ZG-D51090\n",
       "630 TCGA-S3-A6ZG        TCGA-S3-A6ZG-D63649\n",
       "632 TCGA-S3-AA11        TCGA-S3-AA11-D58358\n",
       "633 TCGA-S3-AA11        TCGA-S3-AA11-D58359\n",
       "634 TCGA-S3-AA11        TCGA-S3-AA11-D67566\n",
       "639 TCGA-WT-AB41        TCGA-WT-AB41-D62422\n",
       "640 TCGA-WT-AB41        TCGA-WT-AB41-D62423\n",
       "    bcr_drug_uuid                        days_to_drug_therapy_start\n",
       "7   258814a0-8e67-4ac2-84ec-1353588f2f9d  910                      \n",
       "8   59cf62c8-9052-43df-aefa-ea940996727a  399                      \n",
       "9   41160c56-81c5-42b7-83b8-cc0018073cac 1452                      \n",
       "10  c1e949b8-77cf-4bbb-b6f2-a74ede20457a  107                      \n",
       "11  4de0e435-5d29-44a0-a877-986681b96a3b 1269                      \n",
       "13  d6d00a85-5494-4f08-8711-63169285c197  273                      \n",
       "14  227dd2b0-0b22-46bd-95d4-20775978c5dd  372                      \n",
       "16  9ded5455-e05f-4b38-b10a-0accda9fdabb  505                      \n",
       "17  c002a4ce-ae2a-4c04-9941-a4fa99d93666  269                      \n",
       "18  80B1C97B-8D60-43C3-BDCE-AC0B58A11419   84                      \n",
       "19  68699598-6953-48BB-BD8B-76AC54625819  513                      \n",
       "22  15734CC3-5FE8-44C0-8E0B-651B026DFC80  224                      \n",
       "23  4B109ECE-53BB-4544-A269-3DBBEFFDF432  315                      \n",
       "25  fe69a660-e936-4a3f-8e5d-8cbfbb6dfeb4  559                      \n",
       "26  b6f4f507-e6ee-45bc-b50b-d9a2bb53bcaa  160                      \n",
       "30  7eae7122-ba45-4ed8-86c7-0b0b15f5a9e8  686                      \n",
       "31  aa0d58a3-07f6-4683-b664-53d0eec5ffcf 1184                      \n",
       "32  f939ece6-83f5-47de-903f-49a909ca253c 1261                      \n",
       "33  d5d250f1-15c3-4766-94ed-40ac4f8f7cc0 1071                      \n",
       "34  3dd69ff8-546a-4ac3-bc5b-256b74c682b9  197                      \n",
       "35  447a07c8-be8d-45d3-8404-b6d76b16b0bc  455                      \n",
       "36  bad877aa-b726-4dc3-ab46-c4c508f5b58c  634                      \n",
       "41  b71d60f7-798d-44c2-8d89-f63514233b1e 1985                      \n",
       "42  4d55dd20-b5b7-40c3-8015-41a32a417673   64                      \n",
       "43  5d5957c7-956b-45b3-981b-3030c7aac47c  876                      \n",
       "44  2292be73-49ad-45dd-a4af-0073e6cdf61e  158                      \n",
       "45  FFB9FA64-1267-4A11-8416-9F07A311CF55  222                      \n",
       "46  0E2A204E-622E-437C-ADF2-E2DEA2F32B38 1959                      \n",
       "48  08fef96e-bb08-4bf3-ad02-6018935a8f47  203                      \n",
       "49  410e1f53-15e7-4ae7-9d01-2fee31ecd2f6  459                      \n",
       "⋮   ⋮                                    ⋮                         \n",
       "586 64CF04C2-4790-4726-A0F7-9B4EF1148E1D  559                      \n",
       "587 3BAECB5B-8DFC-452B-93BF-ED08CA82E4EC 1266                      \n",
       "588 FDBDD508-2625-4646-B410-82178F238FB5 3061                      \n",
       "589 A9D3732A-4B83-435F-AFE7-98604C52FEAF 3061                      \n",
       "590 34A11D07-D395-44A8-B0FA-B6785948D3FE 3434                      \n",
       "591 B90F3A89-5CDC-406E-B9B8-C850C6C5DD76 4347                      \n",
       "592 E41E7973-FE0F-4D97-A8DB-69BFE8B0D08C 4721                      \n",
       "593 28B70E98-675A-4649-A171-1CCC398CFB9F 5909                      \n",
       "594 9A846B76-30FF-41CC-854D-8BFDBE8D172E  294                      \n",
       "595 01F8744B-71EA-4966-BDDF-8D9D5CFD632C  355                      \n",
       "597 64A06228-D44D-48D4-920A-2EF984608DE9  158                      \n",
       "598 C22DF452-BBBA-49F3-ACF1-E448627C6D68 1990                      \n",
       "604 D44E9F6A-E7B4-4C08-BF20-B6A744CD1C78  434                      \n",
       "605 1E050AB5-3F95-403F-9CD2-15E62549A9B0  813                      \n",
       "606 5A81151E-DC13-4510-B131-29DB3185B815  416                      \n",
       "607 F9D001E6-39C1-43A9-B5B7-5A833D67EBE7 1592                      \n",
       "609 D2BD571D-6658-48CB-88FE-77DAC9870F9C  112                      \n",
       "610 761DB280-F416-45BF-B1C0-88A1E9EFA3EF  265                      \n",
       "611 2713B9D0-0CB9-4FD7-B75B-3ED4DEC296C4  340                      \n",
       "619 3D373A52-0D38-443C-AAC5-0376FC840F09    0                      \n",
       "620 1ED178CF-05EE-41AD-B1AC-37FA1DAE065A    0                      \n",
       "627 CEDA468F-784C-42EC-B0C6-8B42B8C5BEE1  191                      \n",
       "628 1F99661D-577D-4D3C-BFF3-6436D7DA50A3  278                      \n",
       "629 592DBC73-6BBC-49B6-8C4D-DE2812D431D8  116                      \n",
       "630 9E65EFA0-05D8-47EB-A1E0-6E44A31DBA3D  256                      \n",
       "632 0469F246-0A00-46F4-ACA0-0B25A14C6D08   53                      \n",
       "633 88D345D0-A5BB-4598-983F-ABA5E9ADE52E  169                      \n",
       "634 FF58F7AA-3F5B-42A3-B786-9CD8F5B3998B  309                      \n",
       "639 F3CB280B-1BAF-4C0D-AC67-5A602FB8F3BF  181                      \n",
       "640 A0282F4E-3251-4690-9FC0-FC12FED22320  273                      \n",
       "    days_to_drug_therapy_end therapy_types   drug_name   therapy_ongoing\n",
       "7     NA                     Hormone Therapy Anastrozole YES            \n",
       "8    909                     Hormone Therapy Tamoxifen   NO             \n",
       "9     NA                     Hormone Therapy EXEMESTANE  NO             \n",
       "10  1258                     Hormone Therapy TAMOXIFEN   NO             \n",
       "11  1439                     Hormone Therapy LETROZOLE   NO             \n",
       "13   371                     Hormone Therapy Tamoxifen   NO             \n",
       "14    NA                     Hormone Therapy Arimidex    YES            \n",
       "16    NA                     Hormone Therapy Arimidex    YES            \n",
       "17   504                     Hormone Therapy Tamoxifen   NO             \n",
       "18   512                     Hormone Therapy Tamoxifen   NO             \n",
       "19    NA                     Hormone Therapy Arimidex                   \n",
       "22   300                     Hormone Therapy Tamoxifen   NO             \n",
       "23    NA                     Hormone Therapy Anastrazole YES            \n",
       "25  1537                     Hormone Therapy Tamoxifen   NO             \n",
       "26   433                     Hormone Therapy Arimidex    NO             \n",
       "30    NA                     Hormone Therapy Letrozole   YES            \n",
       "31  1273                     Hormone Therapy Tamoxifen   NO             \n",
       "32    NA                     Hormone Therapy Letrozole   YES            \n",
       "33  1162                     Hormone Therapy Exemestane  NO             \n",
       "34   357                     Hormone Therapy Tamoxifen   NO             \n",
       "35   507                     Hormone Therapy Anastrozole NO             \n",
       "36   665                     Hormone Therapy Anastrozole NO             \n",
       "41    NA                     Hormone Therapy Anastrozole YES            \n",
       "42  1926                     Hormone Therapy Tamoxifen   NO             \n",
       "43    NA                     Hormone Therapy Exemestane  YES            \n",
       "44   876                     Hormone Therapy Tamoxifen   NO             \n",
       "45  1781                     Hormone Therapy Arimidex    NO             \n",
       "46  2461                     Hormone Therapy Arimidex    NO             \n",
       "48   458                     Hormone Therapy Anastrozole NO             \n",
       "49    NA                     Hormone Therapy Exemestane  YES            \n",
       "⋮   ⋮                        ⋮               ⋮           ⋮              \n",
       "586 1265                     Hormone Therapy Arimidex    NO             \n",
       "587 1354                     Hormone Therapy Tamoxifen   NO             \n",
       "588 3131                     Hormone Therapy Tamoxifen   NO             \n",
       "589 3131                     Hormone Therapy Aromasin    NO             \n",
       "590 4307                     Hormone Therapy Letrozole   NO             \n",
       "591 4435                     Hormone Therapy Megace      NO             \n",
       "592 5015                     Hormone Therapy Aromasin    NO             \n",
       "593 6029                     Hormone Therapy Tamoxifen   NO             \n",
       "594  341                     Hormone Therapy Letrozole   NO             \n",
       "595  383                     Hormone Therapy Arimidex    NO             \n",
       "597 1989                     Hormone Therapy Tamoxifen   NO             \n",
       "598   NA                     Hormone Therapy Arimidex    YES            \n",
       "604  473                     Hormone Therapy Tamoxifen   NO             \n",
       "605  843                     Hormone Therapy Arimidex    NO             \n",
       "606 1591                     Hormone Therapy Tamoxifen   NO             \n",
       "607   NA                     Hormone Therapy Arimidex    YES            \n",
       "609  236                     Hormone Therapy Arimidex    NO             \n",
       "610  339                     Hormone Therapy Aromasin    NO             \n",
       "611   NA                     Hormone Therapy Tamoxifen   YES            \n",
       "619   NA                     Hormone Therapy Arimidex    YES            \n",
       "620    0                     Hormone Therapy Tamoxifen   NO             \n",
       "627  278                     Hormone Therapy LETROZOLE   NO             \n",
       "628   NA                     Hormone Therapy ANASTROZOLE YES            \n",
       "629  221                     Hormone Therapy Taxol       NO             \n",
       "630   NA                     Hormone Therapy Anastrozole YES            \n",
       "632  169                     Hormone Therapy LETROZOLE   NO             \n",
       "633  309                     Hormone Therapy EXEMESTANE  NO             \n",
       "634   NA                     Hormone Therapy ANASTROZOLE YES            \n",
       "639  273                     Hormone Therapy Arimidex    NO             \n",
       "640   NA                     Hormone Therapy Tamoxifen   YES            \n",
       "    measure_of_response          year_of_form_completion\n",
       "7                                2010                   \n",
       "8                                2010                   \n",
       "9                                2010                   \n",
       "10                               2010                   \n",
       "11                               2010                   \n",
       "13                               2010                   \n",
       "14                               2010                   \n",
       "16                               2011                   \n",
       "17                               2011                   \n",
       "18  Complete Response            2012                   \n",
       "19                               2012                   \n",
       "22  Complete Response            2012                   \n",
       "23                               2012                   \n",
       "25                               2010                   \n",
       "26                               2010                   \n",
       "30                               2010                   \n",
       "31                               2010                   \n",
       "32                               2010                   \n",
       "33                               2010                   \n",
       "34                               2010                   \n",
       "35                               2010                   \n",
       "36                               2010                   \n",
       "41                               2010                   \n",
       "42                               2010                   \n",
       "43                               2010                   \n",
       "44                               2010                   \n",
       "45  Complete Response            2012                   \n",
       "46  Complete Response            2012                   \n",
       "48                               2011                   \n",
       "49                               2011                   \n",
       "⋮   ⋮                            ⋮                      \n",
       "586 Stable Disease               2013                   \n",
       "587 Stable Disease               2013                   \n",
       "588 Clinical Progressive Disease 2013                   \n",
       "589 Clinical Progressive Disease 2013                   \n",
       "590 Clinical Progressive Disease 2013                   \n",
       "591 Clinical Progressive Disease 2013                   \n",
       "592 Stable Disease               2013                   \n",
       "593 Clinical Progressive Disease 2013                   \n",
       "594 Complete Response            2013                   \n",
       "595 Complete Response            2013                   \n",
       "597 Complete Response            2013                   \n",
       "598                              2013                   \n",
       "604 Complete Response            2013                   \n",
       "605 Complete Response            2013                   \n",
       "606 Complete Response            2013                   \n",
       "607                              2013                   \n",
       "609 Complete Response            2013                   \n",
       "610 Complete Response            2013                   \n",
       "611                              2013                   \n",
       "619                              2013                   \n",
       "620                              2013                   \n",
       "627                              2014                   \n",
       "628                              2014                   \n",
       "629 Complete Response            2013                   \n",
       "630                              2014                   \n",
       "632 Complete Response            2014                   \n",
       "633 Complete Response            2014                   \n",
       "634 Complete Response            2014                   \n",
       "639 Complete Response            2014                   \n",
       "640                              2014                   "
      ]
     },
     "metadata": {},
     "output_type": "display_data"
    }
   ],
   "source": [
    "# Some patients have more than 1 record\n",
    "dup <- consolidated_hormone$bcr_patient_barcode[duplicated(consolidated_hormone$bcr_patient_barcode)]\n",
    "consolidated_hormone[consolidated_hormone$bcr_patient_barcode %in% dup,]"
   ]
  },
  {
   "cell_type": "code",
   "execution_count": 18,
   "metadata": {},
   "outputs": [
    {
     "data": {
      "text/html": [
       "142"
      ],
      "text/latex": [
       "142"
      ],
      "text/markdown": [
       "142"
      ],
      "text/plain": [
       "[1] 142"
      ]
     },
     "metadata": {},
     "output_type": "display_data"
    }
   ],
   "source": [
    "length(dup) # 142 patients received more than 1 type of hormone therapy"
   ]
  },
  {
   "cell_type": "code",
   "execution_count": 19,
   "metadata": {},
   "outputs": [],
   "source": [
    "write.table(consolidated_hormone, \"./metadata/consolidated_hormone.tsv\", sep=\"\\t\", row.names=FALSE)"
   ]
  },
  {
   "cell_type": "markdown",
   "metadata": {},
   "source": [
    "### Patients with Stable/Progressive during/after treatment"
   ]
  },
  {
   "cell_type": "code",
   "execution_count": 20,
   "metadata": {
    "scrolled": true
   },
   "outputs": [
    {
     "name": "stdout",
     "output_type": "stream",
     "text": [
      "[1] 10\n"
     ]
    },
    {
     "data": {
      "text/html": [
       "<ol class=list-inline>\n",
       "\t<li>'TCGA-A2-A0EW'</li>\n",
       "\t<li>'TCGA-A7-A3RF'</li>\n",
       "\t<li>'TCGA-A8-A07I'</li>\n",
       "\t<li>'TCGA-A8-A08O'</li>\n",
       "\t<li>'TCGA-D8-A73W'</li>\n",
       "\t<li>'TCGA-E2-A1IE'</li>\n",
       "\t<li>'TCGA-E9-A1N6'</li>\n",
       "\t<li>'TCGA-E9-A2JS'</li>\n",
       "\t<li>'TCGA-GM-A2DA'</li>\n",
       "\t<li>'TCGA-LL-A73Z'</li>\n",
       "</ol>\n"
      ],
      "text/latex": [
       "\\begin{enumerate*}\n",
       "\\item 'TCGA-A2-A0EW'\n",
       "\\item 'TCGA-A7-A3RF'\n",
       "\\item 'TCGA-A8-A07I'\n",
       "\\item 'TCGA-A8-A08O'\n",
       "\\item 'TCGA-D8-A73W'\n",
       "\\item 'TCGA-E2-A1IE'\n",
       "\\item 'TCGA-E9-A1N6'\n",
       "\\item 'TCGA-E9-A2JS'\n",
       "\\item 'TCGA-GM-A2DA'\n",
       "\\item 'TCGA-LL-A73Z'\n",
       "\\end{enumerate*}\n"
      ],
      "text/markdown": [
       "1. 'TCGA-A2-A0EW'\n",
       "2. 'TCGA-A7-A3RF'\n",
       "3. 'TCGA-A8-A07I'\n",
       "4. 'TCGA-A8-A08O'\n",
       "5. 'TCGA-D8-A73W'\n",
       "6. 'TCGA-E2-A1IE'\n",
       "7. 'TCGA-E9-A1N6'\n",
       "8. 'TCGA-E9-A2JS'\n",
       "9. 'TCGA-GM-A2DA'\n",
       "10. 'TCGA-LL-A73Z'\n",
       "\n",
       "\n"
      ],
      "text/plain": [
       " [1] \"TCGA-A2-A0EW\" \"TCGA-A7-A3RF\" \"TCGA-A8-A07I\" \"TCGA-A8-A08O\" \"TCGA-D8-A73W\"\n",
       " [6] \"TCGA-E2-A1IE\" \"TCGA-E9-A1N6\" \"TCGA-E9-A2JS\" \"TCGA-GM-A2DA\" \"TCGA-LL-A73Z\""
      ]
     },
     "metadata": {},
     "output_type": "display_data"
    }
   ],
   "source": [
    "poor <- vector()\n",
    "for (patient in unique(consolidated_hormone$bcr_patient_barcode)) {\n",
    "    responses <- subset(consolidated_hormone, bcr_patient_barcode == patient)$measure_of_response\n",
    "    if (\"Stable\" %in% responses | \"Clinical Progressive Disease\" %in% responses){\n",
    "        poor <- c(poor, patient)\n",
    "    }\n",
    "}\n",
    "\n",
    "print(length(poor))\n",
    "poor"
   ]
  },
  {
   "cell_type": "markdown",
   "metadata": {},
   "source": [
    "### Patients with Complete Response"
   ]
  },
  {
   "cell_type": "code",
   "execution_count": 102,
   "metadata": {
    "scrolled": true
   },
   "outputs": [
    {
     "name": "stdout",
     "output_type": "stream",
     "text": [
      "[1] 40\n"
     ]
    },
    {
     "data": {
      "text/html": [
       "<ol class=list-inline>\n",
       "\t<li>'TCGA-A2-A0CO'</li>\n",
       "\t<li>'TCGA-A2-A0CR'</li>\n",
       "\t<li>'TCGA-A2-A0EP'</li>\n",
       "\t<li>'TCGA-A7-A5ZX'</li>\n",
       "\t<li>'TCGA-A8-A06R'</li>\n",
       "\t<li>'TCGA-A8-A082'</li>\n",
       "\t<li>'TCGA-A8-A08B'</li>\n",
       "\t<li>'TCGA-A8-A09D'</li>\n",
       "\t<li>'TCGA-A8-A0A4'</li>\n",
       "\t<li>'TCGA-A8-A0A6'</li>\n",
       "\t<li>'TCGA-AC-A23G'</li>\n",
       "\t<li>'TCGA-AC-A2FB'</li>\n",
       "\t<li>'TCGA-AC-A2FF'</li>\n",
       "\t<li>'TCGA-AC-A2FG'</li>\n",
       "\t<li>'TCGA-AC-A2FK'</li>\n",
       "\t<li>'TCGA-AC-A2FO'</li>\n",
       "\t<li>'TCGA-AQ-A7U7'</li>\n",
       "\t<li>'TCGA-BH-A0HY'</li>\n",
       "\t<li>'TCGA-BH-A0W5'</li>\n",
       "\t<li>'TCGA-BH-A0W7'</li>\n",
       "\t<li>'TCGA-C8-A26V'</li>\n",
       "\t<li>'TCGA-C8-A26Z'</li>\n",
       "\t<li>'TCGA-C8-A3M8'</li>\n",
       "\t<li>'TCGA-E9-A1NG'</li>\n",
       "\t<li>'TCGA-E9-A1RI'</li>\n",
       "\t<li>'TCGA-E9-A3HO'</li>\n",
       "\t<li>'TCGA-GM-A2DC'</li>\n",
       "\t<li>'TCGA-GM-A2DK'</li>\n",
       "\t<li>'TCGA-GM-A2DL'</li>\n",
       "\t<li>'TCGA-GM-A2DM'</li>\n",
       "\t<li>'TCGA-GM-A2DN'</li>\n",
       "\t<li>'TCGA-GM-A2DO'</li>\n",
       "\t<li>'TCGA-GM-A3XG'</li>\n",
       "\t<li>'TCGA-GM-A3XN'</li>\n",
       "\t<li>'TCGA-GM-A5PX'</li>\n",
       "\t<li>'TCGA-LL-A50Y'</li>\n",
       "\t<li>'TCGA-S3-A6ZG'</li>\n",
       "\t<li>'TCGA-S3-AA11'</li>\n",
       "\t<li>'TCGA-V7-A7HQ'</li>\n",
       "\t<li>'TCGA-WT-AB41'</li>\n",
       "</ol>\n"
      ],
      "text/latex": [
       "\\begin{enumerate*}\n",
       "\\item 'TCGA-A2-A0CO'\n",
       "\\item 'TCGA-A2-A0CR'\n",
       "\\item 'TCGA-A2-A0EP'\n",
       "\\item 'TCGA-A7-A5ZX'\n",
       "\\item 'TCGA-A8-A06R'\n",
       "\\item 'TCGA-A8-A082'\n",
       "\\item 'TCGA-A8-A08B'\n",
       "\\item 'TCGA-A8-A09D'\n",
       "\\item 'TCGA-A8-A0A4'\n",
       "\\item 'TCGA-A8-A0A6'\n",
       "\\item 'TCGA-AC-A23G'\n",
       "\\item 'TCGA-AC-A2FB'\n",
       "\\item 'TCGA-AC-A2FF'\n",
       "\\item 'TCGA-AC-A2FG'\n",
       "\\item 'TCGA-AC-A2FK'\n",
       "\\item 'TCGA-AC-A2FO'\n",
       "\\item 'TCGA-AQ-A7U7'\n",
       "\\item 'TCGA-BH-A0HY'\n",
       "\\item 'TCGA-BH-A0W5'\n",
       "\\item 'TCGA-BH-A0W7'\n",
       "\\item 'TCGA-C8-A26V'\n",
       "\\item 'TCGA-C8-A26Z'\n",
       "\\item 'TCGA-C8-A3M8'\n",
       "\\item 'TCGA-E9-A1NG'\n",
       "\\item 'TCGA-E9-A1RI'\n",
       "\\item 'TCGA-E9-A3HO'\n",
       "\\item 'TCGA-GM-A2DC'\n",
       "\\item 'TCGA-GM-A2DK'\n",
       "\\item 'TCGA-GM-A2DL'\n",
       "\\item 'TCGA-GM-A2DM'\n",
       "\\item 'TCGA-GM-A2DN'\n",
       "\\item 'TCGA-GM-A2DO'\n",
       "\\item 'TCGA-GM-A3XG'\n",
       "\\item 'TCGA-GM-A3XN'\n",
       "\\item 'TCGA-GM-A5PX'\n",
       "\\item 'TCGA-LL-A50Y'\n",
       "\\item 'TCGA-S3-A6ZG'\n",
       "\\item 'TCGA-S3-AA11'\n",
       "\\item 'TCGA-V7-A7HQ'\n",
       "\\item 'TCGA-WT-AB41'\n",
       "\\end{enumerate*}\n"
      ],
      "text/markdown": [
       "1. 'TCGA-A2-A0CO'\n",
       "2. 'TCGA-A2-A0CR'\n",
       "3. 'TCGA-A2-A0EP'\n",
       "4. 'TCGA-A7-A5ZX'\n",
       "5. 'TCGA-A8-A06R'\n",
       "6. 'TCGA-A8-A082'\n",
       "7. 'TCGA-A8-A08B'\n",
       "8. 'TCGA-A8-A09D'\n",
       "9. 'TCGA-A8-A0A4'\n",
       "10. 'TCGA-A8-A0A6'\n",
       "11. 'TCGA-AC-A23G'\n",
       "12. 'TCGA-AC-A2FB'\n",
       "13. 'TCGA-AC-A2FF'\n",
       "14. 'TCGA-AC-A2FG'\n",
       "15. 'TCGA-AC-A2FK'\n",
       "16. 'TCGA-AC-A2FO'\n",
       "17. 'TCGA-AQ-A7U7'\n",
       "18. 'TCGA-BH-A0HY'\n",
       "19. 'TCGA-BH-A0W5'\n",
       "20. 'TCGA-BH-A0W7'\n",
       "21. 'TCGA-C8-A26V'\n",
       "22. 'TCGA-C8-A26Z'\n",
       "23. 'TCGA-C8-A3M8'\n",
       "24. 'TCGA-E9-A1NG'\n",
       "25. 'TCGA-E9-A1RI'\n",
       "26. 'TCGA-E9-A3HO'\n",
       "27. 'TCGA-GM-A2DC'\n",
       "28. 'TCGA-GM-A2DK'\n",
       "29. 'TCGA-GM-A2DL'\n",
       "30. 'TCGA-GM-A2DM'\n",
       "31. 'TCGA-GM-A2DN'\n",
       "32. 'TCGA-GM-A2DO'\n",
       "33. 'TCGA-GM-A3XG'\n",
       "34. 'TCGA-GM-A3XN'\n",
       "35. 'TCGA-GM-A5PX'\n",
       "36. 'TCGA-LL-A50Y'\n",
       "37. 'TCGA-S3-A6ZG'\n",
       "38. 'TCGA-S3-AA11'\n",
       "39. 'TCGA-V7-A7HQ'\n",
       "40. 'TCGA-WT-AB41'\n",
       "\n",
       "\n"
      ],
      "text/plain": [
       " [1] \"TCGA-A2-A0CO\" \"TCGA-A2-A0CR\" \"TCGA-A2-A0EP\" \"TCGA-A7-A5ZX\" \"TCGA-A8-A06R\"\n",
       " [6] \"TCGA-A8-A082\" \"TCGA-A8-A08B\" \"TCGA-A8-A09D\" \"TCGA-A8-A0A4\" \"TCGA-A8-A0A6\"\n",
       "[11] \"TCGA-AC-A23G\" \"TCGA-AC-A2FB\" \"TCGA-AC-A2FF\" \"TCGA-AC-A2FG\" \"TCGA-AC-A2FK\"\n",
       "[16] \"TCGA-AC-A2FO\" \"TCGA-AQ-A7U7\" \"TCGA-BH-A0HY\" \"TCGA-BH-A0W5\" \"TCGA-BH-A0W7\"\n",
       "[21] \"TCGA-C8-A26V\" \"TCGA-C8-A26Z\" \"TCGA-C8-A3M8\" \"TCGA-E9-A1NG\" \"TCGA-E9-A1RI\"\n",
       "[26] \"TCGA-E9-A3HO\" \"TCGA-GM-A2DC\" \"TCGA-GM-A2DK\" \"TCGA-GM-A2DL\" \"TCGA-GM-A2DM\"\n",
       "[31] \"TCGA-GM-A2DN\" \"TCGA-GM-A2DO\" \"TCGA-GM-A3XG\" \"TCGA-GM-A3XN\" \"TCGA-GM-A5PX\"\n",
       "[36] \"TCGA-LL-A50Y\" \"TCGA-S3-A6ZG\" \"TCGA-S3-AA11\" \"TCGA-V7-A7HQ\" \"TCGA-WT-AB41\""
      ]
     },
     "metadata": {},
     "output_type": "display_data"
    }
   ],
   "source": [
    "good <- unique(\n",
    "            subset(consolidated_hormone, measure_of_response==\"Complete Response\" & \n",
    "                    bcr_patient_barcode %notin% poor)$bcr_patient_barcode\n",
    "        )\n",
    "print(length(good))\n",
    "good"
   ]
  },
  {
   "cell_type": "markdown",
   "metadata": {},
   "source": [
    "### Others"
   ]
  },
  {
   "cell_type": "code",
   "execution_count": 103,
   "metadata": {},
   "outputs": [
    {
     "name": "stdout",
     "output_type": "stream",
     "text": [
      "[1] 450\n"
     ]
    }
   ],
   "source": [
    "others <- unique(\n",
    "            subset(consolidated_hormone, bcr_patient_barcode %notin% good & \n",
    "                                    bcr_patient_barcode %notin% poor)$bcr_patient_barcode\n",
    "        )\n",
    "print(length(others))"
   ]
  },
  {
   "cell_type": "markdown",
   "metadata": {},
   "source": [
    "### Summary table"
   ]
  },
  {
   "cell_type": "code",
   "execution_count": 142,
   "metadata": {},
   "outputs": [
    {
     "data": {
      "text/plain": [
       "\n",
       " Complete response Progressive/Stable            Unknown \n",
       "                40                 10                450 "
      ]
     },
     "metadata": {},
     "output_type": "display_data"
    }
   ],
   "source": [
    "initial_response <- matrix(nrow=length(unique(consolidated_hormone$bcr_patient_barcode)), ncol=2)\n",
    "initial_response[,1] <- c(poor, good, others)\n",
    "initial_response[,2] <- c(rep(\"Progressive/Stable\", length(poor)), \n",
    "                          rep(\"Complete response\", length(good)), \n",
    "                          rep(\"Unknown\", length(others)))\n",
    "initial_response <- as.data.frame(initial_response, stringsAsFactors = FALSE)\n",
    "colnames(initial_response) <- c(\"case_barcode\", \"initial_response\")\n",
    "table(initial_response$initial_response)"
   ]
  },
  {
   "cell_type": "markdown",
   "metadata": {},
   "source": [
    "## Follow-up of patients received hormone therapy"
   ]
  },
  {
   "cell_type": "code",
   "execution_count": 104,
   "metadata": {
    "scrolled": true
   },
   "outputs": [
    {
     "name": "stderr",
     "output_type": "stream",
     "text": [
      "We found more than one follow up version!\n",
      "We will parse all and add a collumn (follow_up_version) to identify each version\n",
      "Parsing follow up version: follow_up_v1.5\n"
     ]
    },
    {
     "name": "stdout",
     "output_type": "stream",
     "text": [
      "  |=================================================================     |  93%\n"
     ]
    },
    {
     "name": "stderr",
     "output_type": "stream",
     "text": [
      "Parsing follow up version: follow_up_v2.1\n"
     ]
    },
    {
     "name": "stdout",
     "output_type": "stream",
     "text": [
      "  |=================================================================     |  93%\n"
     ]
    },
    {
     "name": "stderr",
     "output_type": "stream",
     "text": [
      "Parsing follow up version: follow_up_v4.0\n"
     ]
    },
    {
     "name": "stdout",
     "output_type": "stream",
     "text": [
      "  |======================================================================| 100%\n"
     ]
    }
   ],
   "source": [
    "follow_up <- GDCprepare_clinic(query, clinical.info = \"follow_up\")"
   ]
  },
  {
   "cell_type": "code",
   "execution_count": 105,
   "metadata": {},
   "outputs": [],
   "source": [
    "keep <- c('follow_up_version', 'bcr_patient_barcode', 'bcr_followup_barcode', 'bcr_followup_uuid', \n",
    "          'days_to_last_followup', 'vital_status', 'person_neoplasm_cancer_status', \n",
    "          'days_to_last_known_alive', 'days_to_death', 'days_to_new_tumor_event_after_initial_treatment', \n",
    "          'new_tumor_event_after_initial_treatment', 'new_neoplasm_event_type', \n",
    "          'new_neoplasm_event_occurrence_anatomic_site', 'new_neoplasm_occurrence_anatomic_site_text', \n",
    "          'lost_follow_up', 'new_tumor_events')\n",
    "follow_up <- follow_up[,keep]"
   ]
  },
  {
   "cell_type": "code",
   "execution_count": 106,
   "metadata": {},
   "outputs": [
    {
     "data": {
      "text/html": [
       "<table>\n",
       "<thead><tr><th scope=col>follow_up_version</th><th scope=col>bcr_patient_barcode</th><th scope=col>bcr_followup_barcode</th><th scope=col>bcr_followup_uuid</th><th scope=col>days_to_last_followup</th><th scope=col>vital_status</th><th scope=col>person_neoplasm_cancer_status</th><th scope=col>days_to_last_known_alive</th><th scope=col>days_to_death</th><th scope=col>days_to_new_tumor_event_after_initial_treatment</th><th scope=col>new_tumor_event_after_initial_treatment</th><th scope=col>new_neoplasm_event_type</th><th scope=col>new_neoplasm_event_occurrence_anatomic_site</th><th scope=col>new_neoplasm_occurrence_anatomic_site_text</th><th scope=col>lost_follow_up</th><th scope=col>new_tumor_events</th></tr></thead>\n",
       "<tbody>\n",
       "\t<tr><td>follow_up_v1.5                      </td><td>TCGA-A7-A0D9                        </td><td>TCGA-A7-A0D9-F2920                  </td><td>CC7279B1-E6EC-4C7C-B5D3-1FB6ABFAA9BC</td><td>273                                 </td><td>Alive                               </td><td>TUMOR FREE                          </td><td>NA                                  </td><td>  NA                                </td><td> NA                                 </td><td>NA                                  </td><td>NA                                  </td><td>NA                                  </td><td>NA                                  </td><td>NA                                  </td><td>NA                                  </td></tr>\n",
       "\t<tr><td>follow_up_v1.5                      </td><td>TCGA-A7-A0DB                        </td><td>TCGA-A7-A0DB-F2931                  </td><td>36D2F1C0-4545-438D-A3CD-F1E072A82DB2</td><td>267                                 </td><td>Alive                               </td><td>TUMOR FREE                          </td><td>NA                                  </td><td>  NA                                </td><td> NA                                 </td><td>NA                                  </td><td>NA                                  </td><td>NA                                  </td><td>NA                                  </td><td>NA                                  </td><td>NA                                  </td></tr>\n",
       "\t<tr><td>follow_up_v1.5                      </td><td>TCGA-AO-A03O                        </td><td>TCGA-AO-A03O-F3141                  </td><td>740A6308-84E3-4231-995D-82D7D5A34C86</td><td> NA                                 </td><td>Dead                                </td><td>TUMOR FREE                          </td><td>NA                                  </td><td>2483                                </td><td> NA                                 </td><td>NA                                  </td><td>NA                                  </td><td>NA                                  </td><td>NA                                  </td><td>NA                                  </td><td>NA                                  </td></tr>\n",
       "\t<tr><td>follow_up_v1.5                      </td><td>TCGA-BH-A0DZ                        </td><td>TCGA-BH-A0DZ-F4588                  </td><td>F7218F8F-0D41-4B86-B276-C020CA69412E</td><td>495                                 </td><td>Alive                               </td><td>TUMOR FREE                          </td><td>NA                                  </td><td>  NA                                </td><td> NA                                 </td><td>NA                                  </td><td>NA                                  </td><td>NA                                  </td><td>NA                                  </td><td>NA                                  </td><td>NA                                  </td></tr>\n",
       "\t<tr><td>follow_up_v1.5                      </td><td>TCGA-A2-A04P                        </td><td>TCGA-A2-A04P-F2652                  </td><td>0D1BD57A-F783-438D-9F39-8A75193DDDCC</td><td> NA                                 </td><td>Dead                                </td><td>WITH TUMOR                          </td><td>NA                                  </td><td> 548                                </td><td>179                                 </td><td>NA                                  </td><td>NA                                  </td><td>NA                                  </td><td>NA                                  </td><td>NA                                  </td><td>NA                                  </td></tr>\n",
       "\t<tr><td>follow_up_v1.5                      </td><td>TCGA-A2-A04P                        </td><td>TCGA-A2-A04P-F10241                 </td><td>1966A070-7389-434A-BE2F-01ABFB19B3AB</td><td> NA                                 </td><td>Dead                                </td><td>WITH TUMOR                          </td><td>NA                                  </td><td> 548                                </td><td>180                                 </td><td>NA                                  </td><td>NA                                  </td><td>NA                                  </td><td>NA                                  </td><td>NA                                  </td><td>NA                                  </td></tr>\n",
       "</tbody>\n",
       "</table>\n"
      ],
      "text/latex": [
       "\\begin{tabular}{r|llllllllllllllll}\n",
       " follow\\_up\\_version & bcr\\_patient\\_barcode & bcr\\_followup\\_barcode & bcr\\_followup\\_uuid & days\\_to\\_last\\_followup & vital\\_status & person\\_neoplasm\\_cancer\\_status & days\\_to\\_last\\_known\\_alive & days\\_to\\_death & days\\_to\\_new\\_tumor\\_event\\_after\\_initial\\_treatment & new\\_tumor\\_event\\_after\\_initial\\_treatment & new\\_neoplasm\\_event\\_type & new\\_neoplasm\\_event\\_occurrence\\_anatomic\\_site & new\\_neoplasm\\_occurrence\\_anatomic\\_site\\_text & lost\\_follow\\_up & new\\_tumor\\_events\\\\\n",
       "\\hline\n",
       "\t follow\\_up\\_v1.5                   & TCGA-A7-A0D9                         & TCGA-A7-A0D9-F2920                   & CC7279B1-E6EC-4C7C-B5D3-1FB6ABFAA9BC & 273                                  & Alive                                & TUMOR FREE                           & NA                                   &   NA                                 &  NA                                  & NA                                   & NA                                   & NA                                   & NA                                   & NA                                   & NA                                  \\\\\n",
       "\t follow\\_up\\_v1.5                   & TCGA-A7-A0DB                         & TCGA-A7-A0DB-F2931                   & 36D2F1C0-4545-438D-A3CD-F1E072A82DB2 & 267                                  & Alive                                & TUMOR FREE                           & NA                                   &   NA                                 &  NA                                  & NA                                   & NA                                   & NA                                   & NA                                   & NA                                   & NA                                  \\\\\n",
       "\t follow\\_up\\_v1.5                   & TCGA-AO-A03O                         & TCGA-AO-A03O-F3141                   & 740A6308-84E3-4231-995D-82D7D5A34C86 &  NA                                  & Dead                                 & TUMOR FREE                           & NA                                   & 2483                                 &  NA                                  & NA                                   & NA                                   & NA                                   & NA                                   & NA                                   & NA                                  \\\\\n",
       "\t follow\\_up\\_v1.5                   & TCGA-BH-A0DZ                         & TCGA-BH-A0DZ-F4588                   & F7218F8F-0D41-4B86-B276-C020CA69412E & 495                                  & Alive                                & TUMOR FREE                           & NA                                   &   NA                                 &  NA                                  & NA                                   & NA                                   & NA                                   & NA                                   & NA                                   & NA                                  \\\\\n",
       "\t follow\\_up\\_v1.5                   & TCGA-A2-A04P                         & TCGA-A2-A04P-F2652                   & 0D1BD57A-F783-438D-9F39-8A75193DDDCC &  NA                                  & Dead                                 & WITH TUMOR                           & NA                                   &  548                                 & 179                                  & NA                                   & NA                                   & NA                                   & NA                                   & NA                                   & NA                                  \\\\\n",
       "\t follow\\_up\\_v1.5                   & TCGA-A2-A04P                         & TCGA-A2-A04P-F10241                  & 1966A070-7389-434A-BE2F-01ABFB19B3AB &  NA                                  & Dead                                 & WITH TUMOR                           & NA                                   &  548                                 & 180                                  & NA                                   & NA                                   & NA                                   & NA                                   & NA                                   & NA                                  \\\\\n",
       "\\end{tabular}\n"
      ],
      "text/markdown": [
       "\n",
       "| follow_up_version | bcr_patient_barcode | bcr_followup_barcode | bcr_followup_uuid | days_to_last_followup | vital_status | person_neoplasm_cancer_status | days_to_last_known_alive | days_to_death | days_to_new_tumor_event_after_initial_treatment | new_tumor_event_after_initial_treatment | new_neoplasm_event_type | new_neoplasm_event_occurrence_anatomic_site | new_neoplasm_occurrence_anatomic_site_text | lost_follow_up | new_tumor_events |\n",
       "|---|---|---|---|---|---|---|---|---|---|---|---|---|---|---|---|\n",
       "| follow_up_v1.5                       | TCGA-A7-A0D9                         | TCGA-A7-A0D9-F2920                   | CC7279B1-E6EC-4C7C-B5D3-1FB6ABFAA9BC | 273                                  | Alive                                | TUMOR FREE                           | NA                                   |   NA                                 |  NA                                  | NA                                   | NA                                   | NA                                   | NA                                   | NA                                   | NA                                   |\n",
       "| follow_up_v1.5                       | TCGA-A7-A0DB                         | TCGA-A7-A0DB-F2931                   | 36D2F1C0-4545-438D-A3CD-F1E072A82DB2 | 267                                  | Alive                                | TUMOR FREE                           | NA                                   |   NA                                 |  NA                                  | NA                                   | NA                                   | NA                                   | NA                                   | NA                                   | NA                                   |\n",
       "| follow_up_v1.5                       | TCGA-AO-A03O                         | TCGA-AO-A03O-F3141                   | 740A6308-84E3-4231-995D-82D7D5A34C86 |  NA                                  | Dead                                 | TUMOR FREE                           | NA                                   | 2483                                 |  NA                                  | NA                                   | NA                                   | NA                                   | NA                                   | NA                                   | NA                                   |\n",
       "| follow_up_v1.5                       | TCGA-BH-A0DZ                         | TCGA-BH-A0DZ-F4588                   | F7218F8F-0D41-4B86-B276-C020CA69412E | 495                                  | Alive                                | TUMOR FREE                           | NA                                   |   NA                                 |  NA                                  | NA                                   | NA                                   | NA                                   | NA                                   | NA                                   | NA                                   |\n",
       "| follow_up_v1.5                       | TCGA-A2-A04P                         | TCGA-A2-A04P-F2652                   | 0D1BD57A-F783-438D-9F39-8A75193DDDCC |  NA                                  | Dead                                 | WITH TUMOR                           | NA                                   |  548                                 | 179                                  | NA                                   | NA                                   | NA                                   | NA                                   | NA                                   | NA                                   |\n",
       "| follow_up_v1.5                       | TCGA-A2-A04P                         | TCGA-A2-A04P-F10241                  | 1966A070-7389-434A-BE2F-01ABFB19B3AB |  NA                                  | Dead                                 | WITH TUMOR                           | NA                                   |  548                                 | 180                                  | NA                                   | NA                                   | NA                                   | NA                                   | NA                                   | NA                                   |\n",
       "\n"
      ],
      "text/plain": [
       "  follow_up_version bcr_patient_barcode bcr_followup_barcode\n",
       "1 follow_up_v1.5    TCGA-A7-A0D9        TCGA-A7-A0D9-F2920  \n",
       "2 follow_up_v1.5    TCGA-A7-A0DB        TCGA-A7-A0DB-F2931  \n",
       "3 follow_up_v1.5    TCGA-AO-A03O        TCGA-AO-A03O-F3141  \n",
       "4 follow_up_v1.5    TCGA-BH-A0DZ        TCGA-BH-A0DZ-F4588  \n",
       "5 follow_up_v1.5    TCGA-A2-A04P        TCGA-A2-A04P-F2652  \n",
       "6 follow_up_v1.5    TCGA-A2-A04P        TCGA-A2-A04P-F10241 \n",
       "  bcr_followup_uuid                    days_to_last_followup vital_status\n",
       "1 CC7279B1-E6EC-4C7C-B5D3-1FB6ABFAA9BC 273                   Alive       \n",
       "2 36D2F1C0-4545-438D-A3CD-F1E072A82DB2 267                   Alive       \n",
       "3 740A6308-84E3-4231-995D-82D7D5A34C86  NA                   Dead        \n",
       "4 F7218F8F-0D41-4B86-B276-C020CA69412E 495                   Alive       \n",
       "5 0D1BD57A-F783-438D-9F39-8A75193DDDCC  NA                   Dead        \n",
       "6 1966A070-7389-434A-BE2F-01ABFB19B3AB  NA                   Dead        \n",
       "  person_neoplasm_cancer_status days_to_last_known_alive days_to_death\n",
       "1 TUMOR FREE                    NA                         NA         \n",
       "2 TUMOR FREE                    NA                         NA         \n",
       "3 TUMOR FREE                    NA                       2483         \n",
       "4 TUMOR FREE                    NA                         NA         \n",
       "5 WITH TUMOR                    NA                        548         \n",
       "6 WITH TUMOR                    NA                        548         \n",
       "  days_to_new_tumor_event_after_initial_treatment\n",
       "1  NA                                            \n",
       "2  NA                                            \n",
       "3  NA                                            \n",
       "4  NA                                            \n",
       "5 179                                            \n",
       "6 180                                            \n",
       "  new_tumor_event_after_initial_treatment new_neoplasm_event_type\n",
       "1 NA                                      NA                     \n",
       "2 NA                                      NA                     \n",
       "3 NA                                      NA                     \n",
       "4 NA                                      NA                     \n",
       "5 NA                                      NA                     \n",
       "6 NA                                      NA                     \n",
       "  new_neoplasm_event_occurrence_anatomic_site\n",
       "1 NA                                         \n",
       "2 NA                                         \n",
       "3 NA                                         \n",
       "4 NA                                         \n",
       "5 NA                                         \n",
       "6 NA                                         \n",
       "  new_neoplasm_occurrence_anatomic_site_text lost_follow_up new_tumor_events\n",
       "1 NA                                         NA             NA              \n",
       "2 NA                                         NA             NA              \n",
       "3 NA                                         NA             NA              \n",
       "4 NA                                         NA             NA              \n",
       "5 NA                                         NA             NA              \n",
       "6 NA                                         NA             NA              "
      ]
     },
     "metadata": {},
     "output_type": "display_data"
    }
   ],
   "source": [
    "head(follow_up)"
   ]
  },
  {
   "cell_type": "code",
   "execution_count": 107,
   "metadata": {
    "scrolled": true
   },
   "outputs": [
    {
     "name": "stdout",
     "output_type": "stream",
     "text": [
      "[1] 719  16\n",
      "[1] 493\n"
     ]
    }
   ],
   "source": [
    "follow_up_hormone <- subset(follow_up, bcr_patient_barcode %in% unique(consolidated_hormone$bcr_patient_barcode))\n",
    "\n",
    "print(dim(follow_up_hormone))\n",
    "\n",
    "print(length(unique(follow_up_hormone$bcr_patient_barcode))) # Only 493 patients have follow-up records"
   ]
  },
  {
   "cell_type": "code",
   "execution_count": 27,
   "metadata": {},
   "outputs": [],
   "source": [
    "write.table(follow_up_hormone, \"./metadata/follow_up_hormone.tsv\", sep=\"\\t\", row.names=FALSE)"
   ]
  },
  {
   "cell_type": "markdown",
   "metadata": {},
   "source": [
    "### Recurrence occured"
   ]
  },
  {
   "cell_type": "code",
   "execution_count": 122,
   "metadata": {},
   "outputs": [],
   "source": [
    "log = data.frame(stringsAsFactors=FALSE)"
   ]
  },
  {
   "cell_type": "code",
   "execution_count": 123,
   "metadata": {},
   "outputs": [
    {
     "data": {
      "text/html": [
       "493"
      ],
      "text/latex": [
       "493"
      ],
      "text/markdown": [
       "493"
      ],
      "text/plain": [
       "[1] 493"
      ]
     },
     "metadata": {},
     "output_type": "display_data"
    }
   ],
   "source": [
    "select <- c(poor, good, others)\n",
    "select <- select[select %in% unique(follow_up_hormone$bcr_patient_barcode)]\n",
    "length(select)"
   ]
  },
  {
   "cell_type": "code",
   "execution_count": 124,
   "metadata": {
    "scrolled": true
   },
   "outputs": [],
   "source": [
    "recurrence_occured = vector()\n",
    "\n",
    "select <- c(poor, good, others)\n",
    "select <- select[select %in% unique(follow_up_hormone$bcr_patient_barcode)]\n",
    "\n",
    "for (patient in select){\n",
    "\n",
    "    df <- subset(follow_up_hormone, bcr_patient_barcode == patient)\n",
    "    t <- min(subset(hormone, bcr_patient_barcode == patient, days_to_drug_therapy_start)) #min_start\n",
    "    if (is.na(t)) {t <- min(subset(hormone, bcr_patient_barcode == patient, days_to_drug_therapy_end))} #min_end\n",
    "    \n",
    "    if (!is.na(t)){\n",
    "        check <- \"no\"\n",
    "        for (i in (1:nrow(df))) {\n",
    "            new_tumor <- df[i,]$new_tumor_events\n",
    "            last_follow <- df[i,]$days_to_last_followup \n",
    "            if ((new_tumor != \"NO\" & new_tumor != \"\" & !is.na(new_tumor)) & \n",
    "                (!is.na(last_follow) & last_follow >= t)){\n",
    "                recurrence_occured <- c(recurrence_occured, patient)\n",
    "                log <- rbind.data.frame(log, c(patient, \"New tumor after/during treatment\"), stringsAsFactors = FALSE)\n",
    "                check <- \"yes\"\n",
    "                break\n",
    "            }\n",
    "\n",
    "            days_2_new <- df[i,]$days_to_new_tumor\n",
    "            if (!is.na(days_2_new) & days_2_new > t){\n",
    "                recurrence_occured <- c(recurrence_occured, patient)\n",
    "                log <- rbind.data.frame(log, c(patient, \"New tumor after/during treatment\"), stringsAsFactors = FALSE)\n",
    "                check <- \"yes\"\n",
    "                break\n",
    "            }\n",
    "            \n",
    "            neoplasm_status <- df[i,]$person_neoplasm_cancer_status\n",
    "            vital_status <- df[i,]$vital_status\n",
    "            if (!is.na(vital_status) & !is.na(neoplasm_status) & \n",
    "                    vital_status == \"Dead\" & neoplasm_status == \"WITH TUMOR\"){\n",
    "                recurrence_occured <- c(recurrence_occured, patient)\n",
    "                log <- rbind.data.frame(log, c(patient, \"Dead with tumor\"), stringsAsFactors = FALSE)\n",
    "                check <- \"yes\"\n",
    "                break\n",
    "            }\n",
    "        }\n",
    "        \n",
    "        if (check == \"no\") {\n",
    "            log <- rbind.data.frame(log, c(patient, \"Low risk or unknown\"), stringsAsFactors = FALSE)\n",
    "        }\n",
    "    }\n",
    "    else {log <- rbind.data.frame(log, c(patient, \"Drug start and end dates unknown\"), stringsAsFactors = FALSE)}\n",
    "}"
   ]
  },
  {
   "cell_type": "code",
   "execution_count": 125,
   "metadata": {
    "scrolled": true
   },
   "outputs": [
    {
     "data": {
      "text/html": [
       "<table>\n",
       "<thead><tr><th scope=col>Var1</th><th scope=col>Freq</th></tr></thead>\n",
       "<tbody>\n",
       "\t<tr><td>Dead with tumor                 </td><td> 12                             </td></tr>\n",
       "\t<tr><td>Drug start and end dates unknown</td><td> 17                             </td></tr>\n",
       "\t<tr><td>Low risk or unknown             </td><td>431                             </td></tr>\n",
       "\t<tr><td>New tumor after/during treatment</td><td> 33                             </td></tr>\n",
       "</tbody>\n",
       "</table>\n"
      ],
      "text/latex": [
       "\\begin{tabular}{r|ll}\n",
       " Var1 & Freq\\\\\n",
       "\\hline\n",
       "\t Dead with tumor                  &  12                             \\\\\n",
       "\t Drug start and end dates unknown &  17                             \\\\\n",
       "\t Low risk or unknown              & 431                             \\\\\n",
       "\t New tumor after/during treatment &  33                             \\\\\n",
       "\\end{tabular}\n"
      ],
      "text/markdown": [
       "\n",
       "| Var1 | Freq |\n",
       "|---|---|\n",
       "| Dead with tumor                  |  12                              |\n",
       "| Drug start and end dates unknown |  17                              |\n",
       "| Low risk or unknown              | 431                              |\n",
       "| New tumor after/during treatment |  33                              |\n",
       "\n"
      ],
      "text/plain": [
       "  Var1                             Freq\n",
       "1 Dead with tumor                   12 \n",
       "2 Drug start and end dates unknown  17 \n",
       "3 Low risk or unknown              431 \n",
       "4 New tumor after/during treatment  33 "
      ]
     },
     "metadata": {},
     "output_type": "display_data"
    }
   ],
   "source": [
    "colnames(log) <- c(\"case_barcode\", \"recurrence_log\")\n",
    "data.frame(table(log$recurrence_log))"
   ]
  },
  {
   "cell_type": "code",
   "execution_count": 126,
   "metadata": {},
   "outputs": [
    {
     "name": "stdout",
     "output_type": "stream",
     "text": [
      "[1] 45\n"
     ]
    },
    {
     "data": {
      "text/html": [
       "<ol class=list-inline>\n",
       "\t<li>'TCGA-A2-A0EW'</li>\n",
       "\t<li>'TCGA-A7-A3RF'</li>\n",
       "\t<li>'TCGA-A8-A08O'</li>\n",
       "\t<li>'TCGA-D8-A73W'</li>\n",
       "\t<li>'TCGA-E2-A1IE'</li>\n",
       "\t<li>'TCGA-E9-A1N6'</li>\n",
       "\t<li>'TCGA-E9-A2JS'</li>\n",
       "\t<li>'TCGA-GM-A2DA'</li>\n",
       "\t<li>'TCGA-LL-A73Z'</li>\n",
       "\t<li>'TCGA-A2-A04V'</li>\n",
       "\t<li>'TCGA-A2-A0CK'</li>\n",
       "\t<li>'TCGA-A2-A0SV'</li>\n",
       "\t<li>'TCGA-A2-A0SW'</li>\n",
       "\t<li>'TCGA-A2-A0YC'</li>\n",
       "\t<li>'TCGA-A2-A25B'</li>\n",
       "\t<li>'TCGA-A2-A25E'</li>\n",
       "\t<li>'TCGA-A7-A13G'</li>\n",
       "\t<li>'TCGA-A7-A13H'</li>\n",
       "\t<li>'TCGA-A7-A26H'</li>\n",
       "\t<li>'TCGA-A7-A425'</li>\n",
       "\t<li>'TCGA-A8-A06Y'</li>\n",
       "\t<li>'TCGA-A8-A08X'</li>\n",
       "\t<li>'TCGA-A8-A091'</li>\n",
       "\t<li>'TCGA-AC-A2FE'</li>\n",
       "\t<li>'TCGA-AO-A03N'</li>\n",
       "\t<li>'TCGA-AO-A03P'</li>\n",
       "\t<li>'TCGA-AO-A0J5'</li>\n",
       "\t<li>'TCGA-AO-A0J9'</li>\n",
       "\t<li>'TCGA-AR-A0TY'</li>\n",
       "\t<li>'TCGA-AR-A24L'</li>\n",
       "\t<li>'TCGA-AR-A24O'</li>\n",
       "\t<li>'TCGA-AR-A2LE'</li>\n",
       "\t<li>'TCGA-AR-A5QM'</li>\n",
       "\t<li>'TCGA-D8-A1Y1'</li>\n",
       "\t<li>'TCGA-E2-A10A'</li>\n",
       "\t<li>'TCGA-E2-A14Z'</li>\n",
       "\t<li>'TCGA-E2-A152'</li>\n",
       "\t<li>'TCGA-E2-A15O'</li>\n",
       "\t<li>'TCGA-E2-A1L7'</li>\n",
       "\t<li>'TCGA-E2-A2P5'</li>\n",
       "\t<li>'TCGA-E9-A1NF'</li>\n",
       "\t<li>'TCGA-E9-A226'</li>\n",
       "\t<li>'TCGA-EW-A1P0'</li>\n",
       "\t<li>'TCGA-GM-A2D9'</li>\n",
       "\t<li>'TCGA-LQ-A4E4'</li>\n",
       "</ol>\n"
      ],
      "text/latex": [
       "\\begin{enumerate*}\n",
       "\\item 'TCGA-A2-A0EW'\n",
       "\\item 'TCGA-A7-A3RF'\n",
       "\\item 'TCGA-A8-A08O'\n",
       "\\item 'TCGA-D8-A73W'\n",
       "\\item 'TCGA-E2-A1IE'\n",
       "\\item 'TCGA-E9-A1N6'\n",
       "\\item 'TCGA-E9-A2JS'\n",
       "\\item 'TCGA-GM-A2DA'\n",
       "\\item 'TCGA-LL-A73Z'\n",
       "\\item 'TCGA-A2-A04V'\n",
       "\\item 'TCGA-A2-A0CK'\n",
       "\\item 'TCGA-A2-A0SV'\n",
       "\\item 'TCGA-A2-A0SW'\n",
       "\\item 'TCGA-A2-A0YC'\n",
       "\\item 'TCGA-A2-A25B'\n",
       "\\item 'TCGA-A2-A25E'\n",
       "\\item 'TCGA-A7-A13G'\n",
       "\\item 'TCGA-A7-A13H'\n",
       "\\item 'TCGA-A7-A26H'\n",
       "\\item 'TCGA-A7-A425'\n",
       "\\item 'TCGA-A8-A06Y'\n",
       "\\item 'TCGA-A8-A08X'\n",
       "\\item 'TCGA-A8-A091'\n",
       "\\item 'TCGA-AC-A2FE'\n",
       "\\item 'TCGA-AO-A03N'\n",
       "\\item 'TCGA-AO-A03P'\n",
       "\\item 'TCGA-AO-A0J5'\n",
       "\\item 'TCGA-AO-A0J9'\n",
       "\\item 'TCGA-AR-A0TY'\n",
       "\\item 'TCGA-AR-A24L'\n",
       "\\item 'TCGA-AR-A24O'\n",
       "\\item 'TCGA-AR-A2LE'\n",
       "\\item 'TCGA-AR-A5QM'\n",
       "\\item 'TCGA-D8-A1Y1'\n",
       "\\item 'TCGA-E2-A10A'\n",
       "\\item 'TCGA-E2-A14Z'\n",
       "\\item 'TCGA-E2-A152'\n",
       "\\item 'TCGA-E2-A15O'\n",
       "\\item 'TCGA-E2-A1L7'\n",
       "\\item 'TCGA-E2-A2P5'\n",
       "\\item 'TCGA-E9-A1NF'\n",
       "\\item 'TCGA-E9-A226'\n",
       "\\item 'TCGA-EW-A1P0'\n",
       "\\item 'TCGA-GM-A2D9'\n",
       "\\item 'TCGA-LQ-A4E4'\n",
       "\\end{enumerate*}\n"
      ],
      "text/markdown": [
       "1. 'TCGA-A2-A0EW'\n",
       "2. 'TCGA-A7-A3RF'\n",
       "3. 'TCGA-A8-A08O'\n",
       "4. 'TCGA-D8-A73W'\n",
       "5. 'TCGA-E2-A1IE'\n",
       "6. 'TCGA-E9-A1N6'\n",
       "7. 'TCGA-E9-A2JS'\n",
       "8. 'TCGA-GM-A2DA'\n",
       "9. 'TCGA-LL-A73Z'\n",
       "10. 'TCGA-A2-A04V'\n",
       "11. 'TCGA-A2-A0CK'\n",
       "12. 'TCGA-A2-A0SV'\n",
       "13. 'TCGA-A2-A0SW'\n",
       "14. 'TCGA-A2-A0YC'\n",
       "15. 'TCGA-A2-A25B'\n",
       "16. 'TCGA-A2-A25E'\n",
       "17. 'TCGA-A7-A13G'\n",
       "18. 'TCGA-A7-A13H'\n",
       "19. 'TCGA-A7-A26H'\n",
       "20. 'TCGA-A7-A425'\n",
       "21. 'TCGA-A8-A06Y'\n",
       "22. 'TCGA-A8-A08X'\n",
       "23. 'TCGA-A8-A091'\n",
       "24. 'TCGA-AC-A2FE'\n",
       "25. 'TCGA-AO-A03N'\n",
       "26. 'TCGA-AO-A03P'\n",
       "27. 'TCGA-AO-A0J5'\n",
       "28. 'TCGA-AO-A0J9'\n",
       "29. 'TCGA-AR-A0TY'\n",
       "30. 'TCGA-AR-A24L'\n",
       "31. 'TCGA-AR-A24O'\n",
       "32. 'TCGA-AR-A2LE'\n",
       "33. 'TCGA-AR-A5QM'\n",
       "34. 'TCGA-D8-A1Y1'\n",
       "35. 'TCGA-E2-A10A'\n",
       "36. 'TCGA-E2-A14Z'\n",
       "37. 'TCGA-E2-A152'\n",
       "38. 'TCGA-E2-A15O'\n",
       "39. 'TCGA-E2-A1L7'\n",
       "40. 'TCGA-E2-A2P5'\n",
       "41. 'TCGA-E9-A1NF'\n",
       "42. 'TCGA-E9-A226'\n",
       "43. 'TCGA-EW-A1P0'\n",
       "44. 'TCGA-GM-A2D9'\n",
       "45. 'TCGA-LQ-A4E4'\n",
       "\n",
       "\n"
      ],
      "text/plain": [
       " [1] \"TCGA-A2-A0EW\" \"TCGA-A7-A3RF\" \"TCGA-A8-A08O\" \"TCGA-D8-A73W\" \"TCGA-E2-A1IE\"\n",
       " [6] \"TCGA-E9-A1N6\" \"TCGA-E9-A2JS\" \"TCGA-GM-A2DA\" \"TCGA-LL-A73Z\" \"TCGA-A2-A04V\"\n",
       "[11] \"TCGA-A2-A0CK\" \"TCGA-A2-A0SV\" \"TCGA-A2-A0SW\" \"TCGA-A2-A0YC\" \"TCGA-A2-A25B\"\n",
       "[16] \"TCGA-A2-A25E\" \"TCGA-A7-A13G\" \"TCGA-A7-A13H\" \"TCGA-A7-A26H\" \"TCGA-A7-A425\"\n",
       "[21] \"TCGA-A8-A06Y\" \"TCGA-A8-A08X\" \"TCGA-A8-A091\" \"TCGA-AC-A2FE\" \"TCGA-AO-A03N\"\n",
       "[26] \"TCGA-AO-A03P\" \"TCGA-AO-A0J5\" \"TCGA-AO-A0J9\" \"TCGA-AR-A0TY\" \"TCGA-AR-A24L\"\n",
       "[31] \"TCGA-AR-A24O\" \"TCGA-AR-A2LE\" \"TCGA-AR-A5QM\" \"TCGA-D8-A1Y1\" \"TCGA-E2-A10A\"\n",
       "[36] \"TCGA-E2-A14Z\" \"TCGA-E2-A152\" \"TCGA-E2-A15O\" \"TCGA-E2-A1L7\" \"TCGA-E2-A2P5\"\n",
       "[41] \"TCGA-E9-A1NF\" \"TCGA-E9-A226\" \"TCGA-EW-A1P0\" \"TCGA-GM-A2D9\" \"TCGA-LQ-A4E4\""
      ]
     },
     "metadata": {},
     "output_type": "display_data"
    }
   ],
   "source": [
    "print(length(recurrence_occured))\n",
    "recurrence_occured"
   ]
  },
  {
   "cell_type": "markdown",
   "metadata": {},
   "source": [
    "### Low risk of recurrence"
   ]
  },
  {
   "cell_type": "code",
   "execution_count": 128,
   "metadata": {},
   "outputs": [],
   "source": [
    "low_risk = vector()\n",
    "\n",
    "select <- subset(log, recurrence_log==\"Low risk or unknown\")$case_barcode\n",
    "\n",
    "for (patient in select){\n",
    "    df <- subset(follow_up_hormone, bcr_patient_barcode == patient)\n",
    "    neoplasm_status <- df$person_neoplasm_cancer_status\n",
    "    if (\"WITH TUMOR\" %in% neoplasm_status){\n",
    "        log[log$case_barcode == patient,]$recurrence_log <- \"Reported having tumor during follow-up but unknown recurrence\"\n",
    "        next\n",
    "    }\n",
    "    else if (\"TUMOR FREE\" %in% neoplasm_status){\n",
    "        vital_status <- df$vital_status\n",
    "        t <- max(subset(hormone, bcr_patient_barcode == patient, days_to_drug_therapy_end)) #max_end\n",
    "        thres <- 5\n",
    "        if (is.na(t)){\n",
    "            t <- max(subset(hormone, bcr_patient_barcode == patient, days_to_drug_therapy_start)) #max_start\n",
    "            thres <- 10\n",
    "        }\n",
    "        \n",
    "        if (\"Dead\" %in% vital_status) {\n",
    "            i <- which(vital_status == \"Dead\")\n",
    "            days_2_death <- df[i,]$days_to_death\n",
    "            if (!is.na(days_2_death)) {\n",
    "                if ((days_2_death - t)/365 > thres) {\n",
    "                    low_risk <- c(low_risk, patient)\n",
    "                    log[log$case_barcode == patient,]$recurrence_log <- \"Dead tumor free after risky period\"\n",
    "                    next\n",
    "                } \n",
    "                else {\n",
    "                    log[log$case_barcode == patient,]$recurrence_log <- \"Dead tumor free during risky period\" \n",
    "                    next\n",
    "                }\n",
    "            } else {\n",
    "                log[log$case_barcode == patient,]$recurrence_log <- \"Dead tumor free but unknown death date\"\n",
    "                next\n",
    "            }\n",
    "        } \n",
    "        \n",
    "        else if (\"Alive\" %in% vital_status) {\n",
    "            last_follow <- max(df$days_to_last_followup)\n",
    "            if (!is.na(last_follow)) {\n",
    "                if ((last_follow - t)/365 > thres) {\n",
    "                    low_risk <- c(low_risk, patient)\n",
    "                    log[log$case_barcode == patient,]$recurrence_log <- \"Alive tumor free after risky period\"\n",
    "                    next\n",
    "                } \n",
    "                else {\n",
    "                    log[log$case_barcode == patient,]$recurrence_log <- \"Alive tumor free, last follow-up within risky period\"\n",
    "                    next\n",
    "                }\n",
    "            } else {\n",
    "                log[log$case_barcode == patient,]$recurrence_log <- \"Alive tumor free but unknown follow-up date\"\n",
    "                next\n",
    "            }          \n",
    "        }\n",
    "        \n",
    "        else {\n",
    "            log[log$case_barcode == patient,]$recurrence_log <- \"Unknown vital status\"\n",
    "            next\n",
    "        }\n",
    "    }\n",
    "    else log[log$case_barcode == patient,]$recurrence_log <- \"Unknown neoplasm status\"\n",
    "}"
   ]
  },
  {
   "cell_type": "code",
   "execution_count": 129,
   "metadata": {},
   "outputs": [
    {
     "data": {
      "text/html": [
       "<table>\n",
       "<thead><tr><th scope=col>Var1</th><th scope=col>Freq</th></tr></thead>\n",
       "<tbody>\n",
       "\t<tr><td>Alive tumor free after risky period                          </td><td>  8                                                          </td></tr>\n",
       "\t<tr><td>Alive tumor free but unknown follow-up date                  </td><td>  8                                                          </td></tr>\n",
       "\t<tr><td>Alive tumor free, last follow-up within risky period         </td><td>386                                                          </td></tr>\n",
       "\t<tr><td>Dead tumor free but unknown death date                       </td><td>  1                                                          </td></tr>\n",
       "\t<tr><td>Dead tumor free during risky period                          </td><td> 10                                                          </td></tr>\n",
       "\t<tr><td>Dead with tumor                                              </td><td> 12                                                          </td></tr>\n",
       "\t<tr><td>Drug start and end dates unknown                             </td><td> 17                                                          </td></tr>\n",
       "\t<tr><td>New tumor after/during treatment                             </td><td> 33                                                          </td></tr>\n",
       "\t<tr><td>Reported having tumor during follow-up but unknown recurrence</td><td>  8                                                          </td></tr>\n",
       "\t<tr><td>Unknown neoplasm status                                      </td><td> 10                                                          </td></tr>\n",
       "</tbody>\n",
       "</table>\n"
      ],
      "text/latex": [
       "\\begin{tabular}{r|ll}\n",
       " Var1 & Freq\\\\\n",
       "\\hline\n",
       "\t Alive tumor free after risky period                           &   8                                                          \\\\\n",
       "\t Alive tumor free but unknown follow-up date                   &   8                                                          \\\\\n",
       "\t Alive tumor free, last follow-up within risky period          & 386                                                          \\\\\n",
       "\t Dead tumor free but unknown death date                        &   1                                                          \\\\\n",
       "\t Dead tumor free during risky period                           &  10                                                          \\\\\n",
       "\t Dead with tumor                                               &  12                                                          \\\\\n",
       "\t Drug start and end dates unknown                              &  17                                                          \\\\\n",
       "\t New tumor after/during treatment                              &  33                                                          \\\\\n",
       "\t Reported having tumor during follow-up but unknown recurrence &   8                                                          \\\\\n",
       "\t Unknown neoplasm status                                       &  10                                                          \\\\\n",
       "\\end{tabular}\n"
      ],
      "text/markdown": [
       "\n",
       "| Var1 | Freq |\n",
       "|---|---|\n",
       "| Alive tumor free after risky period                           |   8                                                           |\n",
       "| Alive tumor free but unknown follow-up date                   |   8                                                           |\n",
       "| Alive tumor free, last follow-up within risky period          | 386                                                           |\n",
       "| Dead tumor free but unknown death date                        |   1                                                           |\n",
       "| Dead tumor free during risky period                           |  10                                                           |\n",
       "| Dead with tumor                                               |  12                                                           |\n",
       "| Drug start and end dates unknown                              |  17                                                           |\n",
       "| New tumor after/during treatment                              |  33                                                           |\n",
       "| Reported having tumor during follow-up but unknown recurrence |   8                                                           |\n",
       "| Unknown neoplasm status                                       |  10                                                           |\n",
       "\n"
      ],
      "text/plain": [
       "   Var1                                                          Freq\n",
       "1  Alive tumor free after risky period                             8 \n",
       "2  Alive tumor free but unknown follow-up date                     8 \n",
       "3  Alive tumor free, last follow-up within risky period          386 \n",
       "4  Dead tumor free but unknown death date                          1 \n",
       "5  Dead tumor free during risky period                            10 \n",
       "6  Dead with tumor                                                12 \n",
       "7  Drug start and end dates unknown                               17 \n",
       "8  New tumor after/during treatment                               33 \n",
       "9  Reported having tumor during follow-up but unknown recurrence   8 \n",
       "10 Unknown neoplasm status                                        10 "
      ]
     },
     "metadata": {},
     "output_type": "display_data"
    }
   ],
   "source": [
    "data.frame(table(log$recurrence_log))"
   ]
  },
  {
   "cell_type": "code",
   "execution_count": 130,
   "metadata": {},
   "outputs": [
    {
     "name": "stdout",
     "output_type": "stream",
     "text": [
      "[1] 8\n"
     ]
    },
    {
     "data": {
      "text/html": [
       "<ol class=list-inline>\n",
       "\t<li>'TCGA-GM-A2DC'</li>\n",
       "\t<li>'TCGA-GM-A2DM'</li>\n",
       "\t<li>'TCGA-GM-A2DN'</li>\n",
       "\t<li>'TCGA-A2-A04N'</li>\n",
       "\t<li>'TCGA-AQ-A04L'</li>\n",
       "\t<li>'TCGA-AR-A0U3'</li>\n",
       "\t<li>'TCGA-AR-A1AM'</li>\n",
       "\t<li>'TCGA-B6-A40C'</li>\n",
       "</ol>\n"
      ],
      "text/latex": [
       "\\begin{enumerate*}\n",
       "\\item 'TCGA-GM-A2DC'\n",
       "\\item 'TCGA-GM-A2DM'\n",
       "\\item 'TCGA-GM-A2DN'\n",
       "\\item 'TCGA-A2-A04N'\n",
       "\\item 'TCGA-AQ-A04L'\n",
       "\\item 'TCGA-AR-A0U3'\n",
       "\\item 'TCGA-AR-A1AM'\n",
       "\\item 'TCGA-B6-A40C'\n",
       "\\end{enumerate*}\n"
      ],
      "text/markdown": [
       "1. 'TCGA-GM-A2DC'\n",
       "2. 'TCGA-GM-A2DM'\n",
       "3. 'TCGA-GM-A2DN'\n",
       "4. 'TCGA-A2-A04N'\n",
       "5. 'TCGA-AQ-A04L'\n",
       "6. 'TCGA-AR-A0U3'\n",
       "7. 'TCGA-AR-A1AM'\n",
       "8. 'TCGA-B6-A40C'\n",
       "\n",
       "\n"
      ],
      "text/plain": [
       "[1] \"TCGA-GM-A2DC\" \"TCGA-GM-A2DM\" \"TCGA-GM-A2DN\" \"TCGA-A2-A04N\" \"TCGA-AQ-A04L\"\n",
       "[6] \"TCGA-AR-A0U3\" \"TCGA-AR-A1AM\" \"TCGA-B6-A40C\""
      ]
     },
     "metadata": {},
     "output_type": "display_data"
    }
   ],
   "source": [
    "print(length(low_risk))\n",
    "low_risk"
   ]
  },
  {
   "cell_type": "markdown",
   "metadata": {},
   "source": [
    "### Unknown of recurrence status"
   ]
  },
  {
   "cell_type": "code",
   "execution_count": 136,
   "metadata": {},
   "outputs": [
    {
     "data": {
      "text/html": [
       "440"
      ],
      "text/latex": [
       "440"
      ],
      "text/markdown": [
       "440"
      ],
      "text/plain": [
       "[1] 440"
      ]
     },
     "metadata": {},
     "output_type": "display_data"
    }
   ],
   "source": [
    "select <- c(poor, good, others)\n",
    "select <- select[select %in% unique(follow_up_hormone$bcr_patient_barcode)]\n",
    "unknown_recurrence <- select[select %notin% recurrence_occured &  select %notin% low_risk]\n",
    "length(unknown_recurrence)"
   ]
  },
  {
   "cell_type": "markdown",
   "metadata": {},
   "source": [
    "### Table of recurrence status and log details"
   ]
  },
  {
   "cell_type": "code",
   "execution_count": 144,
   "metadata": {},
   "outputs": [
    {
     "name": "stdout",
     "output_type": "stream",
     "text": [
      "'data.frame':\t493 obs. of  2 variables:\n",
      " $ case_barcode     : chr  \"TCGA-A2-A0EW\" \"TCGA-A7-A3RF\" \"TCGA-A8-A08O\" \"TCGA-D8-A73W\" ...\n",
      " $ recurrence_status: chr  \"Occured\" \"Occured\" \"Occured\" \"Occured\" ...\n",
      "NULL\n"
     ]
    },
    {
     "data": {
      "text/plain": [
       "\n",
       "Low risk  Occured  Unknown \n",
       "       8       45      440 "
      ]
     },
     "metadata": {},
     "output_type": "display_data"
    }
   ],
   "source": [
    "recurrence_status <- matrix(nrow=length(unique(follow_up_hormone$bcr_patient_barcode)), ncol=2)\n",
    "recurrence_status[,1] <- c(recurrence_occured, low_risk, unknown_recurrence)\n",
    "recurrence_status[,2] <- c(rep(\"Occured\", length(recurrence_occured)), \n",
    "                           rep(\"Low risk\", length(low_risk)), \n",
    "                           rep(\"Unknown\", length(unknown_recurrence)))\n",
    "\n",
    "recurrence_status <- as.data.frame(recurrence_status, stringsAsFactors = FALSE)\n",
    "colnames(recurrence_status) <- c(\"case_barcode\", \"recurrence_status\")\n",
    "print(str(recurrence_status))\n",
    "table(recurrence_status$recurrence_status)"
   ]
  },
  {
   "cell_type": "code",
   "execution_count": 145,
   "metadata": {},
   "outputs": [
    {
     "name": "stdout",
     "output_type": "stream",
     "text": [
      "'data.frame':\t493 obs. of  3 variables:\n",
      " $ case_barcode     : chr  \"TCGA-5T-A9QA\" \"TCGA-A2-A04N\" \"TCGA-A2-A04R\" \"TCGA-A2-A04V\" ...\n",
      " $ recurrence_status: chr  \"Unknown\" \"Low risk\" \"Unknown\" \"Occured\" ...\n",
      " $ recurrence_log   : chr  \"Unknown neoplasm status\" \"Alive tumor free after risky period\" \"Alive tumor free, last follow-up within risky period\" \"New tumor after/during treatment\" ...\n"
     ]
    }
   ],
   "source": [
    "recurrence <- merge(x = recurrence_status, y = log, by = \"case_barcode\", all = TRUE)\n",
    "str(recurrence)"
   ]
  },
  {
   "cell_type": "markdown",
   "metadata": {},
   "source": [
    "## Merged table of hormone therapy initial responses + recurrence statuses"
   ]
  },
  {
   "cell_type": "code",
   "execution_count": 146,
   "metadata": {},
   "outputs": [
    {
     "name": "stdout",
     "output_type": "stream",
     "text": [
      "'data.frame':\t500 obs. of  4 variables:\n",
      " $ case_barcode     : chr  \"TCGA-5L-AAT0\" \"TCGA-5L-AAT1\" \"TCGA-5T-A9QA\" \"TCGA-A1-A0SF\" ...\n",
      " $ initial_response : chr  \"Unknown\" \"Unknown\" \"Unknown\" \"Unknown\" ...\n",
      " $ recurrence_status: chr  NA NA \"Unknown\" NA ...\n",
      " $ recurrence_log   : chr  NA NA \"Unknown neoplasm status\" NA ...\n"
     ]
    }
   ],
   "source": [
    "hormone_response_recurrence <- merge(x = initial_response, y = recurrence, by = \"case_barcode\", all = TRUE)\n",
    "str(hormone_response_recurrence)"
   ]
  },
  {
   "cell_type": "code",
   "execution_count": 147,
   "metadata": {},
   "outputs": [],
   "source": [
    "write.table(hormone_response_recurrence, \"./metadata/hormone_response_recurrence.tsv\", sep=\"\\t\", row.names=FALSE)"
   ]
  },
  {
   "cell_type": "markdown",
   "metadata": {},
   "source": [
    "**All either dead or alive is tumor free** ==> We classify the group by the `days_to_last_followup = f` or `days_to_death = d`.\n",
    "\n",
    "Take `e` = `days_to_drug_therapy_end` of `max(days_to_drug_therapy_start)`, <br/>\n",
    "`t` = `e` if  else `max(days_to_drug_therapy_start)`\n",
    "\n",
    "If `!is.na(e)` <br/>\n",
    "    AND the last follow-up day > 5 years after therapy end, meaning `[max(f) - e]/365 > 5` <br/>\n",
    "        OR `[d - t]/365 > 5` ==> Low risk of recurrence\n",
    "        \n",
    "Elif `[max(f) - max(days_to_drug_therapy_start)] > 10` OR `[d - max(days_to_drug_therapy_start)] > 10` <br/>\n",
    "    ==> Low risk of recurrence\n",
    "    \n",
    "Else ==> Unknown risk of recurrence"
   ]
  }
 ],
 "metadata": {
  "kernelspec": {
   "display_name": "R",
   "language": "R",
   "name": "ir"
  },
  "language_info": {
   "codemirror_mode": "r",
   "file_extension": ".r",
   "mimetype": "text/x-r-source",
   "name": "R",
   "pygments_lexer": "r",
   "version": "3.5.1"
  }
 },
 "nbformat": 4,
 "nbformat_minor": 2
}
